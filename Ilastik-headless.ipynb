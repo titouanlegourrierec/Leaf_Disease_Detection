{
 "cells": [
  {
   "cell_type": "code",
   "execution_count": 42,
   "metadata": {},
   "outputs": [],
   "source": [
    "import subprocess\n",
    "import cv2\n",
    "import matplotlib.pyplot as plt\n",
    "import subprocess\n",
    "import time\n",
    "import os\n",
    "import glob"
   ]
  },
  {
   "cell_type": "code",
   "execution_count": 43,
   "metadata": {},
   "outputs": [],
   "source": [
    "def get_image_paths(image_folder):\n",
    "    # Get the list of all image files in the specified folder\n",
    "    image_paths = glob.glob(os.path.join(image_folder, '*'))\n",
    "    return image_paths"
   ]
  },
  {
   "cell_type": "code",
   "execution_count": 44,
   "metadata": {},
   "outputs": [],
   "source": [
    "def run_ilastik(input_path, ilastik_script_path, project_path, result_base_path, export_source=\"Simple Segmentation\", output_format=\"png\"):\n",
    "    \"\"\"\n",
    "    This function runs the Ilastik software in headless mode with the specified parameters.\n",
    "\n",
    "    Parameters:\n",
    "    input_path (str): The path to the image file or folder to be processed.\n",
    "    ilastik_script_path (str): The path to the Ilastik script.\n",
    "    project_path (str): The path to the Ilastik project file.\n",
    "    result_base_path (str): The base path where the result will be saved.\n",
    "    export_source (str, optional): The type of data to export. Default is \"Simple Segmentation\". Must be one of [\"Probabilities\", \"Simple Segmentation\", \"Uncertainty\", \"Features\", \"Labels\"].\n",
    "    output_format (str, optional): The format of the output file. Default is \"png\". Must be one of [\"bmp\", \"gif\", \"hdr\", \"jpeg\", \"jpg\", \"pbm\", \"pgm\", \"png\", \"pnm\", \"ppm\", \"ras\", \"tif\", \"tiff\", \"xv\", \"bmp sequence\", \"gif sequence\", \"hdr sequence\", \"jpeg sequence\", \"jpg sequence\", \"pbm sequence\", \"pgm sequence\", \"png sequence\", \"pnm sequence\", \"ppm sequence\", \"ras sequence\", \"tif sequence\", \"tiff sequence\", \"xv sequence\", \"multipage tiff\", \"multipage tiff sequence\", \"hdf5\", \"compressed hdf5\", \"numpy, dvid\"].\n",
    "\n",
    "    Returns:\n",
    "    None\n",
    "\n",
    "    Raises:\n",
    "    ValueError: If export_source or output_format is not in the allowed list.\n",
    "    subprocess.CalledProcessError: If there is an error during the execution of the Ilastik command.\n",
    "    \"\"\"\n",
    "    \n",
    "    ALLOWED_SOURCES = [\"Probabilities\", \"Simple Segmentation\", \"Uncertainty\", \"Features\", \"Labels\"]\n",
    "    ALLOWED_FORMATS = [\"bmp\", \"gif\", \"hdr\", \"jpeg\", \"jpg\", \"pbm\", \"pgm\", \"png\", \"pnm\", \"ppm\", \"ras\",\n",
    "                    \"tif\", \"tiff\", \"xv\", \"bmp sequence\", \"gif sequence\", \"hdr sequence\", \"jpeg sequence\",\n",
    "                    \"jpg sequence\", \"pbm sequence\", \"pgm sequence\", \"png sequence\", \"pnm sequence\",\n",
    "                    \"ppm sequence\", \"ras sequence\", \"tif sequence\", \"tiff sequence\", \"xv sequence\",\n",
    "                    \"multipage tiff\", \"multipage tiff sequence\", \"hdf5\", \"compressed hdf5\", \"numpy, dvid\"]\n",
    "    \n",
    "    if export_source not in ALLOWED_SOURCES:\n",
    "        raise ValueError(f\"Invalid export_source. Allowed values are {ALLOWED_SOURCES}\")\n",
    "    \n",
    "    if output_format not in ALLOWED_FORMATS:\n",
    "        raise ValueError(f\"Invalid output_format. Allowed values are {ALLOWED_FORMATS}\")\n",
    "    \n",
    "    # Check if result_base_path exists, if not, create it\n",
    "    if not os.path.exists(result_base_path):\n",
    "        os.makedirs(result_base_path)\n",
    "\n",
    "# Check if input_path is a directory or a file\n",
    "    if os.path.isdir(input_path):\n",
    "        image_arg = get_image_paths(input_path)\n",
    "        # Arguments to execute Ilastik in headless mode\n",
    "        ilastik_args = [\n",
    "            ilastik_script_path,\n",
    "            \"--headless\",\n",
    "            \"--project=\" + project_path,\n",
    "            \"--export_source=\" + export_source,\n",
    "            \"--output_format=\" + output_format,\n",
    "            \"--output_filename_format=\" + result_base_path + \"{nickname}_\" + export_source.replace(\" \", \"_\"),\n",
    "            *image_arg\n",
    "        ]\n",
    "    else:\n",
    "        image_arg = input_path\n",
    "        # Arguments to execute Ilastik in headless mode\n",
    "        ilastik_args = [\n",
    "            ilastik_script_path,\n",
    "            \"--headless\",\n",
    "            \"--project=\" + project_path,\n",
    "            \"--export_source=\" + export_source,\n",
    "            \"--output_format=\" + output_format,\n",
    "            \"--output_filename_format=\" + result_base_path + \"{nickname}_\" + export_source.replace(\" \", \"_\"),\n",
    "            image_arg\n",
    "        ]\n",
    "\n",
    "    # Execute the Ilastik command in headless mode with the specified arguments\n",
    "    try:\n",
    "        subprocess.run(ilastik_args, check=True)\n",
    "        print(f\"Conversion of {input_path} completed successfully\")\n",
    "    except subprocess.CalledProcessError as e:\n",
    "        print(\"Error during conversion : \", e)\n",
    "        raise RuntimeError(\"Error during Ilastik execution. See console output for details.\")"
   ]
  },
  {
   "cell_type": "code",
   "execution_count": 22,
   "metadata": {},
   "outputs": [],
   "source": [
    "def display_images(image_path, result_base_path, export_source, output_format):\n",
    "    \"\"\"\n",
    "    This function reads an original image and its corresponding result image, concatenates them horizontally, and displays the concatenated image.\n",
    "\n",
    "    Parameters:\n",
    "    image_path (str): The path to the original image file.\n",
    "    result_base_path (str): The base path where the result image is saved.\n",
    "    export_source (str): The type of data that was exported to create the result image.\n",
    "    output_format (str): The format of the result image file.\n",
    "\n",
    "    Returns:\n",
    "    None\n",
    "\n",
    "    Note:\n",
    "    The function assumes that the result image file is named by replacing the \".jpg\" extension of the original image file name with \"_{export_source}.{output_format}\", where {export_source} is the export_source parameter with spaces replaced by underscores.\n",
    "\n",
    "    The function uses OpenCV to read the images and Matplotlib to display the concatenated image. The images are concatenated horizontally using cv2.hconcat. The concatenated image is displayed in RGB color space, so the function converts the color space from BGR to RGB using cv2.cvtColor.\n",
    "    \"\"\"\n",
    "    \n",
    "    input_filename = os.path.basename(image_path)\n",
    "\n",
    "    result_path = os.path.join(result_base_path, input_filename.replace(\".jpg\", \"_\" + export_source.replace(\" \", \"_\") + \".\" + output_format))\n",
    "\n",
    "    img = cv2.imread(image_path)\n",
    "    result = cv2.imread(result_path)\n",
    "\n",
    "    concatenated_img = cv2.hconcat([img, result])\n",
    "\n",
    "    plt.figure(figsize=(15, 15))\n",
    "    plt.imshow(cv2.cvtColor(concatenated_img, cv2.COLOR_BGR2RGB))\n",
    "    plt.axis('off')\n",
    "    plt.show()"
   ]
  },
  {
   "cell_type": "code",
   "execution_count": 40,
   "metadata": {},
   "outputs": [
    {
     "name": "stderr",
     "output_type": "stream",
     "text": [
      "Warning: Ignoring your non-empty LD_LIBRARY_PATH\n"
     ]
    },
    {
     "name": "stdout",
     "output_type": "stream",
     "text": [
      "INFO ilastik.app: Using tiktorch executable: ['/Applications/ilastik-1.4.0.post1-OSX.app/Contents/ilastik-release/bin/python', '-m', 'tiktorch.server']\n",
      "INFO ilastik.app: config file location: <none>\n",
      "INFO ilastik.app: Starting ilastik from \"/Applications/ilastik-1.4.0.post1-OSX.app/Contents/ilastik-release/lib/python3.7\".\n",
      "Starting ilastik from \"/Applications/ilastik-1.4.0.post1-OSX.app/Contents/ilastik-release/lib/python3.7\".\n"
     ]
    },
    {
     "name": "stderr",
     "output_type": "stream",
     "text": [
      "WARNING 2024-04-10 15:29:38,144 opConservationTracking 56124 8670007872 Could not find any ILP solver\n",
      "WARNING 2024-04-10 15:29:38,154 opStructuredTracking 56124 8670007872 Could not find any ILP solver\n",
      "WARNING 2024-04-10 15:29:38,157 structuredTrackingWorkflow 56124 8670007872 Could not find any learning solver. Tracking will use flow-based solver (DPCT). Learning for tracking will be disabled!\n"
     ]
    },
    {
     "name": "stdout",
     "output_type": "stream",
     "text": [
      "INFO ilastik.shell.projectManager: Opening Project: /Users/titouanlegourrierec/Desktop/labelisation3.ilp\n",
      "INFO ilastik.workflows.pixelClassification.pixelClassificationWorkflow: Beginning Batch Processing\n",
      "INFO ilastik.applets.dataSelection.dataSelectionApplet: Using axistags from previous lane: [y x c, None]\n",
      "INFO ilastik.applets.batchProcessing.batchProcessingApplet: Exporting to /Users/titouanlegourrierec/Desktop/ilastik_result/664_leaf3_Simple_Segmentation.png\n",
      "INFO lazyflow.utility.bigRequestStreamer: Estimated RAM usage per pixel is 212.0B * safety factor (2.0)\n",
      "INFO lazyflow.utility.bigRequestStreamer: determining blockshape assuming available_ram is 10.9GiB, split between 8 threads\n",
      "INFO lazyflow.utility.bigRequestStreamer: Chose blockshape: (4169, 831, 4)\n",
      "INFO lazyflow.utility.bigRequestStreamer: Estimated RAM usage per block is 1.4GiB\n",
      "DEBUG lazyflow.operators.classifierOperators: Features took 1.6230820000000001 seconds. Prediction took 10.302567 seconds. Subregion: start '[0, 0, 0]' stop '[4169, 831, 4]'\n",
      "DEBUG lazyflow.operators.classifierOperators: Features took 1.6830859999999999 seconds. Prediction took 10.670587 seconds. Subregion: start '[4169, 0, 0]' stop '[8338, 831, 4]'\n",
      "DEBUG lazyflow.operators.classifierOperators: Features took 6.989087 seconds. Prediction took 5.756378 seconds. Subregion: start '[8338, 0, 0]' stop '[9317, 831, 4]'\n",
      "INFO ilastik.applets.batchProcessing.batchProcessingApplet: Exporting to /Users/titouanlegourrierec/Desktop/ilastik_result/111_leaf2_Simple_Segmentation.png\n",
      "INFO lazyflow.utility.bigRequestStreamer: Estimated RAM usage per pixel is 212.0B * safety factor (2.0)\n",
      "INFO lazyflow.utility.bigRequestStreamer: determining blockshape assuming available_ram is 10.9GiB, split between 8 threads\n",
      "INFO lazyflow.utility.bigRequestStreamer: Chose blockshape: (3417, 1014, 4)\n",
      "INFO lazyflow.utility.bigRequestStreamer: Estimated RAM usage per block is 1.4GiB\n",
      "DEBUG lazyflow.operators.classifierOperators: Features took 1.7308189999999999 seconds. Prediction took 11.14465 seconds. Subregion: start '[0, 0, 0]' stop '[3417, 1014, 4]'\n",
      "DEBUG lazyflow.operators.classifierOperators: Features took 2.421144 seconds. Prediction took 11.01316 seconds. Subregion: start '[3417, 0, 0]' stop '[6834, 1014, 4]'\n",
      "DEBUG lazyflow.operators.classifierOperators: Features took 12.730225 seconds. Prediction took 1.218877 seconds. Subregion: start '[10251, 0, 0]' stop '[11056, 1014, 4]'\n",
      "DEBUG lazyflow.operators.classifierOperators: Features took 13.479359 seconds. Prediction took 4.409338 seconds. Subregion: start '[6834, 0, 0]' stop '[10251, 1014, 4]'\n",
      "INFO ilastik.applets.batchProcessing.batchProcessingApplet: Exporting to /Users/titouanlegourrierec/Desktop/ilastik_result/672_leaf2_Simple_Segmentation.png\n",
      "INFO lazyflow.utility.bigRequestStreamer: Estimated RAM usage per pixel is 212.0B * safety factor (2.0)\n",
      "INFO lazyflow.utility.bigRequestStreamer: determining blockshape assuming available_ram is 10.9GiB, split between 8 threads\n",
      "INFO lazyflow.utility.bigRequestStreamer: Chose blockshape: (3370, 1028, 4)\n",
      "INFO lazyflow.utility.bigRequestStreamer: Estimated RAM usage per block is 1.4GiB\n",
      "DEBUG lazyflow.operators.classifierOperators: Features took 1.616352 seconds. Prediction took 11.161103 seconds. Subregion: start '[0, 0, 0]' stop '[3370, 1028, 4]'\n",
      "DEBUG lazyflow.operators.classifierOperators: Features took 2.315878 seconds. Prediction took 10.8309 seconds. Subregion: start '[3370, 0, 0]' stop '[6740, 1028, 4]'\n",
      "DEBUG lazyflow.operators.classifierOperators: Features took 13.028792 seconds. Prediction took 5.254163 seconds. Subregion: start '[10110, 0, 0]' stop '[10846, 1028, 4]'\n",
      "DEBUG lazyflow.operators.classifierOperators: Features took 13.188437 seconds. Prediction took 5.129943 seconds. Subregion: start '[6740, 0, 0]' stop '[10110, 1028, 4]'\n",
      "INFO ilastik.applets.batchProcessing.batchProcessingApplet: Exporting to /Users/titouanlegourrierec/Desktop/ilastik_result/654_leaf4_Simple_Segmentation.png\n",
      "INFO lazyflow.utility.bigRequestStreamer: Estimated RAM usage per pixel is 212.0B * safety factor (2.0)\n",
      "INFO lazyflow.utility.bigRequestStreamer: determining blockshape assuming available_ram is 10.9GiB, split between 8 threads\n",
      "INFO lazyflow.utility.bigRequestStreamer: Chose blockshape: (3482, 995, 4)\n",
      "INFO lazyflow.utility.bigRequestStreamer: Estimated RAM usage per block is 1.4GiB\n",
      "DEBUG lazyflow.operators.classifierOperators: Features took 1.6316190000000002 seconds. Prediction took 10.294185 seconds. Subregion: start '[0, 0, 0]' stop '[3482, 995, 4]'\n",
      "DEBUG lazyflow.operators.classifierOperators: Features took 2.406719 seconds. Prediction took 10.12616 seconds. Subregion: start '[3482, 0, 0]' stop '[6964, 995, 4]'\n",
      "DEBUG lazyflow.operators.classifierOperators: Features took 12.582118 seconds. Prediction took 6.005967 seconds. Subregion: start '[6964, 0, 0]' stop '[10446, 995, 4]'\n",
      "DEBUG lazyflow.operators.classifierOperators: Features took 11.958392 seconds. Prediction took 6.514104 seconds. Subregion: start '[10446, 0, 0]' stop '[12040, 995, 4]'\n",
      "INFO ilastik.applets.batchProcessing.batchProcessingApplet: Exporting to /Users/titouanlegourrierec/Desktop/ilastik_result/684_leaf3_Simple_Segmentation.png\n",
      "INFO lazyflow.utility.bigRequestStreamer: Estimated RAM usage per pixel is 212.0B * safety factor (2.0)\n",
      "INFO lazyflow.utility.bigRequestStreamer: determining blockshape assuming available_ram is 10.9GiB, split between 8 threads\n",
      "INFO lazyflow.utility.bigRequestStreamer: Chose blockshape: (2756, 1257, 4)\n",
      "INFO lazyflow.utility.bigRequestStreamer: Estimated RAM usage per block is 1.4GiB\n",
      "DEBUG lazyflow.operators.classifierOperators: Features took 1.641505 seconds. Prediction took 8.566929 seconds. Subregion: start '[2756, 0, 0]' stop '[5512, 1257, 4]'\n",
      "DEBUG lazyflow.operators.classifierOperators: Features took 1.622804 seconds. Prediction took 8.707029 seconds. Subregion: start '[0, 0, 0]' stop '[2756, 1257, 4]'\n",
      "DEBUG lazyflow.operators.classifierOperators: Features took 10.187771 seconds. Prediction took 3.169746 seconds. Subregion: start '[5512, 0, 0]' stop '[8268, 1257, 4]'\n",
      "DEBUG lazyflow.operators.classifierOperators: Features took 10.186815 seconds. Prediction took 3.510694 seconds. Subregion: start '[8268, 0, 0]' stop '[8699, 1257, 4]'\n",
      "INFO ilastik.workflows.pixelClassification.pixelClassificationWorkflow: Completed Batch Processing\n",
      "Conversion of /Users/titouanlegourrierec/Desktop/selection_feuilles/TITOUAN completed successfully\n",
      "Execution time: 89.665 seconds\n"
     ]
    },
    {
     "data": {
      "text/plain": [
       "'\\ndisplay_images(image_path = image_path,\\n               result_base_path = result_base_path,\\n               export_source = export_source,\\n               output_format = output_format)\\n'"
      ]
     },
     "execution_count": 40,
     "metadata": {},
     "output_type": "execute_result"
    }
   ],
   "source": [
    "input_path = \"/Users/titouanlegourrierec/Desktop/selection_feuilles/TITOUAN\"\n",
    "ilastik_script_path = \"/Applications/ilastik-1.4.0.post1-OSX.app/Contents/ilastik-release/run_ilastik.sh\"\n",
    "project_path = \"/Users/titouanlegourrierec/Desktop/labelisation3.ilp\"\n",
    "result_base_path = \"/Users/titouanlegourrierec/Desktop/ilastik_result/\"\n",
    "export_source = \"Simple Segmentation\"\n",
    "output_format = \"png\"\n",
    "\n",
    "start_time = time.time()\n",
    "run_ilastik(input_path = input_path,\n",
    "            ilastik_script_path = ilastik_script_path,\n",
    "            project_path = project_path,\n",
    "            result_base_path = result_base_path,\n",
    "            export_source = export_source,\n",
    "            output_format = output_format)\n",
    "end_time = time.time()\n",
    "print(f\"Execution time: {(end_time - start_time):.3f} seconds\")\n",
    "\n",
    "'''\n",
    "display_images(image_path = image_path,\n",
    "               result_base_path = result_base_path,\n",
    "               export_source = export_source,\n",
    "               output_format = output_format)\n",
    "'''"
   ]
  },
  {
   "cell_type": "code",
   "execution_count": 7,
   "metadata": {},
   "outputs": [
    {
     "name": "stderr",
     "output_type": "stream",
     "text": [
      "Warning: Ignoring your non-empty LD_LIBRARY_PATH\n"
     ]
    },
    {
     "name": "stdout",
     "output_type": "stream",
     "text": [
      "INFO ilastik.app: Using tiktorch executable: ['/Applications/ilastik-1.4.0.post1-OSX.app/Contents/ilastik-release/bin/python', '-m', 'tiktorch.server']\n",
      "INFO ilastik.app: config file location: <none>\n",
      "INFO ilastik.app: Starting ilastik from \"/Applications/ilastik-1.4.0.post1-OSX.app/Contents/ilastik-release/lib/python3.7\".\n",
      "Starting ilastik from \"/Applications/ilastik-1.4.0.post1-OSX.app/Contents/ilastik-release/lib/python3.7\".\n"
     ]
    },
    {
     "name": "stderr",
     "output_type": "stream",
     "text": [
      "WARNING 2024-04-09 18:56:55,632 opConservationTracking 61840 8602210880 Could not find any ILP solver\n",
      "WARNING 2024-04-09 18:56:55,640 opStructuredTracking 61840 8602210880 Could not find any ILP solver\n",
      "WARNING 2024-04-09 18:56:55,643 structuredTrackingWorkflow 61840 8602210880 Could not find any learning solver. Tracking will use flow-based solver (DPCT). Learning for tracking will be disabled!\n"
     ]
    },
    {
     "name": "stdout",
     "output_type": "stream",
     "text": [
      "INFO ilastik.shell.projectManager: Opening Project: /Users/titouanlegourrierec/Desktop/selection_feuilles/Sheet77_leaf3.jpg\n"
     ]
    },
    {
     "name": "stderr",
     "output_type": "stream",
     "text": [
      "ERROR 2024-04-09 18:56:56,666 excepthooks 61840 8602210880 Unhandled exception in thread: 'MainThread'\n",
      "ERROR 2024-04-09 18:56:56,667 excepthooks 61840 8602210880 Traceback (most recent call last):\n",
      "  File \"/Applications/ilastik-1.4.0.post1-OSX.app/Contents/ilastik-release/lib/python3.7/site-packages/ilastik/shell/projectManager.py\", line 150, in openProjectFile\n",
      "    hdf5File = h5py.File(projectFilePath, mode)\n",
      "  File \"/Applications/ilastik-1.4.0.post1-OSX.app/Contents/ilastik-release/lib/python3.7/site-packages/h5py/_hl/files.py\", line 533, in __init__\n",
      "    fid = make_fid(name, mode, userblock_size, fapl, fcpl, swmr=swmr)\n",
      "  File \"/Applications/ilastik-1.4.0.post1-OSX.app/Contents/ilastik-release/lib/python3.7/site-packages/h5py/_hl/files.py\", line 226, in make_fid\n",
      "    fid = h5f.open(name, flags, fapl=fapl)\n",
      "  File \"h5py/_objects.pyx\", line 54, in h5py._objects.with_phil.wrapper\n",
      "  File \"h5py/_objects.pyx\", line 55, in h5py._objects.with_phil.wrapper\n",
      "  File \"h5py/h5f.pyx\", line 106, in h5py.h5f.open\n",
      "OSError: Unable to open file (file signature not found)\n",
      "\n",
      "During handling of the above exception, another exception occurred:\n",
      "\n",
      "Traceback (most recent call last):\n",
      "  File \"/Applications/ilastik-1.4.0.post1-OSX.app/Contents/ilastik-release/bin/ilastik\", line 10, in <module>\n",
      "    sys.exit(main())\n",
      "  File \"/Applications/ilastik-1.4.0.post1-OSX.app/Contents/ilastik-release/lib/python3.7/site-packages/ilastik_scripts/ilastik_startup.py\", line 146, in main\n",
      "    main()\n",
      "  File \"/Applications/ilastik-1.4.0.post1-OSX.app/Contents/ilastik-release/lib/python3.7/site-packages/ilastik/__main__.py\", line 30, in main\n",
      "    hShell = app.main(parsed_args, workflow_cmdline_args)\n",
      "  File \"/Applications/ilastik-1.4.0.post1-OSX.app/Contents/ilastik-release/lib/python3.7/site-packages/ilastik/app.py\", line 204, in main\n",
      "    f(shell)\n",
      "  File \"/Applications/ilastik-1.4.0.post1-OSX.app/Contents/ilastik-release/lib/python3.7/site-packages/ilastik/app.py\", line 399, in loadProject\n",
      "    shell.openProjectFile(path, parsed_args.readonly)\n",
      "  File \"/Applications/ilastik-1.4.0.post1-OSX.app/Contents/ilastik-release/lib/python3.7/site-packages/ilastik/shell/headless/headlessShell.py\", line 94, in openProjectFile\n",
      "    hdf5File, workflow_class, readOnly = ProjectManager.openProjectFile(projectFilePath, force_readonly)\n",
      "  File \"/Applications/ilastik-1.4.0.post1-OSX.app/Contents/ilastik-release/lib/python3.7/site-packages/ilastik/shell/projectManager.py\", line 153, in openProjectFile\n",
      "    hdf5File = h5py.File(projectFilePath, \"r\")\n",
      "  File \"/Applications/ilastik-1.4.0.post1-OSX.app/Contents/ilastik-release/lib/python3.7/site-packages/h5py/_hl/files.py\", line 533, in __init__\n",
      "    fid = make_fid(name, mode, userblock_size, fapl, fcpl, swmr=swmr)\n",
      "  File \"/Applications/ilastik-1.4.0.post1-OSX.app/Contents/ilastik-release/lib/python3.7/site-packages/h5py/_hl/files.py\", line 226, in make_fid\n",
      "    fid = h5f.open(name, flags, fapl=fapl)\n",
      "  File \"h5py/_objects.pyx\", line 54, in h5py._objects.with_phil.wrapper\n",
      "  File \"h5py/_objects.pyx\", line 55, in h5py._objects.with_phil.wrapper\n",
      "  File \"h5py/h5f.pyx\", line 106, in h5py.h5f.open\n",
      "OSError: Unable to open file (file signature not found)\n",
      "\n"
     ]
    },
    {
     "name": "stdout",
     "output_type": "stream",
     "text": [
      "Error during conversion :  Command '['/Applications/ilastik-1.4.0.post1-OSX.app/Contents/ilastik-release/run_ilastik.sh', '--headless', '--project=/Users/titouanlegourrierec/Desktop/selection_feuilles/Sheet77_leaf3.jpg', '--export_source=Simple Segmentation', '--output_format=png', '--output_filename_format=/Users/titouanlegourrierec/Desktop/ilastik_result/{nickname}_Simple_Segmentation', '/Users/titouanlegourrierec/Desktop/Sheet47_leaf2.jpg']' returned non-zero exit status 1.\n"
     ]
    },
    {
     "ename": "RuntimeError",
     "evalue": "Error during Ilastik execution. See console output for details.",
     "output_type": "error",
     "traceback": [
      "\u001b[0;31m---------------------------------------------------------------------------\u001b[0m",
      "\u001b[0;31mCalledProcessError\u001b[0m                        Traceback (most recent call last)",
      "Cell \u001b[0;32mIn[3], line 51\u001b[0m, in \u001b[0;36mrun_ilastik\u001b[0;34m(image_path, ilastik_script_path, project_path, result_base_path, export_source, output_format)\u001b[0m\n\u001b[1;32m     50\u001b[0m \u001b[38;5;28;01mtry\u001b[39;00m:\n\u001b[0;32m---> 51\u001b[0m     subprocess\u001b[38;5;241m.\u001b[39mrun(ilastik_args, check\u001b[38;5;241m=\u001b[39m\u001b[38;5;28;01mTrue\u001b[39;00m)\n\u001b[1;32m     52\u001b[0m     \u001b[38;5;28mprint\u001b[39m(\u001b[38;5;124m\"\u001b[39m\u001b[38;5;124mConversion completed successfully\u001b[39m\u001b[38;5;124m\"\u001b[39m)\n",
      "File \u001b[0;32m~/anaconda3/lib/python3.11/subprocess.py:571\u001b[0m, in \u001b[0;36mrun\u001b[0;34m(input, capture_output, timeout, check, *popenargs, **kwargs)\u001b[0m\n\u001b[1;32m    570\u001b[0m     \u001b[38;5;28;01mif\u001b[39;00m check \u001b[38;5;129;01mand\u001b[39;00m retcode:\n\u001b[0;32m--> 571\u001b[0m         \u001b[38;5;28;01mraise\u001b[39;00m CalledProcessError(retcode, process\u001b[38;5;241m.\u001b[39margs,\n\u001b[1;32m    572\u001b[0m                                  output\u001b[38;5;241m=\u001b[39mstdout, stderr\u001b[38;5;241m=\u001b[39mstderr)\n\u001b[1;32m    573\u001b[0m \u001b[38;5;28;01mreturn\u001b[39;00m CompletedProcess(process\u001b[38;5;241m.\u001b[39margs, retcode, stdout, stderr)\n",
      "\u001b[0;31mCalledProcessError\u001b[0m: Command '['/Applications/ilastik-1.4.0.post1-OSX.app/Contents/ilastik-release/run_ilastik.sh', '--headless', '--project=/Users/titouanlegourrierec/Desktop/selection_feuilles/Sheet77_leaf3.jpg', '--export_source=Simple Segmentation', '--output_format=png', '--output_filename_format=/Users/titouanlegourrierec/Desktop/ilastik_result/{nickname}_Simple_Segmentation', '/Users/titouanlegourrierec/Desktop/Sheet47_leaf2.jpg']' returned non-zero exit status 1.",
      "\nDuring handling of the above exception, another exception occurred:\n",
      "\u001b[0;31mRuntimeError\u001b[0m                              Traceback (most recent call last)",
      "Cell \u001b[0;32mIn[7], line 9\u001b[0m\n\u001b[1;32m      6\u001b[0m output_format \u001b[38;5;241m=\u001b[39m \u001b[38;5;124m\"\u001b[39m\u001b[38;5;124mpng\u001b[39m\u001b[38;5;124m\"\u001b[39m\n\u001b[1;32m      8\u001b[0m start_time \u001b[38;5;241m=\u001b[39m time\u001b[38;5;241m.\u001b[39mtime()\n\u001b[0;32m----> 9\u001b[0m run_ilastik(image_path \u001b[38;5;241m=\u001b[39m image_path,\n\u001b[1;32m     10\u001b[0m             ilastik_script_path \u001b[38;5;241m=\u001b[39m ilastik_script_path,\n\u001b[1;32m     11\u001b[0m             project_path \u001b[38;5;241m=\u001b[39m project_path,\n\u001b[1;32m     12\u001b[0m             result_base_path \u001b[38;5;241m=\u001b[39m result_base_path,\n\u001b[1;32m     13\u001b[0m             export_source \u001b[38;5;241m=\u001b[39m export_source,\n\u001b[1;32m     14\u001b[0m             output_format \u001b[38;5;241m=\u001b[39m output_format)\n\u001b[1;32m     15\u001b[0m end_time \u001b[38;5;241m=\u001b[39m time\u001b[38;5;241m.\u001b[39mtime()\n\u001b[1;32m     16\u001b[0m \u001b[38;5;28mprint\u001b[39m(\u001b[38;5;124mf\u001b[39m\u001b[38;5;124m\"\u001b[39m\u001b[38;5;124mExecution time: \u001b[39m\u001b[38;5;132;01m{\u001b[39;00m(end_time\u001b[38;5;250m \u001b[39m\u001b[38;5;241m-\u001b[39m\u001b[38;5;250m \u001b[39mstart_time)\u001b[38;5;132;01m:\u001b[39;00m\u001b[38;5;124m.3f\u001b[39m\u001b[38;5;132;01m}\u001b[39;00m\u001b[38;5;124m seconds\u001b[39m\u001b[38;5;124m\"\u001b[39m)\n",
      "Cell \u001b[0;32mIn[3], line 55\u001b[0m, in \u001b[0;36mrun_ilastik\u001b[0;34m(image_path, ilastik_script_path, project_path, result_base_path, export_source, output_format)\u001b[0m\n\u001b[1;32m     53\u001b[0m \u001b[38;5;28;01mexcept\u001b[39;00m subprocess\u001b[38;5;241m.\u001b[39mCalledProcessError \u001b[38;5;28;01mas\u001b[39;00m e:\n\u001b[1;32m     54\u001b[0m     \u001b[38;5;28mprint\u001b[39m(\u001b[38;5;124m\"\u001b[39m\u001b[38;5;124mError during conversion : \u001b[39m\u001b[38;5;124m\"\u001b[39m, e)\n\u001b[0;32m---> 55\u001b[0m     \u001b[38;5;28;01mraise\u001b[39;00m \u001b[38;5;167;01mRuntimeError\u001b[39;00m(\u001b[38;5;124m\"\u001b[39m\u001b[38;5;124mError during Ilastik execution. See console output for details.\u001b[39m\u001b[38;5;124m\"\u001b[39m)\n",
      "\u001b[0;31mRuntimeError\u001b[0m: Error during Ilastik execution. See console output for details."
     ]
    }
   ],
   "source": [
    "image_path = \"/Users/titouanlegourrierec/Desktop/Sheet47_leaf2.jpg\"\n",
    "ilastik_script_path = \"/Applications/ilastik-1.4.0.post1-OSX.app/Contents/ilastik-release/run_ilastik.sh\"\n",
    "project_path = \"/Users/titouanlegourrierec/Desktop/selection_feuilles/Sheet77_leaf3.jpg\"\n",
    "result_base_path = \"/Users/titouanlegourrierec/Desktop/ilastik_result/\"\n",
    "export_source = \"Simple Segmentation\"\n",
    "output_format = \"png\"\n",
    "\n",
    "start_time = time.time()\n",
    "run_ilastik(image_path = image_path,\n",
    "            ilastik_script_path = ilastik_script_path,\n",
    "            project_path = project_path,\n",
    "            result_base_path = result_base_path,\n",
    "            export_source = export_source,\n",
    "            output_format = output_format)\n",
    "end_time = time.time()\n",
    "print(f\"Execution time: {(end_time - start_time):.3f} seconds\")\n",
    "\n",
    "\n",
    "display_images(image_path = image_path,\n",
    "               result_base_path = result_base_path,\n",
    "               export_source = export_source,\n",
    "               output_format = output_format)"
   ]
  },
  {
   "cell_type": "code",
   "execution_count": 9,
   "metadata": {},
   "outputs": [
    {
     "name": "stderr",
     "output_type": "stream",
     "text": [
      "Warning: Ignoring your non-empty LD_LIBRARY_PATH\n"
     ]
    },
    {
     "name": "stdout",
     "output_type": "stream",
     "text": [
      "INFO ilastik.app: Using tiktorch executable: ['/Applications/ilastik-1.4.0.post1-OSX.app/Contents/ilastik-release/bin/python', '-m', 'tiktorch.server']\n",
      "INFO ilastik.app: config file location: <none>\n",
      "INFO ilastik.app: Starting ilastik from \"/Applications/ilastik-1.4.0.post1-OSX.app/Contents/ilastik-release/lib/python3.7\".\n",
      "Starting ilastik from \"/Applications/ilastik-1.4.0.post1-OSX.app/Contents/ilastik-release/lib/python3.7\".\n"
     ]
    },
    {
     "name": "stderr",
     "output_type": "stream",
     "text": [
      "WARNING 2024-04-09 22:14:51,945 opConservationTracking 4188 8601047616 Could not find any ILP solver\n",
      "WARNING 2024-04-09 22:14:51,956 opStructuredTracking 4188 8601047616 Could not find any ILP solver\n",
      "WARNING 2024-04-09 22:14:51,959 structuredTrackingWorkflow 4188 8601047616 Could not find any learning solver. Tracking will use flow-based solver (DPCT). Learning for tracking will be disabled!\n"
     ]
    },
    {
     "name": "stdout",
     "output_type": "stream",
     "text": [
      "INFO ilastik.shell.projectManager: Opening Project: /Users/titouanlegourrierec/Desktop/labelisation3.ilp\n",
      "INFO ilastik.workflows.pixelClassification.pixelClassificationWorkflow: Beginning Batch Processing\n",
      "INFO ilastik.applets.dataSelection.dataSelectionApplet: Using axistags from previous lane: [y x c, None]\n",
      "INFO ilastik.applets.batchProcessing.batchProcessingApplet: Exporting to /Users/titouanlegourrierec/Desktop/ilastik_result/664_leaf3_Simple_Segmentation.png\n",
      "INFO lazyflow.utility.bigRequestStreamer: Estimated RAM usage per pixel is 212.0B * safety factor (2.0)\n",
      "INFO lazyflow.utility.bigRequestStreamer: determining blockshape assuming available_ram is 11.0GiB, split between 8 threads\n",
      "INFO lazyflow.utility.bigRequestStreamer: Chose blockshape: (4174, 831, 4)\n",
      "INFO lazyflow.utility.bigRequestStreamer: Estimated RAM usage per block is 1.4GiB\n",
      "DEBUG lazyflow.operators.classifierOperators: Features took 0.487791 seconds. Prediction took 5.998545 seconds. Subregion: start '[8348, 0, 0]' stop '[9317, 831, 4]'\n",
      "DEBUG lazyflow.operators.classifierOperators: Features took 1.647267 seconds. Prediction took 10.666642 seconds. Subregion: start '[0, 0, 0]' stop '[4174, 831, 4]'\n",
      "DEBUG lazyflow.operators.classifierOperators: Features took 1.798893 seconds. Prediction took 10.520721 seconds. Subregion: start '[4174, 0, 0]' stop '[8348, 831, 4]'\n",
      "INFO ilastik.applets.batchProcessing.batchProcessingApplet: Exporting to /Users/titouanlegourrierec/Desktop/ilastik_result/111_leaf2_Simple_Segmentation.png\n",
      "INFO lazyflow.utility.bigRequestStreamer: Estimated RAM usage per pixel is 212.0B * safety factor (2.0)\n",
      "INFO lazyflow.utility.bigRequestStreamer: determining blockshape assuming available_ram is 11.0GiB, split between 8 threads\n",
      "INFO lazyflow.utility.bigRequestStreamer: Chose blockshape: (3420, 1014, 4)\n",
      "INFO lazyflow.utility.bigRequestStreamer: Estimated RAM usage per block is 1.4GiB\n",
      "DEBUG lazyflow.operators.classifierOperators: Features took 1.627988 seconds. Prediction took 11.187431 seconds. Subregion: start '[0, 0, 0]' stop '[3420, 1014, 4]'\n",
      "DEBUG lazyflow.operators.classifierOperators: Features took 2.473921 seconds. Prediction took 11.416164 seconds. Subregion: start '[3420, 0, 0]' stop '[6840, 1014, 4]'\n",
      "DEBUG lazyflow.operators.classifierOperators: Features took 13.932812 seconds. Prediction took 4.225283 seconds. Subregion: start '[6840, 0, 0]' stop '[10260, 1014, 4]'\n",
      "DEBUG lazyflow.operators.classifierOperators: Features took 13.937356 seconds. Prediction took 4.850668 seconds. Subregion: start '[10260, 0, 0]' stop '[11056, 1014, 4]'\n",
      "INFO ilastik.applets.batchProcessing.batchProcessingApplet: Exporting to /Users/titouanlegourrierec/Desktop/ilastik_result/672_leaf2_Simple_Segmentation.png\n",
      "INFO lazyflow.utility.bigRequestStreamer: Estimated RAM usage per pixel is 212.0B * safety factor (2.0)\n",
      "INFO lazyflow.utility.bigRequestStreamer: determining blockshape assuming available_ram is 11.0GiB, split between 8 threads\n",
      "INFO lazyflow.utility.bigRequestStreamer: Chose blockshape: (3374, 1028, 4)\n",
      "INFO lazyflow.utility.bigRequestStreamer: Estimated RAM usage per block is 1.4GiB\n",
      "DEBUG lazyflow.operators.classifierOperators: Features took 1.537093 seconds. Prediction took 12.043301 seconds. Subregion: start '[0, 0, 0]' stop '[3374, 1028, 4]'\n",
      "DEBUG lazyflow.operators.classifierOperators: Features took 2.372459 seconds. Prediction took 11.173771 seconds. Subregion: start '[3374, 0, 0]' stop '[6748, 1028, 4]'\n",
      "DEBUG lazyflow.operators.classifierOperators: Features took 13.600943000000001 seconds. Prediction took 5.295334 seconds. Subregion: start '[6748, 0, 0]' stop '[10122, 1028, 4]'\n",
      "DEBUG lazyflow.operators.classifierOperators: Features took 13.603426 seconds. Prediction took 5.336907 seconds. Subregion: start '[10122, 0, 0]' stop '[10846, 1028, 4]'\n",
      "INFO ilastik.applets.batchProcessing.batchProcessingApplet: Exporting to /Users/titouanlegourrierec/Desktop/ilastik_result/654_leaf4_Simple_Segmentation.png\n",
      "INFO lazyflow.utility.bigRequestStreamer: Estimated RAM usage per pixel is 212.0B * safety factor (2.0)\n",
      "INFO lazyflow.utility.bigRequestStreamer: determining blockshape assuming available_ram is 11.0GiB, split between 8 threads\n",
      "INFO lazyflow.utility.bigRequestStreamer: Chose blockshape: (3486, 995, 4)\n",
      "INFO lazyflow.utility.bigRequestStreamer: Estimated RAM usage per block is 1.4GiB\n",
      "DEBUG lazyflow.operators.classifierOperators: Features took 1.690545 seconds. Prediction took 10.469902 seconds. Subregion: start '[0, 0, 0]' stop '[3486, 995, 4]'\n",
      "DEBUG lazyflow.operators.classifierOperators: Features took 2.446387 seconds. Prediction took 10.190265 seconds. Subregion: start '[3486, 0, 0]' stop '[6972, 995, 4]'\n",
      "DEBUG lazyflow.operators.classifierOperators: Features took 12.682548 seconds. Prediction took 6.05062 seconds. Subregion: start '[6972, 0, 0]' stop '[10458, 995, 4]'\n",
      "DEBUG lazyflow.operators.classifierOperators: Features took 12.561104 seconds. Prediction took 6.178829 seconds. Subregion: start '[10458, 0, 0]' stop '[12040, 995, 4]'\n",
      "INFO ilastik.applets.batchProcessing.batchProcessingApplet: Exporting to /Users/titouanlegourrierec/Desktop/ilastik_result/684_leaf3_Simple_Segmentation.png\n",
      "INFO lazyflow.utility.bigRequestStreamer: Estimated RAM usage per pixel is 212.0B * safety factor (2.0)\n",
      "INFO lazyflow.utility.bigRequestStreamer: determining blockshape assuming available_ram is 11.0GiB, split between 8 threads\n",
      "INFO lazyflow.utility.bigRequestStreamer: Chose blockshape: (2759, 1257, 4)\n",
      "INFO lazyflow.utility.bigRequestStreamer: Estimated RAM usage per block is 1.4GiB\n",
      "DEBUG lazyflow.operators.classifierOperators: Features took 0.241482 seconds. Prediction took 0.725201 seconds. Subregion: start '[8277, 0, 0]' stop '[8699, 1257, 4]'\n",
      "DEBUG lazyflow.operators.classifierOperators: Features took 1.798198 seconds. Prediction took 8.924298 seconds. Subregion: start '[0, 0, 0]' stop '[2759, 1257, 4]'\n",
      "DEBUG lazyflow.operators.classifierOperators: Features took 10.309103 seconds. Prediction took 3.387312 seconds. Subregion: start '[5518, 0, 0]' stop '[8277, 1257, 4]'\n",
      "DEBUG lazyflow.operators.classifierOperators: Features took 1.659844 seconds. Prediction took 12.149246 seconds. Subregion: start '[2759, 0, 0]' stop '[5518, 1257, 4]'\n",
      "INFO ilastik.workflows.pixelClassification.pixelClassificationWorkflow: Completed Batch Processing\n",
      "Conversion completed successfully\n"
     ]
    }
   ],
   "source": [
    "image_path = \"/Users/titouanlegourrierec/Desktop/selection_feuilles/TITOUAN/111_leaf2.jpg\"\n",
    "ilastik_script_path = \"/Applications/ilastik-1.4.0.post1-OSX.app/Contents/ilastik-release/run_ilastik.sh\"\n",
    "project_path = \"/Users/titouanlegourrierec/Desktop/labelisation3.ilp\"\n",
    "result_base_path = \"/Users/titouanlegourrierec/Desktop/ilastik_result/\"\n",
    "export_source = \"Simple Segmentation\"\n",
    "output_format = \"png\"\n",
    "\n",
    "# Arguments to execute Ilastik in headless mode\n",
    "ilastik_args = [\n",
    "    ilastik_script_path,\n",
    "    \"--headless\",\n",
    "    \"--project=\" + project_path,\n",
    "    \"--export_source=\" + export_source,\n",
    "    \"--output_format=\" + output_format,\n",
    "    \"--output_filename_format=\" + result_base_path + \"{nickname}_\" + export_source.replace(\" \", \"_\"),\n",
    "    *image_paths #*image_paths\n",
    "]\n",
    "\n",
    "# Execute the Ilastik command in headless mode with the specified arguments\n",
    "try:\n",
    "    subprocess.run(ilastik_args, check=True)\n",
    "    print(\"Conversion completed successfully\")\n",
    "except subprocess.CalledProcessError as e:\n",
    "    print(\"Error during conversion : \", e)\n",
    "    raise RuntimeError(\"Error during Ilastik execution. See console output for details.\")"
   ]
  }
 ],
 "metadata": {
  "kernelspec": {
   "display_name": "base",
   "language": "python",
   "name": "python3"
  },
  "language_info": {
   "codemirror_mode": {
    "name": "ipython",
    "version": 3
   },
   "file_extension": ".py",
   "mimetype": "text/x-python",
   "name": "python",
   "nbconvert_exporter": "python",
   "pygments_lexer": "ipython3",
   "version": "3.11.8"
  }
 },
 "nbformat": 4,
 "nbformat_minor": 2
}
