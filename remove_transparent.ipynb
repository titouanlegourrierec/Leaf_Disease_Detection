{
 "cells": [
  {
   "cell_type": "code",
   "execution_count": null,
   "metadata": {},
   "outputs": [],
   "source": [
    "import os\n",
    "from PIL import Image\n",
    "\n",
    "def remove_alpha_channel(image_path):\n",
    "    # Ouvrir l'image\n",
    "    image = Image.open(image_path)\n",
    "\n",
    "    # Convertir l'image en mode RGBA (si elle n'est pas déjà dans ce mode)\n",
    "    image = image.convert(\"RGBA\")\n",
    "\n",
    "    # Séparer les canaux de couleur\n",
    "    r, g, b, a = image.split()\n",
    "\n",
    "    # Créer une nouvelle image en utilisant seulement les canaux RGB (en ignorant le canal alpha)\n",
    "    new_image = Image.merge(\"RGB\", (r, g, b))\n",
    "\n",
    "    # Enregistrer la nouvelle image sans le canal alpha\n",
    "    new_image.save(image_path)\n",
    "\n",
    "# Chemin du dossier contenant les images\n",
    "folder_path = \"/Users/titouanlegourrierec/Desktop/synthetique/carrés\"\n",
    "\n",
    "# Parcourir tous les fichiers du dossier\n",
    "for filename in os.listdir(folder_path):\n",
    "    # Vérifier si le fichier est une image\n",
    "    if filename.endswith(\".png\") or filename.endswith(\".jpg\"):\n",
    "        # Chemin complet de l'image\n",
    "        image_path = os.path.join(folder_path, filename)\n",
    "        # Retirer le canal alpha de l'image\n",
    "        remove_alpha_channel(image_path)"
   ]
  }
 ],
 "metadata": {
  "language_info": {
   "name": "python"
  }
 },
 "nbformat": 4,
 "nbformat_minor": 2
}
