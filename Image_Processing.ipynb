{
 "cells": [
  {
   "cell_type": "code",
   "execution_count": 122,
   "metadata": {},
   "outputs": [],
   "source": [
    "import PIL\n",
    "from PIL import Image, ImageOps, ImageFilter\n",
    "import pytesseract\n",
    "import re\n",
    "import os\n",
    "import matplotlib.pyplot as plt\n",
    "import numpy as np\n",
    "\n",
    "PIL.Image.MAX_IMAGE_PIXELS = None #Increase image size limit"
   ]
  },
  {
   "cell_type": "code",
   "execution_count": 86,
   "metadata": {},
   "outputs": [],
   "source": [
    "img = Image.open(\"/Users/titouanlegourrierec/Desktop/49.jpg\")\n",
    "width, height = img.size #image dimensions"
   ]
  },
  {
   "cell_type": "code",
   "execution_count": 87,
   "metadata": {},
   "outputs": [],
   "source": [
    "def resizing(img, direction):\n",
    "    \"\"\"\n",
    "\n",
    "    \"\"\"\n",
    "    width, height = img.size\n",
    "\n",
    "    line_step = 20\n",
    "    pixel_step = 20\n",
    "\n",
    "    if direction == \"height\":\n",
    "        top = None\n",
    "        bottom = None\n",
    "\n",
    "        for y in range(0, height, line_step):\n",
    "            sum = 0\n",
    "            for x in range(0, width, pixel_step):\n",
    "                pixel = img.getpixel((x, y))\n",
    "                sum += (pixel[0]+pixel[1]+pixel[2]) / 3\n",
    "            \n",
    "            avg_y = sum / (width/pixel_step) #average black and white component on a line.\n",
    "\n",
    "            if avg_y < 170 and top is None: #detects the upper limit of the leaf\n",
    "                top = y\n",
    "            \n",
    "            if avg_y > 220 and top is not None and bottom is None: #detects the lower limit of the leaf\n",
    "                bottom = y\n",
    "                break\n",
    "        \n",
    "        return top, bottom\n",
    "    \n",
    "    \"\"\"\n",
    "    if direction == \"width\":\n",
    "        left = None\n",
    "        right = None\n",
    "\n",
    "        for x in range(0, width, line_step):\n",
    "            sum = 0\n",
    "            for y in range(0, height, pixel_step):\n",
    "                pixel = img.getpixel((x, y))\n",
    "                sum += (pixel[0]+pixel[1]+pixel[2]) / 3\n",
    "            \n",
    "            avg_x = sum / (width/pixel_step) #average black and white component on a line.\n",
    "\n",
    "            if avg_x < 150 and left is None: #detects the upper limit of the leaf\n",
    "                left = x\n",
    "            \n",
    "            if avg_x > 220 and left is not None and right is None: #detects the lower limit of the leaf\n",
    "                right = x\n",
    "                break\n",
    "        \n",
    "        return left, right\n",
    "    \"\"\""
   ]
  },
  {
   "cell_type": "code",
   "execution_count": 129,
   "metadata": {},
   "outputs": [],
   "source": [
    "def image_parts(img):\n",
    "    \"\"\"\n",
    "    Divides an image into 5 equal-width parts.\n",
    "\n",
    "    Parameters:\n",
    "    - img: PIL.Image.Image\n",
    "        The input image.\n",
    "\n",
    "    Returns:\n",
    "    - list of PIL.Image.Image\n",
    "        A list containing 5 sub-images, each representing one part of the original image.\n",
    "    \"\"\"\n",
    "\n",
    "    width, height = img.size #image dimensions\n",
    "    part_width = width//5 #width of each part\n",
    "\n",
    "    parts =[]\n",
    "\n",
    "    for i in range(5):\n",
    "        left = i * part_width\n",
    "        right = (i + 1) * part_width\n",
    "\n",
    "        part = img.crop((left, 0, right, height))\n",
    "\n",
    "        #top, bottom = resizing(part, \"height\")\n",
    "        #part_resize = part.crop((0, top, part_width, bottom))\n",
    "\n",
    "        parts.append(part)\n",
    "\n",
    "    return parts"
   ]
  },
  {
   "cell_type": "code",
   "execution_count": 130,
   "metadata": {},
   "outputs": [],
   "source": [
    "def Unusable_File(img):\n",
    "    width, height = img.size\n",
    "    if height < 14000 or height > 22000:\n",
    "        return True"
   ]
  },
  {
   "cell_type": "code",
   "execution_count": 181,
   "metadata": {},
   "outputs": [],
   "source": [
    "def is_leaf(img):\n",
    "    width, height = img.size\n",
    "    \n",
    "    line_step = 20\n",
    "    pixel_step = 20\n",
    "\n",
    "    avg = []\n",
    "\n",
    "    for y in range(0, height, line_step):\n",
    "        sum = 0\n",
    "        for x in range(0, width, pixel_step):\n",
    "            pixel = img.getpixel((x, y))\n",
    "            sum += (pixel[0]+pixel[1]+pixel[2]) / 3\n",
    "            \n",
    "            avg_y = sum / (width/pixel_step)\n",
    "            \n",
    "            avg.append(avg_y)\n",
    "    \n",
    "    avg = np.array(avg)\n",
    "    if avg.mean() > 115: #112 good\n",
    "        return False\n",
    "    \n",
    "    return True"
   ]
  },
  {
   "cell_type": "code",
   "execution_count": 187,
   "metadata": {},
   "outputs": [],
   "source": [
    "def Image_Processing(entry_path, exit_path):\n",
    "    Nb_File = 0\n",
    "    Count_File = 0\n",
    "    Count_Unusable_File = 0\n",
    "    Not_A_Leaf = 0\n",
    "    \n",
    "    for filename in os.listdir(entry_path):\n",
    "        if filename.lower().endswith('.jpg'):\n",
    "            Nb_File += 1\n",
    "\n",
    "    for i in range(Nb_File):\n",
    "        full_path = os.path.join(entry_path, str(i+1) + \".jpg\")\n",
    "            \n",
    "        img = Image.open(full_path)\n",
    "        Count_File += 1\n",
    "\n",
    "        if Unusable_File(img):\n",
    "            Count_Unusable_File += 1\n",
    "            img.save(f\"{exit_path}/Unusable_File/Unusable_File_{Count_File}.jpg\")\n",
    "            continue\n",
    "        else:\n",
    "            parts = image_parts(img)\n",
    "            \n",
    "            for i, part in enumerate(parts):\n",
    "                if not is_leaf(part):\n",
    "                    Not_A_Leaf += 1\n",
    "                    part.save(f\"{exit_path}/Not_A_Leaf/Sheet{Count_File}_leaf{i + 1}.jpg\")\n",
    "                else:\n",
    "                    part.save(f\"{exit_path}/File/Sheet{Count_File}_leaf{i + 1}.jpg\")\n",
    "            \n",
    "        print(f\"Usable File : {Count_File-Count_Unusable_File},     Unusable File : {Count_Unusable_File},      Not a Leaf : {Not_A_Leaf}\")"
   ]
  },
  {
   "cell_type": "code",
   "execution_count": 188,
   "metadata": {},
   "outputs": [
    {
     "name": "stdout",
     "output_type": "stream",
     "text": [
      "Usable File : 1,     Unusable File : 0,      Not a Leaf : 0\n",
      "Usable File : 2,     Unusable File : 0,      Not a Leaf : 0\n",
      "Usable File : 3,     Unusable File : 0,      Not a Leaf : 0\n",
      "Usable File : 4,     Unusable File : 0,      Not a Leaf : 0\n",
      "Usable File : 5,     Unusable File : 0,      Not a Leaf : 0\n",
      "Usable File : 6,     Unusable File : 0,      Not a Leaf : 0\n",
      "Usable File : 7,     Unusable File : 0,      Not a Leaf : 0\n",
      "Usable File : 8,     Unusable File : 0,      Not a Leaf : 0\n",
      "Usable File : 9,     Unusable File : 0,      Not a Leaf : 0\n",
      "Usable File : 10,     Unusable File : 0,      Not a Leaf : 0\n",
      "Usable File : 11,     Unusable File : 0,      Not a Leaf : 0\n",
      "Usable File : 12,     Unusable File : 0,      Not a Leaf : 0\n",
      "Usable File : 13,     Unusable File : 0,      Not a Leaf : 0\n",
      "Usable File : 14,     Unusable File : 0,      Not a Leaf : 0\n",
      "Usable File : 15,     Unusable File : 0,      Not a Leaf : 0\n",
      "Usable File : 16,     Unusable File : 0,      Not a Leaf : 0\n",
      "Usable File : 17,     Unusable File : 0,      Not a Leaf : 0\n",
      "Usable File : 18,     Unusable File : 0,      Not a Leaf : 0\n",
      "Usable File : 19,     Unusable File : 0,      Not a Leaf : 0\n",
      "Usable File : 20,     Unusable File : 0,      Not a Leaf : 0\n",
      "Usable File : 21,     Unusable File : 0,      Not a Leaf : 0\n",
      "Usable File : 22,     Unusable File : 0,      Not a Leaf : 0\n",
      "Usable File : 23,     Unusable File : 0,      Not a Leaf : 3\n",
      "Usable File : 24,     Unusable File : 3,      Not a Leaf : 3\n",
      "Usable File : 25,     Unusable File : 7,      Not a Leaf : 3\n",
      "Usable File : 26,     Unusable File : 8,      Not a Leaf : 3\n",
      "Usable File : 27,     Unusable File : 8,      Not a Leaf : 3\n",
      "Usable File : 28,     Unusable File : 8,      Not a Leaf : 3\n"
     ]
    },
    {
     "ename": "KeyboardInterrupt",
     "evalue": "",
     "output_type": "error",
     "traceback": [
      "\u001b[0;31m---------------------------------------------------------------------------\u001b[0m",
      "\u001b[0;31mKeyboardInterrupt\u001b[0m                         Traceback (most recent call last)",
      "Cell \u001b[0;32mIn[188], line 1\u001b[0m\n\u001b[0;32m----> 1\u001b[0m Image_Processing(\u001b[38;5;124m\"\u001b[39m\u001b[38;5;124m/Users/titouanlegourrierec/Desktop/all_scan_data/all_090523\u001b[39m\u001b[38;5;124m\"\u001b[39m, \u001b[38;5;124m\"\u001b[39m\u001b[38;5;124m/Users/titouanlegourrierec/Desktop/results\u001b[39m\u001b[38;5;124m\"\u001b[39m)\n",
      "Cell \u001b[0;32mIn[187], line 29\u001b[0m, in \u001b[0;36mImage_Processing\u001b[0;34m(entry_path, exit_path)\u001b[0m\n\u001b[1;32m     27\u001b[0m             part\u001b[38;5;241m.\u001b[39msave(\u001b[38;5;124mf\u001b[39m\u001b[38;5;124m\"\u001b[39m\u001b[38;5;132;01m{\u001b[39;00mexit_path\u001b[38;5;132;01m}\u001b[39;00m\u001b[38;5;124m/Not_A_Leaf/Sheet\u001b[39m\u001b[38;5;132;01m{\u001b[39;00mCount_File\u001b[38;5;132;01m}\u001b[39;00m\u001b[38;5;124m_leaf\u001b[39m\u001b[38;5;132;01m{\u001b[39;00mi\u001b[38;5;250m \u001b[39m\u001b[38;5;241m+\u001b[39m\u001b[38;5;250m \u001b[39m\u001b[38;5;241m1\u001b[39m\u001b[38;5;132;01m}\u001b[39;00m\u001b[38;5;124m.jpg\u001b[39m\u001b[38;5;124m\"\u001b[39m)\n\u001b[1;32m     28\u001b[0m         \u001b[38;5;28;01melse\u001b[39;00m:\n\u001b[0;32m---> 29\u001b[0m             part\u001b[38;5;241m.\u001b[39msave(\u001b[38;5;124mf\u001b[39m\u001b[38;5;124m\"\u001b[39m\u001b[38;5;132;01m{\u001b[39;00mexit_path\u001b[38;5;132;01m}\u001b[39;00m\u001b[38;5;124m/File/Sheet\u001b[39m\u001b[38;5;132;01m{\u001b[39;00mCount_File\u001b[38;5;132;01m}\u001b[39;00m\u001b[38;5;124m_leaf\u001b[39m\u001b[38;5;132;01m{\u001b[39;00mi\u001b[38;5;250m \u001b[39m\u001b[38;5;241m+\u001b[39m\u001b[38;5;250m \u001b[39m\u001b[38;5;241m1\u001b[39m\u001b[38;5;132;01m}\u001b[39;00m\u001b[38;5;124m.jpg\u001b[39m\u001b[38;5;124m\"\u001b[39m)\n\u001b[1;32m     31\u001b[0m \u001b[38;5;28mprint\u001b[39m(\u001b[38;5;124mf\u001b[39m\u001b[38;5;124m\"\u001b[39m\u001b[38;5;124mUsable File : \u001b[39m\u001b[38;5;132;01m{\u001b[39;00mCount_File\u001b[38;5;241m-\u001b[39mCount_Unusable_File\u001b[38;5;132;01m}\u001b[39;00m\u001b[38;5;124m,     Unusable File : \u001b[39m\u001b[38;5;132;01m{\u001b[39;00mCount_Unusable_File\u001b[38;5;132;01m}\u001b[39;00m\u001b[38;5;124m,      Not a Leaf : \u001b[39m\u001b[38;5;132;01m{\u001b[39;00mNot_A_Leaf\u001b[38;5;132;01m}\u001b[39;00m\u001b[38;5;124m\"\u001b[39m)\n",
      "File \u001b[0;32m~/anaconda3/lib/python3.11/site-packages/PIL/Image.py:2413\u001b[0m, in \u001b[0;36mImage.save\u001b[0;34m(self, fp, format, **params)\u001b[0m\n\u001b[1;32m   2410\u001b[0m         fp \u001b[38;5;241m=\u001b[39m builtins\u001b[38;5;241m.\u001b[39mopen(filename, \u001b[38;5;124m\"\u001b[39m\u001b[38;5;124mw+b\u001b[39m\u001b[38;5;124m\"\u001b[39m)\n\u001b[1;32m   2412\u001b[0m \u001b[38;5;28;01mtry\u001b[39;00m:\n\u001b[0;32m-> 2413\u001b[0m     save_handler(\u001b[38;5;28mself\u001b[39m, fp, filename)\n\u001b[1;32m   2414\u001b[0m \u001b[38;5;28;01mexcept\u001b[39;00m \u001b[38;5;167;01mException\u001b[39;00m:\n\u001b[1;32m   2415\u001b[0m     \u001b[38;5;28;01mif\u001b[39;00m open_fp:\n",
      "File \u001b[0;32m~/anaconda3/lib/python3.11/site-packages/PIL/JpegImagePlugin.py:805\u001b[0m, in \u001b[0;36m_save\u001b[0;34m(im, fp, filename)\u001b[0m\n\u001b[1;32m    801\u001b[0m \u001b[38;5;66;03m# The EXIF info needs to be written as one block, + APP1, + one spare byte.\u001b[39;00m\n\u001b[1;32m    802\u001b[0m \u001b[38;5;66;03m# Ensure that our buffer is big enough. Same with the icc_profile block.\u001b[39;00m\n\u001b[1;32m    803\u001b[0m bufsize \u001b[38;5;241m=\u001b[39m \u001b[38;5;28mmax\u001b[39m(ImageFile\u001b[38;5;241m.\u001b[39mMAXBLOCK, bufsize, \u001b[38;5;28mlen\u001b[39m(exif) \u001b[38;5;241m+\u001b[39m \u001b[38;5;241m5\u001b[39m, \u001b[38;5;28mlen\u001b[39m(extra) \u001b[38;5;241m+\u001b[39m \u001b[38;5;241m1\u001b[39m)\n\u001b[0;32m--> 805\u001b[0m ImageFile\u001b[38;5;241m.\u001b[39m_save(im, fp, [(\u001b[38;5;124m\"\u001b[39m\u001b[38;5;124mjpeg\u001b[39m\u001b[38;5;124m\"\u001b[39m, (\u001b[38;5;241m0\u001b[39m, \u001b[38;5;241m0\u001b[39m) \u001b[38;5;241m+\u001b[39m im\u001b[38;5;241m.\u001b[39msize, \u001b[38;5;241m0\u001b[39m, rawmode)], bufsize)\n",
      "File \u001b[0;32m~/anaconda3/lib/python3.11/site-packages/PIL/ImageFile.py:517\u001b[0m, in \u001b[0;36m_save\u001b[0;34m(im, fp, tile, bufsize)\u001b[0m\n\u001b[1;32m    515\u001b[0m     fh \u001b[38;5;241m=\u001b[39m fp\u001b[38;5;241m.\u001b[39mfileno()\n\u001b[1;32m    516\u001b[0m     fp\u001b[38;5;241m.\u001b[39mflush()\n\u001b[0;32m--> 517\u001b[0m     _encode_tile(im, fp, tile, bufsize, fh)\n\u001b[1;32m    518\u001b[0m \u001b[38;5;28;01mexcept\u001b[39;00m (\u001b[38;5;167;01mAttributeError\u001b[39;00m, io\u001b[38;5;241m.\u001b[39mUnsupportedOperation) \u001b[38;5;28;01mas\u001b[39;00m exc:\n\u001b[1;32m    519\u001b[0m     _encode_tile(im, fp, tile, bufsize, \u001b[38;5;28;01mNone\u001b[39;00m, exc)\n",
      "File \u001b[0;32m~/anaconda3/lib/python3.11/site-packages/PIL/ImageFile.py:544\u001b[0m, in \u001b[0;36m_encode_tile\u001b[0;34m(im, fp, tile, bufsize, fh, exc)\u001b[0m\n\u001b[1;32m    541\u001b[0m                 \u001b[38;5;28;01mbreak\u001b[39;00m\n\u001b[1;32m    542\u001b[0m     \u001b[38;5;28;01melse\u001b[39;00m:\n\u001b[1;32m    543\u001b[0m         \u001b[38;5;66;03m# slight speedup: compress to real file object\u001b[39;00m\n\u001b[0;32m--> 544\u001b[0m         errcode \u001b[38;5;241m=\u001b[39m encoder\u001b[38;5;241m.\u001b[39mencode_to_file(fh, bufsize)\n\u001b[1;32m    545\u001b[0m \u001b[38;5;28;01mif\u001b[39;00m errcode \u001b[38;5;241m<\u001b[39m \u001b[38;5;241m0\u001b[39m:\n\u001b[1;32m    546\u001b[0m     msg \u001b[38;5;241m=\u001b[39m \u001b[38;5;124mf\u001b[39m\u001b[38;5;124m\"\u001b[39m\u001b[38;5;124mencoder error \u001b[39m\u001b[38;5;132;01m{\u001b[39;00merrcode\u001b[38;5;132;01m}\u001b[39;00m\u001b[38;5;124m when writing image file\u001b[39m\u001b[38;5;124m\"\u001b[39m\n",
      "\u001b[0;31mKeyboardInterrupt\u001b[0m: "
     ]
    }
   ],
   "source": [
    "Image_Processing(\"/Users/titouanlegourrierec/Desktop/all_scan_data/all_090523\", \"/Users/titouanlegourrierec/Desktop/results\")"
   ]
  },
  {
   "cell_type": "markdown",
   "metadata": {},
   "source": [
    "# test"
   ]
  },
  {
   "cell_type": "code",
   "execution_count": 135,
   "metadata": {},
   "outputs": [
    {
     "name": "stdout",
     "output_type": "stream",
     "text": [
      "2067 16464\n"
     ]
    },
    {
     "data": {
      "image/png": "[encoded data removed]",
      "text/plain": [
       "<Figure size 640x480 with 1 Axes>"
      ]
     },
     "metadata": {},
     "output_type": "display_data"
    },
    {
     "name": "stdout",
     "output_type": "stream",
     "text": [
      "232.88249781197226\n"
     ]
    }
   ],
   "source": [
    "# Ouvrir l'image\n",
    "img = Image.open(\"/Users/titouanlegourrierec/Desktop/results/File/Sheet23_leaf3.jpg\")\n",
    "\n",
    "# Obtenir les dimensions de l'image\n",
    "width, height = img.size\n",
    "print(width,height)\n",
    "\n",
    "pas_ligne = 20\n",
    "pas_pixel = 20\n",
    "\n",
    "avg =[]\n",
    "# Listes pour stocker les valeurs moyennes de chaque composante RGB\n",
    "\n",
    "# Parcourir chaque ligne de l'image\n",
    "for y in range(0, height, pas_ligne):\n",
    "    # Initialiser les valeurs moyennes des composantes RGB pour cette ligne\n",
    "    sum = 0\n",
    "    \n",
    "    # Parcourir chaque pixel de cette ligne et ajouter ses composantes RGB à la somme\n",
    "    for x in range(0, width, pas_pixel):\n",
    "        pixel = img.getpixel((x, y))\n",
    "        sum += (pixel[0]+pixel[1]+pixel[2])/3\n",
    "    \n",
    "    # Calculer la moyenne des composantes RGB pour cette ligne\n",
    "    avg.append(sum / (width/pas_pixel))\n",
    "\n",
    "# Tracer les valeurs moyennes obtenues pour chaque composante RGB\n",
    "plt.plot(avg)\n",
    "plt.xlabel('Ligne de l\\'image')\n",
    "plt.ylabel('Valeur moyenne')\n",
    "plt.title('Composantes RGB moyennes de chaque ligne de l\\'image')\n",
    "plt.show()\n",
    "\n",
    "avg = np.array(avg)\n",
    "print(avg.mean())"
   ]
  },
  {
   "cell_type": "code",
   "execution_count": 180,
   "metadata": {},
   "outputs": [
    {
     "data": {
      "text/plain": [
       "112.29601136538189"
      ]
     },
     "execution_count": 180,
     "metadata": {},
     "output_type": "execute_result"
    }
   ],
   "source": [
    "is_leaf(Image.open(\"/Users/titouanlegourrierec/Desktop/results/Not_A_Leaf/Sheet42_leaf5.jpg\"))"
   ]
  }
 ],
 "metadata": {
  "kernelspec": {
   "display_name": "base",
   "language": "python",
   "name": "python3"
  },
  "language_info": {
   "codemirror_mode": {
    "name": "ipython",
    "version": 3
   },
   "file_extension": ".py",
   "mimetype": "text/x-python",
   "name": "python",
   "nbconvert_exporter": "python",
   "pygments_lexer": "ipython3",
   "version": "3.11.5"
  }
 },
 "nbformat": 4,
 "nbformat_minor": 2
}
