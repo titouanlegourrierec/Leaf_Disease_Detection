{
 "cells": [
  {
   "cell_type": "code",
   "execution_count": 1,
   "metadata": {},
   "outputs": [],
   "source": [
    "import cv2"
   ]
  },
  {
   "cell_type": "code",
   "execution_count": 12,
   "metadata": {},
   "outputs": [
    {
     "name": "stdout",
     "output_type": "stream",
     "text": [
      "3.2916326530612245e-06\n"
     ]
    }
   ],
   "source": [
    "area_one_pixel = (1.27/700)**2\n",
    "print(area_one_pixel)"
   ]
  },
  {
   "cell_type": "code",
   "execution_count": 18,
   "metadata": {},
   "outputs": [
    {
     "name": "stdout",
     "output_type": "stream",
     "text": [
      "Le nombre de pixels blancs dans l'image est : 4780964\n",
      "Le nombre total de pixels dans l'image est : 11085096\n",
      "en % 57\n",
      "area 20.750886740408163\n",
      "area 20.751 cm^2\n"
     ]
    }
   ],
   "source": [
    "import cv2\n",
    "import numpy as np\n",
    "\n",
    "image = cv2.imread(\"/Users/titouanlegourrierec/Desktop/test/Sheet_68_leaf2_simple_Segmentation.png\", cv2.IMREAD_GRAYSCALE)\n",
    "\n",
    "# Définir la couleur blanche en niveau de gris\n",
    "blanc = 255\n",
    "\n",
    "# Compter le nombre de pixels blancs\n",
    "nb_pixels_blancs = np.sum(image == blanc)\n",
    "\n",
    "print(\"Le nombre de pixels blancs dans l'image est :\", nb_pixels_blancs)\n",
    "\n",
    "# Obtenir les dimensions de l'image\n",
    "hauteur, largeur = image.shape\n",
    "\n",
    "# Calculer le nombre total de pixels dans l'image\n",
    "nombre_total_pixels = hauteur * largeur\n",
    "\n",
    "print(\"Le nombre total de pixels dans l'image est :\", nombre_total_pixels)\n",
    "\n",
    "print(\"en %\", round(((nombre_total_pixels-nb_pixels_blancs)/nombre_total_pixels)*100) )\n",
    "\n",
    "print(\"area\", ((nombre_total_pixels-nb_pixels_blancs)*area_one_pixel))\n",
    "print(\"area\", \"{:.3f}\".format(((nombre_total_pixels-nb_pixels_blancs)*area_one_pixel)), \"cm^2\")"
   ]
  }
 ],
 "metadata": {
  "kernelspec": {
   "display_name": "base",
   "language": "python",
   "name": "python3"
  },
  "language_info": {
   "codemirror_mode": {
    "name": "ipython",
    "version": 3
   },
   "file_extension": ".py",
   "mimetype": "text/x-python",
   "name": "python",
   "nbconvert_exporter": "python",
   "pygments_lexer": "ipython3",
   "version": "3.11.8"
  }
 },
 "nbformat": 4,
 "nbformat_minor": 2
}
