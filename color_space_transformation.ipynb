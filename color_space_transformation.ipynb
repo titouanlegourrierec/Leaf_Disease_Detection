{
 "cells": [
  {
   "cell_type": "code",
   "execution_count": 1,
   "metadata": {},
   "outputs": [],
   "source": [
    "import cv2\n",
    "import matplotlib.pyplot as plt\n",
    "import os"
   ]
  },
  {
   "cell_type": "code",
   "execution_count": 5,
   "metadata": {},
   "outputs": [],
   "source": [
    "def convert_and_save(input_dir, output_dir):\n",
    "    \"\"\"\n",
    "    Convert images in the input directory to different color spaces and save them in the output directory.\n",
    "\n",
    "    This function reads each .jpg and .png image in the input directory, converts it to the YUV, HSV, LAB, and HLS color spaces, \n",
    "    and saves the converted images in corresponding subdirectories in the output directory.\n",
    "\n",
    "    Parameters:\n",
    "    input_dir (str): The path to the input directory containing the images to convert.\n",
    "    output_dir (str): The path to the output directory where the converted images will be saved.\n",
    "\n",
    "    Returns:\n",
    "    None\n",
    "    \"\"\"\n",
    "\n",
    "    # Define the color spaces to convert to\n",
    "    color_spaces = ['YUV', 'HSV', 'LAB', 'HLS']\n",
    "    \n",
    "    # Define the conversion flags for OpenCV\n",
    "    conversion_flags = {\n",
    "        'YUV': cv2.COLOR_BGR2YUV,\n",
    "        'HSV': cv2.COLOR_BGR2HSV,\n",
    "        'LAB': cv2.COLOR_BGR2LAB,\n",
    "        'HLS': cv2.COLOR_BGR2HLS,\n",
    "    }\n",
    "\n",
    "    # Loop through all files in the input directory\n",
    "    for filename in os.listdir(input_dir):\n",
    "        # Check if the file is a .jpg or .png image\n",
    "        if filename.endswith(\".jpg\") or filename.endswith(\".png\"):\n",
    "            # Read the image\n",
    "            img = cv2.imread(os.path.join(input_dir, filename))\n",
    "\n",
    "            # Convert the image to each color space and save\n",
    "            for space in color_spaces:\n",
    "                # Convert the image\n",
    "                converted_img = cv2.cvtColor(img, conversion_flags[space])\n",
    "                \n",
    "                # Define the output subdirectory\n",
    "                output_subdir = os.path.join(output_dir, space)\n",
    "\n",
    "                # Create the subdirectory if it doesn't exist\n",
    "                if not os.path.exists(output_subdir):\n",
    "                    os.makedirs(output_subdir)\n",
    "\n",
    "                # Define the output filename\n",
    "                output_filename = os.path.join(output_subdir, filename)\n",
    "                \n",
    "                # Save the converted image\n",
    "                cv2.imwrite(output_filename, converted_img)"
   ]
  },
  {
   "cell_type": "code",
   "execution_count": 6,
   "metadata": {},
   "outputs": [],
   "source": [
    "convert_and_save(\"/Users/titouanlegourrierec/Desktop/PATCHS/RGB\", \"/Users/titouanlegourrierec/Desktop/PATCHS/RGB\")"
   ]
  },
  {
   "cell_type": "code",
   "execution_count": 2,
   "metadata": {},
   "outputs": [],
   "source": [
    "import os\n",
    "from skimage import color\n",
    "from PIL import Image\n",
    "import numpy as np\n",
    "\n",
    "def convert_to_eigen_space(image_path):\n",
    "    # Ouvrir l'image\n",
    "    img = Image.open(image_path)\n",
    "    # Convertir l'image en tableau numpy\n",
    "    rgb_img = np.array(img)\n",
    "    # Aplatir l'image en une matrice 2D où chaque ligne est une couleur\n",
    "    rgb_img_2d = rgb_img.reshape(-1, rgb_img.shape[-1])\n",
    "    # Calculer la matrice de covariance des couleurs\n",
    "    cov_matrix = np.cov(rgb_img_2d, rowvar=False)\n",
    "    # Calculer les valeurs propres et les vecteurs propres de la matrice de covariance\n",
    "    eigen_values, eigen_vectors = np.linalg.eigh(cov_matrix)\n",
    "    # Trier les vecteurs propres par valeur propre décroissante\n",
    "    idx = np.argsort(eigen_values)[::-1]\n",
    "    eigen_vectors = eigen_vectors[:,idx]\n",
    "    # Transformer l'image dans l'espace Eigen\n",
    "    eigen_img_2d = np.dot(rgb_img_2d - np.mean(rgb_img_2d, axis=0), eigen_vectors)\n",
    "    # Remodeler l'image dans sa forme originale\n",
    "    eigen_img = eigen_img_2d.reshape(rgb_img.shape)\n",
    "    # Normalize to 0-255\n",
    "    eigen_img_normalized = (eigen_img - np.min(eigen_img)) / (np.max(eigen_img) - np.min(eigen_img)) * 255\n",
    "    # Convert to uint8\n",
    "    eigen_img_uint8 = eigen_img_normalized.astype(np.uint8)\n",
    "    # Create PIL image\n",
    "    pil_image = Image.fromarray(eigen_img_uint8)\n",
    "    return pil_image\n",
    "\n",
    "def process_directory(input_directory_path, output_directory_path):\n",
    "    # Get a list of all image files in the directory\n",
    "    image_files = [f for f in os.listdir(input_directory_path) if f.endswith('.jpg') or f.endswith('.png')]\n",
    "    # Apply the function to each image file\n",
    "    for image_file in image_files:\n",
    "        transformed_image = convert_to_eigen_space(os.path.join(input_directory_path, image_file))\n",
    "        # Save the transformed image with a modified filename in the output directory\n",
    "        base, ext = os.path.splitext(image_file)\n",
    "        transformed_image.save(os.path.join(output_directory_path, f\"{base}{ext}\"))"
   ]
  },
  {
   "cell_type": "code",
   "execution_count": 7,
   "metadata": {},
   "outputs": [],
   "source": [
    "process_directory(\"/Users/titouanlegourrierec/Desktop/PATCHS/RGB\", \"/Users/titouanlegourrierec/Desktop/PATCHS/Eigen\")"
   ]
  }
 ],
 "metadata": {
  "kernelspec": {
   "display_name": "base",
   "language": "python",
   "name": "python3"
  },
  "language_info": {
   "codemirror_mode": {
    "name": "ipython",
    "version": 3
   },
   "file_extension": ".py",
   "mimetype": "text/x-python",
   "name": "python",
   "nbconvert_exporter": "python",
   "pygments_lexer": "ipython3",
   "version": "3.11.8"
  }
 },
 "nbformat": 4,
 "nbformat_minor": 2
}
