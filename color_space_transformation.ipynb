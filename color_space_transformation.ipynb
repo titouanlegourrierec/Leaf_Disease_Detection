{
 "cells": [
  {
   "cell_type": "code",
   "execution_count": 15,
   "metadata": {},
   "outputs": [],
   "source": [
    "import cv2\n",
    "import matplotlib.pyplot as plt\n",
    "import os"
   ]
  },
  {
   "cell_type": "code",
   "execution_count": 16,
   "metadata": {},
   "outputs": [],
   "source": [
    "def convert_and_save(input_dir, output_dir):\n",
    "    \"\"\"\n",
    "    Convert images in the input directory to different color spaces and save them in the output directory.\n",
    "\n",
    "    This function reads each .jpg and .png image in the input directory, converts it to the YUV, HSV, LAB, and HLS color spaces, \n",
    "    and saves the converted images in corresponding subdirectories in the output directory.\n",
    "\n",
    "    Parameters:\n",
    "    input_dir (str): The path to the input directory containing the images to convert.\n",
    "    output_dir (str): The path to the output directory where the converted images will be saved.\n",
    "\n",
    "    Returns:\n",
    "    None\n",
    "    \"\"\"\n",
    "\n",
    "    # Define the color spaces to convert to\n",
    "    color_spaces = ['YUV', 'HSV', 'LAB', 'HLS']\n",
    "    \n",
    "    # Define the conversion flags for OpenCV\n",
    "    conversion_flags = {\n",
    "        'YUV': cv2.COLOR_RGB2YUV,\n",
    "        'HSV': cv2.COLOR_RGB2HSV,\n",
    "        'LAB': cv2.COLOR_RGB2LAB,\n",
    "        'HLS': cv2.COLOR_RGB2HLS,\n",
    "    }\n",
    "\n",
    "    # Loop through all files in the input directory\n",
    "    for filename in os.listdir(input_dir):\n",
    "        # Check if the file is a .jpg or .png image\n",
    "        if filename.endswith(\".jpg\") or filename.endswith(\".png\"):\n",
    "            # Read the image\n",
    "            img = cv2.imread(os.path.join(input_dir, filename))\n",
    "\n",
    "            # Convert the image to each color space and save\n",
    "            for space in color_spaces:\n",
    "                # Convert the image\n",
    "                converted_img = cv2.cvtColor(img, conversion_flags[space])\n",
    "                \n",
    "                # Define the output subdirectory\n",
    "                output_subdir = os.path.join(output_dir, space)\n",
    "\n",
    "                # Create the subdirectory if it doesn't exist\n",
    "                if not os.path.exists(output_subdir):\n",
    "                    os.makedirs(output_subdir)\n",
    "\n",
    "                # Define the output filename\n",
    "                output_filename = os.path.join(output_subdir, filename)\n",
    "                \n",
    "                # Save the converted image\n",
    "                cv2.imwrite(output_filename, converted_img)"
   ]
  },
  {
   "cell_type": "code",
   "execution_count": 17,
   "metadata": {},
   "outputs": [],
   "source": [
    "convert_and_save(\"/Users/titouanlegourrierec/Desktop/train/images\", \"/Users/titouanlegourrierec/Desktop/train\")"
   ]
  }
 ],
 "metadata": {
  "kernelspec": {
   "display_name": "base",
   "language": "python",
   "name": "python3"
  },
  "language_info": {
   "codemirror_mode": {
    "name": "ipython",
    "version": 3
   },
   "file_extension": ".py",
   "mimetype": "text/x-python",
   "name": "python",
   "nbconvert_exporter": "python",
   "pygments_lexer": "ipython3",
   "version": "3.11.8"
  }
 },
 "nbformat": 4,
 "nbformat_minor": 2
}
