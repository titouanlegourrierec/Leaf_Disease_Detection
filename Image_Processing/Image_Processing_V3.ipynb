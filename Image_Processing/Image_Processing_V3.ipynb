{
 "cells": [
  {
   "cell_type": "code",
   "execution_count": 1,
   "metadata": {},
   "outputs": [],
   "source": [
    "import PIL\n",
    "import os\n",
    "import matplotlib.pyplot as plt\n",
    "import numpy as np\n",
    "import cv2\n",
    "from rembg import remove\n",
    "\n",
    "PIL.Image.MAX_IMAGE_PIXELS = None #Increase image size limit"
   ]
  },
  {
   "cell_type": "code",
   "execution_count": 2,
   "metadata": {},
   "outputs": [],
   "source": [
    "def detect_leaves(input_image):\n",
    "    \"\"\"\n",
    "    Detects and returns bounding boxes around specific areas (leaves) in the input image.\n",
    "    \n",
    "    Args:\n",
    "    input_image (numpy.ndarray): Input image to detect leaves from.\n",
    "    \n",
    "    Returns:\n",
    "    numpy.ndarray: Array containing bounding boxes around leaves.\n",
    "    \"\"\"\n",
    "\n",
    "    # Appliquer un gros flou sur l'image\n",
    "    image_floue = cv2.blur(input_image, (80, 80))  # Vous pouvez ajuster la taille du noyau pour contrôler l'intensité du flou\n",
    "\n",
    "    # Threshold area to filter small contours\n",
    "    THRESHOLD_AREA = 600000\n",
    "\n",
    "    # Binariser l'image floue en utilisant un seuil spécifique\n",
    "    seuil = 128  # Seuil de binarisation (modifier selon vos besoins)\n",
    "    valeur_maximale = 255  # Valeur maximale pour les pixels binarisés\n",
    "    _, image_floue_binarisee = cv2.threshold(image_floue, seuil, valeur_maximale, cv2.THRESH_BINARY)\n",
    "    image_floue_binarisee = cv2.cvtColor(image_floue_binarisee, cv2.COLOR_BGR2GRAY)\n",
    "\n",
    "    # Binariser l'image en utilisant un seuil\n",
    "    _, binary_image = cv2.threshold(image_floue_binarisee, 245, 255, cv2.THRESH_BINARY_INV)\n",
    "\n",
    "    contours, _ = cv2.findContours(binary_image, cv2.RETR_EXTERNAL, cv2.CHAIN_APPROX_NONE)\n",
    "\n",
    "    # Initialize list to store detected bounding boxes\n",
    "    bounding_boxes = []\n",
    "\n",
    "    for c in contours:\n",
    "        area = cv2.contourArea(c)\n",
    "        if area > THRESHOLD_AREA:  # Adjust threshold_area to your desired value\n",
    "            x, y, w, h = cv2.boundingRect(c)\n",
    "            if w > 400 and h > 5000:\n",
    "                bounding_boxes.append([x, y, x+w, y+h])\n",
    "\n",
    "    # Convert list of bounding boxes to numpy array and return\n",
    "    return np.array(bounding_boxes)"
   ]
  },
  {
   "cell_type": "code",
   "execution_count": 3,
   "metadata": {},
   "outputs": [],
   "source": [
    "def is_image_unusable(image):\n",
    "    \"\"\"\n",
    "    Checks if the image is unusable based on its dimensions.\n",
    "    \n",
    "    Args:\n",
    "    image (numpy.ndarray): Input image to check for usability.\n",
    "    \n",
    "    Returns:\n",
    "    bool: True if the image is unusable, False otherwise.\n",
    "    \"\"\"\n",
    "    # Get the height and width of the image\n",
    "    height = image.shape[0]\n",
    "    \n",
    "    # Define the threshold values for image dimensions as constants\n",
    "    MIN_HEIGHT = 11000\n",
    "    MAX_HEIGHT = 22500\n",
    "    \n",
    "    # Check if the height is outside the acceptable range\n",
    "    if height < MIN_HEIGHT or height > MAX_HEIGHT:\n",
    "        return True\n",
    "    else:\n",
    "        return False"
   ]
  },
  {
   "cell_type": "code",
   "execution_count": 14,
   "metadata": {},
   "outputs": [],
   "source": [
    "import os\n",
    "import cv2\n",
    "\n",
    "def image_processing(entry_path, exit_path):\n",
    "    \"\"\"\n",
    "    Process images in the specified directory.\n",
    "    \n",
    "    Args:\n",
    "    entry_path (str): Path to the directory containing input images.\n",
    "    exit_path (str): Path to the directory where processed images will be saved.\n",
    "    \"\"\"\n",
    "    # Initialize counters\n",
    "    num_files = 0\n",
    "    count_files = 0\n",
    "    count_unusable_files = 0\n",
    "    \n",
    "    # Count the number of JPEG files in the entry directory\n",
    "    for filename in os.listdir(entry_path):\n",
    "        if filename.lower().endswith('.jpg'):\n",
    "            num_files += 1\n",
    "\n",
    "    # Create the output directory 'new_results'\n",
    "    new_results_path = os.path.join(exit_path, \"new_results\")\n",
    "    exit_path = new_results_path\n",
    "    os.makedirs(new_results_path, exist_ok=True)  # This line creates the directory if it doesn't exist\n",
    "    \n",
    "    # Create subdirectories 'File' and 'Unusable_File' inside 'new_results'\n",
    "    file_path = os.path.join(new_results_path, \"File\")\n",
    "    unusable_file_path = os.path.join(new_results_path, \"Unusable_File\")\n",
    "    os.makedirs(file_path, exist_ok=True)\n",
    "    os.makedirs(unusable_file_path, exist_ok=True)\n",
    "\n",
    "    # Process each JPEG file in the entry directory\n",
    "    for index, filename in enumerate(os.listdir(entry_path)):\n",
    "        full_path = os.path.join(entry_path, filename)\n",
    "        \n",
    "        # Check if the file is a JPEG image\n",
    "        if filename.lower().endswith('.jpg'):\n",
    "            # Read the image\n",
    "            img = cv2.imread(full_path)\n",
    "            count_files += 1\n",
    "\n",
    "            # Check if the image is unusable\n",
    "            if is_image_unusable(img):\n",
    "                count_unusable_files += 1\n",
    "                cv2.imwrite(os.path.join(unusable_file_path, f\"Unusable_File_{filename}\"), img)\n",
    "                continue\n",
    "            else:\n",
    "                # Detect leaves and save each leaf as a separate image\n",
    "                bounding_boxes = detect_leaves(img)\n",
    "                file_name_without_extension, extension = os.path.splitext(filename)\n",
    "                for j, box in enumerate(bounding_boxes):\n",
    "                    x1, y1, x2, y2 = box\n",
    "                    part = img[y1:y2, x1:x2]\n",
    "\n",
    "                    # Construct the new file name with leaf index and reattach the extension\n",
    "                    new_file_name = f\"{file_name_without_extension}_leaf{j + 1}{extension}\"\n",
    "                    cv2.imwrite(os.path.join(file_path, new_file_name), part)\n",
    "\n",
    "        print(f\"Usable Files: {count_files - count_unusable_files}, Unusable Files: {count_unusable_files}\")\n"
   ]
  },
  {
   "cell_type": "code",
   "execution_count": 19,
   "metadata": {},
   "outputs": [
    {
     "name": "stderr",
     "output_type": "stream",
     "text": [
      "Corrupt JPEG data: 3769 extraneous bytes before marker 0xd2\n",
      "Corrupt JPEG data: 4579 extraneous bytes before marker 0xd3\n"
     ]
    },
    {
     "name": "stdout",
     "output_type": "stream",
     "text": [
      "Usable Files: 1, Unusable Files: 1\n"
     ]
    },
    {
     "name": "stderr",
     "output_type": "stream",
     "text": [
      "Corrupt JPEG data: 4645 extraneous bytes before marker 0xd7\n"
     ]
    },
    {
     "name": "stdout",
     "output_type": "stream",
     "text": [
      "Usable Files: 2, Unusable Files: 1\n"
     ]
    },
    {
     "name": "stderr",
     "output_type": "stream",
     "text": [
      "Corrupt JPEG data: 5038 extraneous bytes before marker 0xd0\n"
     ]
    },
    {
     "name": "stdout",
     "output_type": "stream",
     "text": [
      "Usable Files: 3, Unusable Files: 1\n"
     ]
    },
    {
     "name": "stderr",
     "output_type": "stream",
     "text": [
      "Corrupt JPEG data: 4960 extraneous bytes before marker 0xd3\n"
     ]
    },
    {
     "name": "stdout",
     "output_type": "stream",
     "text": [
      "Usable Files: 4, Unusable Files: 1\n"
     ]
    },
    {
     "name": "stderr",
     "output_type": "stream",
     "text": [
      "Corrupt JPEG data: 4602 extraneous bytes before marker 0xd7\n"
     ]
    },
    {
     "name": "stdout",
     "output_type": "stream",
     "text": [
      "Usable Files: 5, Unusable Files: 1\n"
     ]
    },
    {
     "name": "stderr",
     "output_type": "stream",
     "text": [
      "Corrupt JPEG data: 4357 extraneous bytes before marker 0xd3\n"
     ]
    },
    {
     "name": "stdout",
     "output_type": "stream",
     "text": [
      "Usable Files: 6, Unusable Files: 1\n"
     ]
    },
    {
     "name": "stderr",
     "output_type": "stream",
     "text": [
      "Corrupt JPEG data: 4514 extraneous bytes before marker 0xd7\n"
     ]
    },
    {
     "name": "stdout",
     "output_type": "stream",
     "text": [
      "Usable Files: 7, Unusable Files: 1\n"
     ]
    },
    {
     "name": "stderr",
     "output_type": "stream",
     "text": [
      "Corrupt JPEG data: 4794 extraneous bytes before marker 0xd1\n"
     ]
    },
    {
     "name": "stdout",
     "output_type": "stream",
     "text": [
      "Usable Files: 8, Unusable Files: 1\n"
     ]
    },
    {
     "name": "stderr",
     "output_type": "stream",
     "text": [
      "Corrupt JPEG data: 4823 extraneous bytes before marker 0xd7\n"
     ]
    },
    {
     "name": "stdout",
     "output_type": "stream",
     "text": [
      "Usable Files: 9, Unusable Files: 1\n"
     ]
    },
    {
     "name": "stderr",
     "output_type": "stream",
     "text": [
      "Corrupt JPEG data: 5064 extraneous bytes before marker 0xd6\n"
     ]
    },
    {
     "name": "stdout",
     "output_type": "stream",
     "text": [
      "Usable Files: 10, Unusable Files: 1\n"
     ]
    },
    {
     "name": "stderr",
     "output_type": "stream",
     "text": [
      "Corrupt JPEG data: 4476 extraneous bytes before marker 0xd3\n"
     ]
    },
    {
     "name": "stdout",
     "output_type": "stream",
     "text": [
      "Usable Files: 11, Unusable Files: 1\n"
     ]
    },
    {
     "name": "stderr",
     "output_type": "stream",
     "text": [
      "Corrupt JPEG data: 4743 extraneous bytes before marker 0xd1\n"
     ]
    },
    {
     "name": "stdout",
     "output_type": "stream",
     "text": [
      "Usable Files: 12, Unusable Files: 1\n"
     ]
    },
    {
     "name": "stderr",
     "output_type": "stream",
     "text": [
      "Corrupt JPEG data: 4499 extraneous bytes before marker 0xd1\n"
     ]
    },
    {
     "name": "stdout",
     "output_type": "stream",
     "text": [
      "Usable Files: 13, Unusable Files: 1\n"
     ]
    },
    {
     "name": "stderr",
     "output_type": "stream",
     "text": [
      "Corrupt JPEG data: 4769 extraneous bytes before marker 0xd4\n",
      "Corrupt JPEG data: 4573 extraneous bytes before marker 0xd2\n"
     ]
    },
    {
     "name": "stdout",
     "output_type": "stream",
     "text": [
      "Usable Files: 14, Unusable Files: 2\n"
     ]
    },
    {
     "name": "stderr",
     "output_type": "stream",
     "text": [
      "Corrupt JPEG data: 4519 extraneous bytes before marker 0xd5\n"
     ]
    },
    {
     "name": "stdout",
     "output_type": "stream",
     "text": [
      "Usable Files: 15, Unusable Files: 2\n"
     ]
    },
    {
     "name": "stderr",
     "output_type": "stream",
     "text": [
      "Corrupt JPEG data: 4642 extraneous bytes before marker 0xd1\n"
     ]
    },
    {
     "name": "stdout",
     "output_type": "stream",
     "text": [
      "Usable Files: 16, Unusable Files: 2\n"
     ]
    },
    {
     "name": "stderr",
     "output_type": "stream",
     "text": [
      "Corrupt JPEG data: 5374 extraneous bytes before marker 0xd2\n"
     ]
    },
    {
     "name": "stdout",
     "output_type": "stream",
     "text": [
      "Usable Files: 17, Unusable Files: 2\n"
     ]
    },
    {
     "name": "stderr",
     "output_type": "stream",
     "text": [
      "Corrupt JPEG data: 5085 extraneous bytes before marker 0xd2\n"
     ]
    },
    {
     "name": "stdout",
     "output_type": "stream",
     "text": [
      "Usable Files: 18, Unusable Files: 2\n"
     ]
    },
    {
     "name": "stderr",
     "output_type": "stream",
     "text": [
      "Corrupt JPEG data: 4295 extraneous bytes before marker 0xd7\n"
     ]
    },
    {
     "name": "stdout",
     "output_type": "stream",
     "text": [
      "Usable Files: 19, Unusable Files: 2\n"
     ]
    },
    {
     "name": "stderr",
     "output_type": "stream",
     "text": [
      "Corrupt JPEG data: 4313 extraneous bytes before marker 0xd7\n"
     ]
    },
    {
     "name": "stdout",
     "output_type": "stream",
     "text": [
      "Usable Files: 20, Unusable Files: 2\n"
     ]
    },
    {
     "name": "stderr",
     "output_type": "stream",
     "text": [
      "Corrupt JPEG data: 4988 extraneous bytes before marker 0xd6\n"
     ]
    },
    {
     "name": "stdout",
     "output_type": "stream",
     "text": [
      "Usable Files: 21, Unusable Files: 2\n"
     ]
    },
    {
     "name": "stderr",
     "output_type": "stream",
     "text": [
      "Corrupt JPEG data: 5112 extraneous bytes before marker 0xd7\n"
     ]
    },
    {
     "name": "stdout",
     "output_type": "stream",
     "text": [
      "Usable Files: 22, Unusable Files: 2\n"
     ]
    },
    {
     "name": "stderr",
     "output_type": "stream",
     "text": [
      "Corrupt JPEG data: 4460 extraneous bytes before marker 0xd6\n"
     ]
    },
    {
     "name": "stdout",
     "output_type": "stream",
     "text": [
      "Usable Files: 23, Unusable Files: 2\n"
     ]
    },
    {
     "name": "stderr",
     "output_type": "stream",
     "text": [
      "Corrupt JPEG data: 4841 extraneous bytes before marker 0xd3\n"
     ]
    },
    {
     "name": "stdout",
     "output_type": "stream",
     "text": [
      "Usable Files: 24, Unusable Files: 2\n"
     ]
    },
    {
     "name": "stderr",
     "output_type": "stream",
     "text": [
      "Corrupt JPEG data: 4660 extraneous bytes before marker 0xd1\n"
     ]
    },
    {
     "name": "stdout",
     "output_type": "stream",
     "text": [
      "Usable Files: 25, Unusable Files: 2\n"
     ]
    },
    {
     "name": "stderr",
     "output_type": "stream",
     "text": [
      "Corrupt JPEG data: 4504 extraneous bytes before marker 0xd3\n",
      "Corrupt JPEG data: 4565 extraneous bytes before marker 0xd5\n"
     ]
    },
    {
     "name": "stdout",
     "output_type": "stream",
     "text": [
      "Usable Files: 26, Unusable Files: 3\n"
     ]
    },
    {
     "name": "stderr",
     "output_type": "stream",
     "text": [
      "Corrupt JPEG data: 3946 extraneous bytes before marker 0xd5\n",
      "Corrupt JPEG data: 4070 extraneous bytes before marker 0xd6\n",
      "Corrupt JPEG data: 5130 extraneous bytes before marker 0xd0\n"
     ]
    },
    {
     "name": "stdout",
     "output_type": "stream",
     "text": [
      "Usable Files: 27, Unusable Files: 5\n"
     ]
    },
    {
     "name": "stderr",
     "output_type": "stream",
     "text": [
      "Corrupt JPEG data: 4932 extraneous bytes before marker 0xd0\n"
     ]
    },
    {
     "name": "stdout",
     "output_type": "stream",
     "text": [
      "Usable Files: 28, Unusable Files: 5\n"
     ]
    },
    {
     "name": "stderr",
     "output_type": "stream",
     "text": [
      "Corrupt JPEG data: 4535 extraneous bytes before marker 0xd5\n"
     ]
    },
    {
     "name": "stdout",
     "output_type": "stream",
     "text": [
      "Usable Files: 28, Unusable Files: 6\n"
     ]
    },
    {
     "name": "stderr",
     "output_type": "stream",
     "text": [
      "Corrupt JPEG data: 4367 extraneous bytes before marker 0xd4\n"
     ]
    },
    {
     "name": "stdout",
     "output_type": "stream",
     "text": [
      "Usable Files: 29, Unusable Files: 6\n"
     ]
    },
    {
     "name": "stderr",
     "output_type": "stream",
     "text": [
      "Corrupt JPEG data: 4988 extraneous bytes before marker 0xd6\n"
     ]
    },
    {
     "name": "stdout",
     "output_type": "stream",
     "text": [
      "Usable Files: 30, Unusable Files: 6\n"
     ]
    },
    {
     "name": "stderr",
     "output_type": "stream",
     "text": [
      "Corrupt JPEG data: 4869 extraneous bytes before marker 0xd2\n"
     ]
    },
    {
     "name": "stdout",
     "output_type": "stream",
     "text": [
      "Usable Files: 31, Unusable Files: 6\n"
     ]
    },
    {
     "name": "stderr",
     "output_type": "stream",
     "text": [
      "Corrupt JPEG data: 4038 extraneous bytes before marker 0xd3\n",
      "Corrupt JPEG data: 4212 extraneous bytes before marker 0xd6\n"
     ]
    },
    {
     "name": "stdout",
     "output_type": "stream",
     "text": [
      "Usable Files: 32, Unusable Files: 7\n"
     ]
    },
    {
     "name": "stderr",
     "output_type": "stream",
     "text": [
      "Corrupt JPEG data: 4644 extraneous bytes before marker 0xd4\n"
     ]
    },
    {
     "name": "stdout",
     "output_type": "stream",
     "text": [
      "Usable Files: 33, Unusable Files: 7\n"
     ]
    },
    {
     "name": "stderr",
     "output_type": "stream",
     "text": [
      "Corrupt JPEG data: 4124 extraneous bytes before marker 0xd6\n"
     ]
    },
    {
     "name": "stdout",
     "output_type": "stream",
     "text": [
      "Usable Files: 34, Unusable Files: 7\n"
     ]
    },
    {
     "name": "stderr",
     "output_type": "stream",
     "text": [
      "Corrupt JPEG data: 4475 extraneous bytes before marker 0xd6\n"
     ]
    },
    {
     "name": "stdout",
     "output_type": "stream",
     "text": [
      "Usable Files: 35, Unusable Files: 7\n"
     ]
    },
    {
     "name": "stderr",
     "output_type": "stream",
     "text": [
      "Corrupt JPEG data: 4048 extraneous bytes before marker 0xd2\n"
     ]
    },
    {
     "name": "stdout",
     "output_type": "stream",
     "text": [
      "Usable Files: 36, Unusable Files: 7\n"
     ]
    },
    {
     "name": "stderr",
     "output_type": "stream",
     "text": [
      "Corrupt JPEG data: 3911 extraneous bytes before marker 0xd3\n"
     ]
    },
    {
     "name": "stdout",
     "output_type": "stream",
     "text": [
      "Usable Files: 37, Unusable Files: 7\n"
     ]
    },
    {
     "name": "stderr",
     "output_type": "stream",
     "text": [
      "Corrupt JPEG data: 5055 extraneous bytes before marker 0xd5\n"
     ]
    },
    {
     "name": "stdout",
     "output_type": "stream",
     "text": [
      "Usable Files: 38, Unusable Files: 7\n"
     ]
    },
    {
     "name": "stderr",
     "output_type": "stream",
     "text": [
      "Corrupt JPEG data: 4244 extraneous bytes before marker 0xd5\n"
     ]
    },
    {
     "name": "stdout",
     "output_type": "stream",
     "text": [
      "Usable Files: 39, Unusable Files: 7\n"
     ]
    },
    {
     "name": "stderr",
     "output_type": "stream",
     "text": [
      "Corrupt JPEG data: 4754 extraneous bytes before marker 0xd7\n"
     ]
    },
    {
     "name": "stdout",
     "output_type": "stream",
     "text": [
      "Usable Files: 40, Unusable Files: 7\n"
     ]
    },
    {
     "name": "stderr",
     "output_type": "stream",
     "text": [
      "Corrupt JPEG data: 4334 extraneous bytes before marker 0xd6\n"
     ]
    },
    {
     "name": "stdout",
     "output_type": "stream",
     "text": [
      "Usable Files: 41, Unusable Files: 7\n"
     ]
    },
    {
     "name": "stderr",
     "output_type": "stream",
     "text": [
      "Corrupt JPEG data: 3863 extraneous bytes before marker 0xd6\n"
     ]
    },
    {
     "name": "stdout",
     "output_type": "stream",
     "text": [
      "Usable Files: 42, Unusable Files: 7\n"
     ]
    },
    {
     "name": "stderr",
     "output_type": "stream",
     "text": [
      "Corrupt JPEG data: 5059 extraneous bytes before marker 0xd3\n"
     ]
    },
    {
     "name": "stdout",
     "output_type": "stream",
     "text": [
      "Usable Files: 43, Unusable Files: 7\n"
     ]
    },
    {
     "name": "stderr",
     "output_type": "stream",
     "text": [
      "Corrupt JPEG data: 5270 extraneous bytes before marker 0xd2\n"
     ]
    },
    {
     "name": "stdout",
     "output_type": "stream",
     "text": [
      "Usable Files: 44, Unusable Files: 7\n"
     ]
    },
    {
     "name": "stderr",
     "output_type": "stream",
     "text": [
      "Corrupt JPEG data: 4094 extraneous bytes before marker 0xd4\n"
     ]
    },
    {
     "name": "stdout",
     "output_type": "stream",
     "text": [
      "Usable Files: 45, Unusable Files: 7\n"
     ]
    },
    {
     "name": "stderr",
     "output_type": "stream",
     "text": [
      "Corrupt JPEG data: 4707 extraneous bytes before marker 0xd2\n"
     ]
    },
    {
     "name": "stdout",
     "output_type": "stream",
     "text": [
      "Usable Files: 46, Unusable Files: 7\n"
     ]
    },
    {
     "name": "stderr",
     "output_type": "stream",
     "text": [
      "Corrupt JPEG data: 4337 extraneous bytes before marker 0xd7\n"
     ]
    },
    {
     "name": "stdout",
     "output_type": "stream",
     "text": [
      "Usable Files: 47, Unusable Files: 7\n"
     ]
    },
    {
     "name": "stderr",
     "output_type": "stream",
     "text": [
      "Corrupt JPEG data: 4212 extraneous bytes before marker 0xd2\n"
     ]
    },
    {
     "name": "stdout",
     "output_type": "stream",
     "text": [
      "Usable Files: 48, Unusable Files: 7\n"
     ]
    },
    {
     "name": "stderr",
     "output_type": "stream",
     "text": [
      "Corrupt JPEG data: 3886 extraneous bytes before marker 0xd5\n"
     ]
    },
    {
     "name": "stdout",
     "output_type": "stream",
     "text": [
      "Usable Files: 49, Unusable Files: 7\n"
     ]
    },
    {
     "name": "stderr",
     "output_type": "stream",
     "text": [
      "Corrupt JPEG data: 4565 extraneous bytes before marker 0xd2\n"
     ]
    },
    {
     "name": "stdout",
     "output_type": "stream",
     "text": [
      "Usable Files: 50, Unusable Files: 7\n"
     ]
    },
    {
     "name": "stderr",
     "output_type": "stream",
     "text": [
      "Corrupt JPEG data: 4401 extraneous bytes before marker 0xd0\n"
     ]
    },
    {
     "name": "stdout",
     "output_type": "stream",
     "text": [
      "Usable Files: 51, Unusable Files: 7\n"
     ]
    },
    {
     "name": "stderr",
     "output_type": "stream",
     "text": [
      "Corrupt JPEG data: 4771 extraneous bytes before marker 0xd0\n"
     ]
    },
    {
     "name": "stdout",
     "output_type": "stream",
     "text": [
      "Usable Files: 52, Unusable Files: 7\n"
     ]
    },
    {
     "name": "stderr",
     "output_type": "stream",
     "text": [
      "Corrupt JPEG data: 4275 extraneous bytes before marker 0xd2\n"
     ]
    },
    {
     "name": "stdout",
     "output_type": "stream",
     "text": [
      "Usable Files: 53, Unusable Files: 7\n"
     ]
    },
    {
     "name": "stderr",
     "output_type": "stream",
     "text": [
      "Corrupt JPEG data: 4298 extraneous bytes before marker 0xd6\n"
     ]
    },
    {
     "name": "stdout",
     "output_type": "stream",
     "text": [
      "Usable Files: 54, Unusable Files: 7\n"
     ]
    },
    {
     "name": "stderr",
     "output_type": "stream",
     "text": [
      "Corrupt JPEG data: 4063 extraneous bytes before marker 0xd0\n"
     ]
    },
    {
     "name": "stdout",
     "output_type": "stream",
     "text": [
      "Usable Files: 55, Unusable Files: 7\n"
     ]
    },
    {
     "name": "stderr",
     "output_type": "stream",
     "text": [
      "Corrupt JPEG data: 4890 extraneous bytes before marker 0xd1\n"
     ]
    },
    {
     "name": "stdout",
     "output_type": "stream",
     "text": [
      "Usable Files: 56, Unusable Files: 7\n"
     ]
    },
    {
     "name": "stderr",
     "output_type": "stream",
     "text": [
      "Corrupt JPEG data: 4660 extraneous bytes before marker 0xd2\n"
     ]
    },
    {
     "name": "stdout",
     "output_type": "stream",
     "text": [
      "Usable Files: 57, Unusable Files: 7\n"
     ]
    },
    {
     "name": "stderr",
     "output_type": "stream",
     "text": [
      "Corrupt JPEG data: 4011 extraneous bytes before marker 0xd0\n"
     ]
    },
    {
     "name": "stdout",
     "output_type": "stream",
     "text": [
      "Usable Files: 58, Unusable Files: 7\n"
     ]
    },
    {
     "name": "stderr",
     "output_type": "stream",
     "text": [
      "Corrupt JPEG data: 4184 extraneous bytes before marker 0xd3\n"
     ]
    },
    {
     "name": "stdout",
     "output_type": "stream",
     "text": [
      "Usable Files: 59, Unusable Files: 7\n"
     ]
    },
    {
     "name": "stderr",
     "output_type": "stream",
     "text": [
      "Corrupt JPEG data: 3997 extraneous bytes before marker 0xd4\n"
     ]
    },
    {
     "name": "stdout",
     "output_type": "stream",
     "text": [
      "Usable Files: 60, Unusable Files: 7\n"
     ]
    },
    {
     "name": "stderr",
     "output_type": "stream",
     "text": [
      "Corrupt JPEG data: 4304 extraneous bytes before marker 0xd3\n"
     ]
    },
    {
     "name": "stdout",
     "output_type": "stream",
     "text": [
      "Usable Files: 61, Unusable Files: 7\n"
     ]
    },
    {
     "name": "stderr",
     "output_type": "stream",
     "text": [
      "Corrupt JPEG data: 3978 extraneous bytes before marker 0xd2\n",
      "Corrupt JPEG data: 4091 extraneous bytes before marker 0xd2\n"
     ]
    },
    {
     "name": "stdout",
     "output_type": "stream",
     "text": [
      "Usable Files: 62, Unusable Files: 8\n"
     ]
    },
    {
     "name": "stderr",
     "output_type": "stream",
     "text": [
      "Corrupt JPEG data: 4041 extraneous bytes before marker 0xd7\n"
     ]
    },
    {
     "name": "stdout",
     "output_type": "stream",
     "text": [
      "Usable Files: 63, Unusable Files: 8\n"
     ]
    },
    {
     "name": "stderr",
     "output_type": "stream",
     "text": [
      "Corrupt JPEG data: 3999 extraneous bytes before marker 0xd3\n"
     ]
    },
    {
     "name": "stdout",
     "output_type": "stream",
     "text": [
      "Usable Files: 64, Unusable Files: 8\n"
     ]
    },
    {
     "name": "stderr",
     "output_type": "stream",
     "text": [
      "Corrupt JPEG data: 4116 extraneous bytes before marker 0xd0\n"
     ]
    },
    {
     "name": "stdout",
     "output_type": "stream",
     "text": [
      "Usable Files: 65, Unusable Files: 8\n"
     ]
    },
    {
     "name": "stderr",
     "output_type": "stream",
     "text": [
      "Corrupt JPEG data: 4029 extraneous bytes before marker 0xd5\n",
      "Corrupt JPEG data: 4364 extraneous bytes before marker 0xd4\n"
     ]
    },
    {
     "name": "stdout",
     "output_type": "stream",
     "text": [
      "Usable Files: 66, Unusable Files: 9\n"
     ]
    },
    {
     "name": "stderr",
     "output_type": "stream",
     "text": [
      "Corrupt JPEG data: 4416 extraneous bytes before marker 0xd4\n"
     ]
    },
    {
     "name": "stdout",
     "output_type": "stream",
     "text": [
      "Usable Files: 67, Unusable Files: 9\n"
     ]
    },
    {
     "name": "stderr",
     "output_type": "stream",
     "text": [
      "Corrupt JPEG data: 3995 extraneous bytes before marker 0xd7\n"
     ]
    },
    {
     "name": "stdout",
     "output_type": "stream",
     "text": [
      "Usable Files: 68, Unusable Files: 9\n"
     ]
    },
    {
     "name": "stderr",
     "output_type": "stream",
     "text": [
      "Corrupt JPEG data: 4768 extraneous bytes before marker 0xd1\n"
     ]
    },
    {
     "name": "stdout",
     "output_type": "stream",
     "text": [
      "Usable Files: 69, Unusable Files: 9\n"
     ]
    },
    {
     "name": "stderr",
     "output_type": "stream",
     "text": [
      "Corrupt JPEG data: 3981 extraneous bytes before marker 0xd3\n"
     ]
    },
    {
     "name": "stdout",
     "output_type": "stream",
     "text": [
      "Usable Files: 70, Unusable Files: 9\n"
     ]
    },
    {
     "name": "stderr",
     "output_type": "stream",
     "text": [
      "Corrupt JPEG data: 4327 extraneous bytes before marker 0xd3\n"
     ]
    },
    {
     "name": "stdout",
     "output_type": "stream",
     "text": [
      "Usable Files: 71, Unusable Files: 9\n"
     ]
    },
    {
     "name": "stderr",
     "output_type": "stream",
     "text": [
      "Corrupt JPEG data: 4217 extraneous bytes before marker 0xd1\n"
     ]
    },
    {
     "name": "stdout",
     "output_type": "stream",
     "text": [
      "Usable Files: 72, Unusable Files: 9\n"
     ]
    },
    {
     "name": "stderr",
     "output_type": "stream",
     "text": [
      "Corrupt JPEG data: 4613 extraneous bytes before marker 0xd5\n"
     ]
    },
    {
     "name": "stdout",
     "output_type": "stream",
     "text": [
      "Usable Files: 73, Unusable Files: 9\n"
     ]
    },
    {
     "name": "stderr",
     "output_type": "stream",
     "text": [
      "Corrupt JPEG data: 4679 extraneous bytes before marker 0xd7\n"
     ]
    },
    {
     "name": "stdout",
     "output_type": "stream",
     "text": [
      "Usable Files: 74, Unusable Files: 9\n"
     ]
    },
    {
     "name": "stderr",
     "output_type": "stream",
     "text": [
      "Corrupt JPEG data: 4065 extraneous bytes before marker 0xd6\n",
      "Corrupt JPEG data: 3947 extraneous bytes before marker 0xd1\n"
     ]
    },
    {
     "name": "stdout",
     "output_type": "stream",
     "text": [
      "Usable Files: 75, Unusable Files: 10\n"
     ]
    },
    {
     "name": "stderr",
     "output_type": "stream",
     "text": [
      "Corrupt JPEG data: 4505 extraneous bytes before marker 0xd5\n"
     ]
    },
    {
     "name": "stdout",
     "output_type": "stream",
     "text": [
      "Usable Files: 76, Unusable Files: 10\n"
     ]
    },
    {
     "name": "stderr",
     "output_type": "stream",
     "text": [
      "Corrupt JPEG data: 4904 extraneous bytes before marker 0xd6\n"
     ]
    },
    {
     "name": "stdout",
     "output_type": "stream",
     "text": [
      "Usable Files: 77, Unusable Files: 10\n"
     ]
    },
    {
     "name": "stderr",
     "output_type": "stream",
     "text": [
      "Corrupt JPEG data: 4435 extraneous bytes before marker 0xd2\n"
     ]
    },
    {
     "name": "stdout",
     "output_type": "stream",
     "text": [
      "Usable Files: 78, Unusable Files: 10\n"
     ]
    },
    {
     "name": "stderr",
     "output_type": "stream",
     "text": [
      "Corrupt JPEG data: 4788 extraneous bytes before marker 0xd3\n"
     ]
    },
    {
     "name": "stdout",
     "output_type": "stream",
     "text": [
      "Usable Files: 79, Unusable Files: 10\n"
     ]
    },
    {
     "name": "stderr",
     "output_type": "stream",
     "text": [
      "Corrupt JPEG data: 4127 extraneous bytes before marker 0xd4\n"
     ]
    },
    {
     "name": "stdout",
     "output_type": "stream",
     "text": [
      "Usable Files: 80, Unusable Files: 10\n"
     ]
    },
    {
     "name": "stderr",
     "output_type": "stream",
     "text": [
      "Corrupt JPEG data: 5204 extraneous bytes before marker 0xd5\n"
     ]
    },
    {
     "name": "stdout",
     "output_type": "stream",
     "text": [
      "Usable Files: 81, Unusable Files: 10\n"
     ]
    },
    {
     "name": "stderr",
     "output_type": "stream",
     "text": [
      "Corrupt JPEG data: 4891 extraneous bytes before marker 0xd2\n"
     ]
    },
    {
     "name": "stdout",
     "output_type": "stream",
     "text": [
      "Usable Files: 82, Unusable Files: 10\n"
     ]
    },
    {
     "name": "stderr",
     "output_type": "stream",
     "text": [
      "Corrupt JPEG data: 4896 extraneous bytes before marker 0xd1\n"
     ]
    },
    {
     "name": "stdout",
     "output_type": "stream",
     "text": [
      "Usable Files: 83, Unusable Files: 10\n"
     ]
    },
    {
     "name": "stderr",
     "output_type": "stream",
     "text": [
      "Corrupt JPEG data: 4835 extraneous bytes before marker 0xd3\n"
     ]
    },
    {
     "name": "stdout",
     "output_type": "stream",
     "text": [
      "Usable Files: 84, Unusable Files: 10\n"
     ]
    },
    {
     "name": "stderr",
     "output_type": "stream",
     "text": [
      "Corrupt JPEG data: 3981 extraneous bytes before marker 0xd2\n"
     ]
    },
    {
     "name": "stdout",
     "output_type": "stream",
     "text": [
      "Usable Files: 85, Unusable Files: 10\n"
     ]
    },
    {
     "name": "stderr",
     "output_type": "stream",
     "text": [
      "Corrupt JPEG data: 4933 extraneous bytes before marker 0xd6\n"
     ]
    },
    {
     "name": "stdout",
     "output_type": "stream",
     "text": [
      "Usable Files: 86, Unusable Files: 10\n"
     ]
    },
    {
     "name": "stderr",
     "output_type": "stream",
     "text": [
      "Corrupt JPEG data: 4407 extraneous bytes before marker 0xd1\n"
     ]
    },
    {
     "name": "stdout",
     "output_type": "stream",
     "text": [
      "Usable Files: 87, Unusable Files: 10\n"
     ]
    },
    {
     "name": "stderr",
     "output_type": "stream",
     "text": [
      "Corrupt JPEG data: 5126 extraneous bytes before marker 0xd0\n"
     ]
    },
    {
     "name": "stdout",
     "output_type": "stream",
     "text": [
      "Usable Files: 88, Unusable Files: 10\n"
     ]
    },
    {
     "name": "stderr",
     "output_type": "stream",
     "text": [
      "Corrupt JPEG data: 4366 extraneous bytes before marker 0xd6\n"
     ]
    },
    {
     "name": "stdout",
     "output_type": "stream",
     "text": [
      "Usable Files: 89, Unusable Files: 10\n"
     ]
    },
    {
     "name": "stderr",
     "output_type": "stream",
     "text": [
      "Corrupt JPEG data: 5023 extraneous bytes before marker 0xd5\n"
     ]
    },
    {
     "name": "stdout",
     "output_type": "stream",
     "text": [
      "Usable Files: 90, Unusable Files: 10\n"
     ]
    },
    {
     "name": "stderr",
     "output_type": "stream",
     "text": [
      "Corrupt JPEG data: 4624 extraneous bytes before marker 0xd7\n"
     ]
    },
    {
     "name": "stdout",
     "output_type": "stream",
     "text": [
      "Usable Files: 91, Unusable Files: 10\n"
     ]
    },
    {
     "name": "stderr",
     "output_type": "stream",
     "text": [
      "Corrupt JPEG data: 4848 extraneous bytes before marker 0xd1\n"
     ]
    },
    {
     "name": "stdout",
     "output_type": "stream",
     "text": [
      "Usable Files: 92, Unusable Files: 10\n"
     ]
    },
    {
     "name": "stderr",
     "output_type": "stream",
     "text": [
      "Corrupt JPEG data: 4921 extraneous bytes before marker 0xd0\n"
     ]
    },
    {
     "name": "stdout",
     "output_type": "stream",
     "text": [
      "Usable Files: 93, Unusable Files: 10\n"
     ]
    },
    {
     "name": "stderr",
     "output_type": "stream",
     "text": [
      "Corrupt JPEG data: 4507 extraneous bytes before marker 0xd0\n"
     ]
    },
    {
     "name": "stdout",
     "output_type": "stream",
     "text": [
      "Usable Files: 94, Unusable Files: 10\n"
     ]
    },
    {
     "name": "stderr",
     "output_type": "stream",
     "text": [
      "Corrupt JPEG data: 4957 extraneous bytes before marker 0xd7\n"
     ]
    },
    {
     "name": "stdout",
     "output_type": "stream",
     "text": [
      "Usable Files: 95, Unusable Files: 10\n"
     ]
    },
    {
     "name": "stderr",
     "output_type": "stream",
     "text": [
      "Corrupt JPEG data: 4712 extraneous bytes before marker 0xd3\n"
     ]
    },
    {
     "name": "stdout",
     "output_type": "stream",
     "text": [
      "Usable Files: 96, Unusable Files: 10\n"
     ]
    },
    {
     "name": "stderr",
     "output_type": "stream",
     "text": [
      "Corrupt JPEG data: 4533 extraneous bytes before marker 0xd0\n"
     ]
    },
    {
     "name": "stdout",
     "output_type": "stream",
     "text": [
      "Usable Files: 97, Unusable Files: 10\n"
     ]
    },
    {
     "name": "stderr",
     "output_type": "stream",
     "text": [
      "Corrupt JPEG data: 4900 extraneous bytes before marker 0xd5\n"
     ]
    },
    {
     "name": "stdout",
     "output_type": "stream",
     "text": [
      "Usable Files: 98, Unusable Files: 10\n"
     ]
    },
    {
     "name": "stderr",
     "output_type": "stream",
     "text": [
      "Corrupt JPEG data: 4951 extraneous bytes before marker 0xd4\n"
     ]
    },
    {
     "name": "stdout",
     "output_type": "stream",
     "text": [
      "Usable Files: 99, Unusable Files: 10\n"
     ]
    },
    {
     "name": "stderr",
     "output_type": "stream",
     "text": [
      "Corrupt JPEG data: 4919 extraneous bytes before marker 0xd0\n"
     ]
    },
    {
     "name": "stdout",
     "output_type": "stream",
     "text": [
      "Usable Files: 100, Unusable Files: 10\n"
     ]
    },
    {
     "name": "stderr",
     "output_type": "stream",
     "text": [
      "Corrupt JPEG data: 4856 extraneous bytes before marker 0xd6\n"
     ]
    },
    {
     "name": "stdout",
     "output_type": "stream",
     "text": [
      "Usable Files: 101, Unusable Files: 10\n"
     ]
    },
    {
     "name": "stderr",
     "output_type": "stream",
     "text": [
      "Corrupt JPEG data: 4388 extraneous bytes before marker 0xd7\n"
     ]
    },
    {
     "name": "stdout",
     "output_type": "stream",
     "text": [
      "Usable Files: 102, Unusable Files: 10\n"
     ]
    },
    {
     "name": "stderr",
     "output_type": "stream",
     "text": [
      "Corrupt JPEG data: 4896 extraneous bytes before marker 0xd4\n"
     ]
    },
    {
     "name": "stdout",
     "output_type": "stream",
     "text": [
      "Usable Files: 103, Unusable Files: 10\n"
     ]
    },
    {
     "name": "stderr",
     "output_type": "stream",
     "text": [
      "Corrupt JPEG data: 3871 extraneous bytes before marker 0xd3\n"
     ]
    },
    {
     "name": "stdout",
     "output_type": "stream",
     "text": [
      "Usable Files: 104, Unusable Files: 10\n"
     ]
    },
    {
     "name": "stderr",
     "output_type": "stream",
     "text": [
      "Corrupt JPEG data: 4531 extraneous bytes before marker 0xd6\n"
     ]
    },
    {
     "name": "stdout",
     "output_type": "stream",
     "text": [
      "Usable Files: 105, Unusable Files: 10\n"
     ]
    },
    {
     "name": "stderr",
     "output_type": "stream",
     "text": [
      "Corrupt JPEG data: 3714 extraneous bytes before marker 0xd3\n"
     ]
    },
    {
     "name": "stdout",
     "output_type": "stream",
     "text": [
      "Usable Files: 106, Unusable Files: 10\n"
     ]
    },
    {
     "name": "stderr",
     "output_type": "stream",
     "text": [
      "Corrupt JPEG data: 4975 extraneous bytes before marker 0xd4\n"
     ]
    },
    {
     "name": "stdout",
     "output_type": "stream",
     "text": [
      "Usable Files: 107, Unusable Files: 10\n"
     ]
    },
    {
     "name": "stderr",
     "output_type": "stream",
     "text": [
      "Corrupt JPEG data: 4988 extraneous bytes before marker 0xd4\n"
     ]
    },
    {
     "name": "stdout",
     "output_type": "stream",
     "text": [
      "Usable Files: 108, Unusable Files: 10\n"
     ]
    },
    {
     "name": "stderr",
     "output_type": "stream",
     "text": [
      "Corrupt JPEG data: 4941 extraneous bytes before marker 0xd7\n"
     ]
    },
    {
     "name": "stdout",
     "output_type": "stream",
     "text": [
      "Usable Files: 109, Unusable Files: 10\n"
     ]
    },
    {
     "name": "stderr",
     "output_type": "stream",
     "text": [
      "Corrupt JPEG data: 5055 extraneous bytes before marker 0xd4\n"
     ]
    },
    {
     "name": "stdout",
     "output_type": "stream",
     "text": [
      "Usable Files: 110, Unusable Files: 10\n"
     ]
    },
    {
     "name": "stderr",
     "output_type": "stream",
     "text": [
      "Corrupt JPEG data: 4999 extraneous bytes before marker 0xd0\n"
     ]
    },
    {
     "name": "stdout",
     "output_type": "stream",
     "text": [
      "Usable Files: 111, Unusable Files: 10\n"
     ]
    },
    {
     "name": "stderr",
     "output_type": "stream",
     "text": [
      "Corrupt JPEG data: 4943 extraneous bytes before marker 0xd1\n"
     ]
    },
    {
     "name": "stdout",
     "output_type": "stream",
     "text": [
      "Usable Files: 112, Unusable Files: 10\n"
     ]
    },
    {
     "name": "stderr",
     "output_type": "stream",
     "text": [
      "Corrupt JPEG data: 5042 extraneous bytes before marker 0xd3\n"
     ]
    },
    {
     "name": "stdout",
     "output_type": "stream",
     "text": [
      "Usable Files: 113, Unusable Files: 10\n"
     ]
    },
    {
     "name": "stderr",
     "output_type": "stream",
     "text": [
      "Corrupt JPEG data: 4355 extraneous bytes before marker 0xd1\n"
     ]
    },
    {
     "name": "stdout",
     "output_type": "stream",
     "text": [
      "Usable Files: 114, Unusable Files: 10\n"
     ]
    },
    {
     "name": "stderr",
     "output_type": "stream",
     "text": [
      "Corrupt JPEG data: 4510 extraneous bytes before marker 0xd5\n"
     ]
    },
    {
     "name": "stdout",
     "output_type": "stream",
     "text": [
      "Usable Files: 115, Unusable Files: 10\n"
     ]
    },
    {
     "name": "stderr",
     "output_type": "stream",
     "text": [
      "Corrupt JPEG data: 4772 extraneous bytes before marker 0xd5\n"
     ]
    },
    {
     "name": "stdout",
     "output_type": "stream",
     "text": [
      "Usable Files: 116, Unusable Files: 10\n"
     ]
    },
    {
     "name": "stderr",
     "output_type": "stream",
     "text": [
      "Corrupt JPEG data: 3786 extraneous bytes before marker 0xd2\n"
     ]
    },
    {
     "name": "stdout",
     "output_type": "stream",
     "text": [
      "Usable Files: 117, Unusable Files: 10\n"
     ]
    },
    {
     "name": "stderr",
     "output_type": "stream",
     "text": [
      "Corrupt JPEG data: 4578 extraneous bytes before marker 0xd0\n"
     ]
    },
    {
     "name": "stdout",
     "output_type": "stream",
     "text": [
      "Usable Files: 118, Unusable Files: 10\n"
     ]
    },
    {
     "name": "stderr",
     "output_type": "stream",
     "text": [
      "Corrupt JPEG data: 5085 extraneous bytes before marker 0xd7\n"
     ]
    },
    {
     "name": "stdout",
     "output_type": "stream",
     "text": [
      "Usable Files: 119, Unusable Files: 10\n"
     ]
    },
    {
     "name": "stderr",
     "output_type": "stream",
     "text": [
      "Corrupt JPEG data: 4552 extraneous bytes before marker 0xd4\n",
      "Corrupt JPEG data: 4577 extraneous bytes before marker 0xd2\n"
     ]
    },
    {
     "name": "stdout",
     "output_type": "stream",
     "text": [
      "Usable Files: 120, Unusable Files: 11\n"
     ]
    },
    {
     "name": "stderr",
     "output_type": "stream",
     "text": [
      "Corrupt JPEG data: 4752 extraneous bytes before marker 0xd3\n"
     ]
    },
    {
     "name": "stdout",
     "output_type": "stream",
     "text": [
      "Usable Files: 121, Unusable Files: 11\n"
     ]
    },
    {
     "name": "stderr",
     "output_type": "stream",
     "text": [
      "Corrupt JPEG data: 5066 extraneous bytes before marker 0xd7\n",
      "Corrupt JPEG data: 4626 extraneous bytes before marker 0xd7\n",
      "Corrupt JPEG data: 4710 extraneous bytes before marker 0xd4\n",
      "Corrupt JPEG data: 4685 extraneous bytes before marker 0xd4\n"
     ]
    },
    {
     "name": "stdout",
     "output_type": "stream",
     "text": [
      "Usable Files: 122, Unusable Files: 14\n"
     ]
    },
    {
     "name": "stderr",
     "output_type": "stream",
     "text": [
      "Corrupt JPEG data: 4472 extraneous bytes before marker 0xd5\n"
     ]
    },
    {
     "name": "stdout",
     "output_type": "stream",
     "text": [
      "Usable Files: 123, Unusable Files: 14\n"
     ]
    },
    {
     "name": "stderr",
     "output_type": "stream",
     "text": [
      "Corrupt JPEG data: 4680 extraneous bytes before marker 0xd4\n"
     ]
    },
    {
     "name": "stdout",
     "output_type": "stream",
     "text": [
      "Usable Files: 124, Unusable Files: 14\n"
     ]
    },
    {
     "name": "stderr",
     "output_type": "stream",
     "text": [
      "Corrupt JPEG data: 4499 extraneous bytes before marker 0xd5\n"
     ]
    },
    {
     "name": "stdout",
     "output_type": "stream",
     "text": [
      "Usable Files: 125, Unusable Files: 14\n"
     ]
    },
    {
     "name": "stderr",
     "output_type": "stream",
     "text": [
      "Corrupt JPEG data: 4838 extraneous bytes before marker 0xd2\n"
     ]
    },
    {
     "name": "stdout",
     "output_type": "stream",
     "text": [
      "Usable Files: 126, Unusable Files: 14\n"
     ]
    },
    {
     "name": "stderr",
     "output_type": "stream",
     "text": [
      "Corrupt JPEG data: 4016 extraneous bytes before marker 0xd3\n"
     ]
    },
    {
     "name": "stdout",
     "output_type": "stream",
     "text": [
      "Usable Files: 127, Unusable Files: 14\n"
     ]
    },
    {
     "name": "stderr",
     "output_type": "stream",
     "text": [
      "Corrupt JPEG data: 4659 extraneous bytes before marker 0xd5\n"
     ]
    },
    {
     "name": "stdout",
     "output_type": "stream",
     "text": [
      "Usable Files: 128, Unusable Files: 14\n"
     ]
    },
    {
     "name": "stderr",
     "output_type": "stream",
     "text": [
      "Corrupt JPEG data: 4952 extraneous bytes before marker 0xd3\n"
     ]
    },
    {
     "name": "stdout",
     "output_type": "stream",
     "text": [
      "Usable Files: 129, Unusable Files: 14\n"
     ]
    },
    {
     "name": "stderr",
     "output_type": "stream",
     "text": [
      "Corrupt JPEG data: 4763 extraneous bytes before marker 0xd6\n"
     ]
    },
    {
     "name": "stdout",
     "output_type": "stream",
     "text": [
      "Usable Files: 130, Unusable Files: 14\n"
     ]
    },
    {
     "name": "stderr",
     "output_type": "stream",
     "text": [
      "Corrupt JPEG data: 4290 extraneous bytes before marker 0xd7\n"
     ]
    },
    {
     "name": "stdout",
     "output_type": "stream",
     "text": [
      "Usable Files: 131, Unusable Files: 14\n"
     ]
    },
    {
     "name": "stderr",
     "output_type": "stream",
     "text": [
      "Corrupt JPEG data: 5018 extraneous bytes before marker 0xd1\n",
      "Corrupt JPEG data: 4118 extraneous bytes before marker 0xd1\n",
      "Corrupt JPEG data: 4455 extraneous bytes before marker 0xd2\n"
     ]
    },
    {
     "name": "stdout",
     "output_type": "stream",
     "text": [
      "Usable Files: 132, Unusable Files: 16\n"
     ]
    },
    {
     "name": "stderr",
     "output_type": "stream",
     "text": [
      "Corrupt JPEG data: 4865 extraneous bytes before marker 0xd2\n"
     ]
    },
    {
     "name": "stdout",
     "output_type": "stream",
     "text": [
      "Usable Files: 133, Unusable Files: 16\n"
     ]
    },
    {
     "name": "stderr",
     "output_type": "stream",
     "text": [
      "Corrupt JPEG data: 4515 extraneous bytes before marker 0xd5\n"
     ]
    },
    {
     "name": "stdout",
     "output_type": "stream",
     "text": [
      "Usable Files: 134, Unusable Files: 16\n"
     ]
    },
    {
     "name": "stderr",
     "output_type": "stream",
     "text": [
      "Corrupt JPEG data: 4651 extraneous bytes before marker 0xd5\n"
     ]
    },
    {
     "name": "stdout",
     "output_type": "stream",
     "text": [
      "Usable Files: 135, Unusable Files: 16\n"
     ]
    },
    {
     "name": "stderr",
     "output_type": "stream",
     "text": [
      "Corrupt JPEG data: 4646 extraneous bytes before marker 0xd7\n"
     ]
    },
    {
     "name": "stdout",
     "output_type": "stream",
     "text": [
      "Usable Files: 136, Unusable Files: 16\n"
     ]
    },
    {
     "name": "stderr",
     "output_type": "stream",
     "text": [
      "Corrupt JPEG data: 4457 extraneous bytes before marker 0xd6\n"
     ]
    },
    {
     "name": "stdout",
     "output_type": "stream",
     "text": [
      "Usable Files: 137, Unusable Files: 16\n"
     ]
    },
    {
     "name": "stderr",
     "output_type": "stream",
     "text": [
      "Corrupt JPEG data: 4538 extraneous bytes before marker 0xd0\n"
     ]
    },
    {
     "name": "stdout",
     "output_type": "stream",
     "text": [
      "Usable Files: 138, Unusable Files: 16\n"
     ]
    },
    {
     "name": "stderr",
     "output_type": "stream",
     "text": [
      "Corrupt JPEG data: 4696 extraneous bytes before marker 0xd4\n"
     ]
    },
    {
     "name": "stdout",
     "output_type": "stream",
     "text": [
      "Usable Files: 139, Unusable Files: 16\n"
     ]
    },
    {
     "name": "stderr",
     "output_type": "stream",
     "text": [
      "Corrupt JPEG data: 4460 extraneous bytes before marker 0xd7\n"
     ]
    },
    {
     "name": "stdout",
     "output_type": "stream",
     "text": [
      "Usable Files: 140, Unusable Files: 16\n"
     ]
    },
    {
     "name": "stderr",
     "output_type": "stream",
     "text": [
      "Corrupt JPEG data: 4606 extraneous bytes before marker 0xd7\n"
     ]
    },
    {
     "name": "stdout",
     "output_type": "stream",
     "text": [
      "Usable Files: 141, Unusable Files: 16\n"
     ]
    },
    {
     "name": "stderr",
     "output_type": "stream",
     "text": [
      "Corrupt JPEG data: 4190 extraneous bytes before marker 0xd4\n"
     ]
    },
    {
     "name": "stdout",
     "output_type": "stream",
     "text": [
      "Usable Files: 142, Unusable Files: 16\n"
     ]
    },
    {
     "name": "stderr",
     "output_type": "stream",
     "text": [
      "Corrupt JPEG data: 4755 extraneous bytes before marker 0xd7\n"
     ]
    },
    {
     "name": "stdout",
     "output_type": "stream",
     "text": [
      "Usable Files: 143, Unusable Files: 16\n"
     ]
    },
    {
     "name": "stderr",
     "output_type": "stream",
     "text": [
      "Corrupt JPEG data: 5094 extraneous bytes before marker 0xd0\n"
     ]
    },
    {
     "name": "stdout",
     "output_type": "stream",
     "text": [
      "Usable Files: 144, Unusable Files: 16\n"
     ]
    },
    {
     "name": "stderr",
     "output_type": "stream",
     "text": [
      "Corrupt JPEG data: 4126 extraneous bytes before marker 0xd6\n",
      "Corrupt JPEG data: 4673 extraneous bytes before marker 0xd2\n"
     ]
    },
    {
     "name": "stdout",
     "output_type": "stream",
     "text": [
      "Usable Files: 145, Unusable Files: 17\n"
     ]
    },
    {
     "name": "stderr",
     "output_type": "stream",
     "text": [
      "Corrupt JPEG data: 4830 extraneous bytes before marker 0xd1\n"
     ]
    },
    {
     "name": "stdout",
     "output_type": "stream",
     "text": [
      "Usable Files: 146, Unusable Files: 17\n"
     ]
    },
    {
     "name": "stderr",
     "output_type": "stream",
     "text": [
      "Corrupt JPEG data: 4657 extraneous bytes before marker 0xd7\n"
     ]
    },
    {
     "name": "stdout",
     "output_type": "stream",
     "text": [
      "Usable Files: 147, Unusable Files: 17\n"
     ]
    },
    {
     "name": "stderr",
     "output_type": "stream",
     "text": [
      "Corrupt JPEG data: 3902 extraneous bytes before marker 0xd5\n",
      "Corrupt JPEG data: 4611 extraneous bytes before marker 0xd0\n"
     ]
    },
    {
     "name": "stdout",
     "output_type": "stream",
     "text": [
      "Usable Files: 148, Unusable Files: 18\n"
     ]
    },
    {
     "name": "stderr",
     "output_type": "stream",
     "text": [
      "Corrupt JPEG data: 4660 extraneous bytes before marker 0xd6\n"
     ]
    },
    {
     "name": "stdout",
     "output_type": "stream",
     "text": [
      "Usable Files: 149, Unusable Files: 18\n"
     ]
    },
    {
     "name": "stderr",
     "output_type": "stream",
     "text": [
      "Corrupt JPEG data: 4551 extraneous bytes before marker 0xd4\n"
     ]
    },
    {
     "name": "stdout",
     "output_type": "stream",
     "text": [
      "Usable Files: 150, Unusable Files: 18\n"
     ]
    },
    {
     "name": "stderr",
     "output_type": "stream",
     "text": [
      "Corrupt JPEG data: 3957 extraneous bytes before marker 0xd7\n"
     ]
    },
    {
     "name": "stdout",
     "output_type": "stream",
     "text": [
      "Usable Files: 151, Unusable Files: 18\n"
     ]
    },
    {
     "name": "stderr",
     "output_type": "stream",
     "text": [
      "Corrupt JPEG data: 4513 extraneous bytes before marker 0xd2\n"
     ]
    },
    {
     "name": "stdout",
     "output_type": "stream",
     "text": [
      "Usable Files: 152, Unusable Files: 18\n"
     ]
    },
    {
     "name": "stderr",
     "output_type": "stream",
     "text": [
      "Corrupt JPEG data: 4767 extraneous bytes before marker 0xd5\n"
     ]
    },
    {
     "name": "stdout",
     "output_type": "stream",
     "text": [
      "Usable Files: 153, Unusable Files: 18\n"
     ]
    },
    {
     "name": "stderr",
     "output_type": "stream",
     "text": [
      "Corrupt JPEG data: 4567 extraneous bytes before marker 0xd5\n"
     ]
    },
    {
     "name": "stdout",
     "output_type": "stream",
     "text": [
      "Usable Files: 154, Unusable Files: 18\n"
     ]
    },
    {
     "name": "stderr",
     "output_type": "stream",
     "text": [
      "Corrupt JPEG data: 4728 extraneous bytes before marker 0xd7\n",
      "Corrupt JPEG data: 4757 extraneous bytes before marker 0xd0\n",
      "Corrupt JPEG data: 4451 extraneous bytes before marker 0xd0\n"
     ]
    },
    {
     "name": "stdout",
     "output_type": "stream",
     "text": [
      "Usable Files: 155, Unusable Files: 20\n"
     ]
    },
    {
     "name": "stderr",
     "output_type": "stream",
     "text": [
      "Corrupt JPEG data: 4834 extraneous bytes before marker 0xd6\n"
     ]
    },
    {
     "name": "stdout",
     "output_type": "stream",
     "text": [
      "Usable Files: 156, Unusable Files: 20\n"
     ]
    },
    {
     "name": "stderr",
     "output_type": "stream",
     "text": [
      "Corrupt JPEG data: 4834 extraneous bytes before marker 0xd0\n"
     ]
    },
    {
     "name": "stdout",
     "output_type": "stream",
     "text": [
      "Usable Files: 157, Unusable Files: 20\n"
     ]
    },
    {
     "name": "stderr",
     "output_type": "stream",
     "text": [
      "Corrupt JPEG data: 5099 extraneous bytes before marker 0xd0\n"
     ]
    },
    {
     "name": "stdout",
     "output_type": "stream",
     "text": [
      "Usable Files: 158, Unusable Files: 20\n"
     ]
    },
    {
     "name": "stderr",
     "output_type": "stream",
     "text": [
      "Corrupt JPEG data: 4415 extraneous bytes before marker 0xd2\n",
      "Corrupt JPEG data: 4569 extraneous bytes before marker 0xd6\n"
     ]
    },
    {
     "name": "stdout",
     "output_type": "stream",
     "text": [
      "Usable Files: 159, Unusable Files: 21\n"
     ]
    },
    {
     "name": "stderr",
     "output_type": "stream",
     "text": [
      "Corrupt JPEG data: 4385 extraneous bytes before marker 0xd7\n"
     ]
    },
    {
     "name": "stdout",
     "output_type": "stream",
     "text": [
      "Usable Files: 160, Unusable Files: 21\n"
     ]
    },
    {
     "name": "stderr",
     "output_type": "stream",
     "text": [
      "Corrupt JPEG data: 4802 extraneous bytes before marker 0xd5\n"
     ]
    },
    {
     "name": "stdout",
     "output_type": "stream",
     "text": [
      "Usable Files: 161, Unusable Files: 21\n"
     ]
    },
    {
     "name": "stderr",
     "output_type": "stream",
     "text": [
      "Corrupt JPEG data: 4306 extraneous bytes before marker 0xd6\n"
     ]
    },
    {
     "name": "stdout",
     "output_type": "stream",
     "text": [
      "Usable Files: 162, Unusable Files: 21\n"
     ]
    },
    {
     "name": "stderr",
     "output_type": "stream",
     "text": [
      "Corrupt JPEG data: 4759 extraneous bytes before marker 0xd4\n"
     ]
    },
    {
     "name": "stdout",
     "output_type": "stream",
     "text": [
      "Usable Files: 163, Unusable Files: 21\n"
     ]
    },
    {
     "name": "stderr",
     "output_type": "stream",
     "text": [
      "Corrupt JPEG data: 4446 extraneous bytes before marker 0xd0\n"
     ]
    },
    {
     "name": "stdout",
     "output_type": "stream",
     "text": [
      "Usable Files: 164, Unusable Files: 21\n"
     ]
    },
    {
     "name": "stderr",
     "output_type": "stream",
     "text": [
      "Corrupt JPEG data: 4696 extraneous bytes before marker 0xd0\n"
     ]
    },
    {
     "name": "stdout",
     "output_type": "stream",
     "text": [
      "Usable Files: 165, Unusable Files: 21\n"
     ]
    },
    {
     "name": "stderr",
     "output_type": "stream",
     "text": [
      "Corrupt JPEG data: 4654 extraneous bytes before marker 0xd7\n"
     ]
    },
    {
     "name": "stdout",
     "output_type": "stream",
     "text": [
      "Usable Files: 166, Unusable Files: 21\n"
     ]
    },
    {
     "name": "stderr",
     "output_type": "stream",
     "text": [
      "Corrupt JPEG data: 4463 extraneous bytes before marker 0xd5\n"
     ]
    },
    {
     "name": "stdout",
     "output_type": "stream",
     "text": [
      "Usable Files: 167, Unusable Files: 21\n"
     ]
    },
    {
     "name": "stderr",
     "output_type": "stream",
     "text": [
      "Corrupt JPEG data: 4487 extraneous bytes before marker 0xd5\n"
     ]
    },
    {
     "name": "stdout",
     "output_type": "stream",
     "text": [
      "Usable Files: 168, Unusable Files: 21\n"
     ]
    },
    {
     "name": "stderr",
     "output_type": "stream",
     "text": [
      "Corrupt JPEG data: 4879 extraneous bytes before marker 0xd6\n"
     ]
    },
    {
     "name": "stdout",
     "output_type": "stream",
     "text": [
      "Usable Files: 169, Unusable Files: 21\n"
     ]
    },
    {
     "name": "stderr",
     "output_type": "stream",
     "text": [
      "Corrupt JPEG data: 4616 extraneous bytes before marker 0xd0\n"
     ]
    },
    {
     "name": "stdout",
     "output_type": "stream",
     "text": [
      "Usable Files: 170, Unusable Files: 21\n"
     ]
    },
    {
     "name": "stderr",
     "output_type": "stream",
     "text": [
      "Corrupt JPEG data: 4033 extraneous bytes before marker 0xd1\n"
     ]
    },
    {
     "name": "stdout",
     "output_type": "stream",
     "text": [
      "Usable Files: 171, Unusable Files: 21\n"
     ]
    },
    {
     "name": "stderr",
     "output_type": "stream",
     "text": [
      "Corrupt JPEG data: 4392 extraneous bytes before marker 0xd7\n"
     ]
    },
    {
     "name": "stdout",
     "output_type": "stream",
     "text": [
      "Usable Files: 172, Unusable Files: 21\n"
     ]
    },
    {
     "name": "stderr",
     "output_type": "stream",
     "text": [
      "Corrupt JPEG data: 4445 extraneous bytes before marker 0xd2\n"
     ]
    },
    {
     "name": "stdout",
     "output_type": "stream",
     "text": [
      "Usable Files: 173, Unusable Files: 21\n"
     ]
    },
    {
     "name": "stderr",
     "output_type": "stream",
     "text": [
      "Corrupt JPEG data: 4638 extraneous bytes before marker 0xd2\n"
     ]
    },
    {
     "name": "stdout",
     "output_type": "stream",
     "text": [
      "Usable Files: 174, Unusable Files: 21\n"
     ]
    },
    {
     "name": "stderr",
     "output_type": "stream",
     "text": [
      "Corrupt JPEG data: 4451 extraneous bytes before marker 0xd7\n"
     ]
    },
    {
     "name": "stdout",
     "output_type": "stream",
     "text": [
      "Usable Files: 175, Unusable Files: 21\n"
     ]
    },
    {
     "name": "stderr",
     "output_type": "stream",
     "text": [
      "Corrupt JPEG data: 5071 extraneous bytes before marker 0xd6\n"
     ]
    },
    {
     "name": "stdout",
     "output_type": "stream",
     "text": [
      "Usable Files: 176, Unusable Files: 21\n"
     ]
    },
    {
     "name": "stderr",
     "output_type": "stream",
     "text": [
      "Corrupt JPEG data: 4598 extraneous bytes before marker 0xd1\n"
     ]
    },
    {
     "name": "stdout",
     "output_type": "stream",
     "text": [
      "Usable Files: 177, Unusable Files: 21\n"
     ]
    },
    {
     "name": "stderr",
     "output_type": "stream",
     "text": [
      "Corrupt JPEG data: 4626 extraneous bytes before marker 0xd1\n"
     ]
    },
    {
     "name": "stdout",
     "output_type": "stream",
     "text": [
      "Usable Files: 178, Unusable Files: 21\n"
     ]
    },
    {
     "name": "stderr",
     "output_type": "stream",
     "text": [
      "Corrupt JPEG data: 4288 extraneous bytes before marker 0xd4\n"
     ]
    },
    {
     "name": "stdout",
     "output_type": "stream",
     "text": [
      "Usable Files: 179, Unusable Files: 21\n"
     ]
    },
    {
     "name": "stderr",
     "output_type": "stream",
     "text": [
      "Corrupt JPEG data: 4500 extraneous bytes before marker 0xd0\n"
     ]
    },
    {
     "name": "stdout",
     "output_type": "stream",
     "text": [
      "Usable Files: 180, Unusable Files: 21\n"
     ]
    },
    {
     "name": "stderr",
     "output_type": "stream",
     "text": [
      "Corrupt JPEG data: 5030 extraneous bytes before marker 0xd3\n"
     ]
    },
    {
     "name": "stdout",
     "output_type": "stream",
     "text": [
      "Usable Files: 181, Unusable Files: 21\n"
     ]
    },
    {
     "name": "stderr",
     "output_type": "stream",
     "text": [
      "Corrupt JPEG data: 3434 extraneous bytes before marker 0xd6\n",
      "Corrupt JPEG data: 4595 extraneous bytes before marker 0xd4\n"
     ]
    },
    {
     "name": "stdout",
     "output_type": "stream",
     "text": [
      "Usable Files: 182, Unusable Files: 22\n"
     ]
    }
   ],
   "source": [
    "image_processing(\"/Users/titouanlegourrierec/Desktop/all_scan_data/all_pepi_290323\", \"/Users/titouanlegourrierec/Desktop\")"
   ]
  },
  {
   "cell_type": "markdown",
   "metadata": {},
   "source": [
    "---\n",
    "# Brouillon"
   ]
  },
  {
   "cell_type": "code",
   "execution_count": 10,
   "metadata": {},
   "outputs": [],
   "source": [
    "import os\n",
    "import cv2\n",
    "import tkinter as tk\n",
    "from tkinter import ttk\n",
    "import time\n",
    "\n",
    "def format_time(seconds):\n",
    "    \"\"\"\n",
    "    Format the time in seconds into a string of minutes and seconds.\n",
    "    \n",
    "    Args:\n",
    "    seconds (float): Time in seconds.\n",
    "    \n",
    "    Returns:\n",
    "    str: Formatted time string in the format \"X min Y s\".\n",
    "    \"\"\"\n",
    "    minutes = int(seconds // 60)\n",
    "    seconds %= 60\n",
    "    return f\"{minutes} min {seconds:.0f} s\"\n",
    "\n",
    "def image_processing(entry_path, exit_path, progress_bar, label_status):\n",
    "    \"\"\"\n",
    "    Process images in the specified directory.\n",
    "    \n",
    "    Args:\n",
    "    entry_path (str): Path to the directory containing input images.\n",
    "    exit_path (str): Path to the directory where processed images will be saved.\n",
    "    progress_bar (ttk.Progressbar): Progress bar widget.\n",
    "    label_status (tk.Label): Label widget to display status messages.\n",
    "    \"\"\"\n",
    "    # Initialize counters\n",
    "    num_files = 0\n",
    "    count_files = 0\n",
    "    count_unusable_files = 0\n",
    "    total_time = 0\n",
    "    \n",
    "    # Count the number of JPEG files in the entry directory\n",
    "    for filename in os.listdir(entry_path):\n",
    "        if filename.lower().endswith('.jpg'):\n",
    "            num_files += 1\n",
    "\n",
    "    # Create the output directory 'new_results'\n",
    "    new_results_path = os.path.join(exit_path, \"new_results\")\n",
    "    exit_path = new_results_path\n",
    "    os.makedirs(new_results_path, exist_ok=True)  # This line creates the directory if it doesn't exist\n",
    "    \n",
    "    # Create subdirectories 'File' and 'Unusable_File' inside 'new_results'\n",
    "    file_path = os.path.join(new_results_path, \"File\")\n",
    "    unusable_file_path = os.path.join(new_results_path, \"Unusable_File\")\n",
    "    os.makedirs(file_path, exist_ok=True)\n",
    "    os.makedirs(unusable_file_path, exist_ok=True)\n",
    "\n",
    "    # Set up the progress bar\n",
    "    progress_bar['maximum'] = num_files\n",
    "\n",
    "    start_time = time.time()  # Record start time\n",
    "\n",
    "    # Process each JPEG file in the entry directory\n",
    "    for index, filename in enumerate(os.listdir(entry_path)):\n",
    "        full_path = os.path.join(entry_path, filename)\n",
    "        \n",
    "        # Check if the file is a JPEG image\n",
    "        if filename.lower().endswith('.jpg'):\n",
    "            # Read the image\n",
    "            img = cv2.imread(full_path)\n",
    "            count_files += 1\n",
    "\n",
    "            # Update status label\n",
    "            label_status.config(text=f\"Processing file {count_files}/{num_files}\")\n",
    "\n",
    "            # Check if the image is unusable\n",
    "            if is_image_unusable(img):\n",
    "                count_unusable_files += 1\n",
    "                cv2.imwrite(os.path.join(unusable_file_path, f\"Unusable_File_{filename}\"), img)\n",
    "                progress_bar.step(1)\n",
    "                window.update()  # Force update of the GUI\n",
    "                continue\n",
    "            else:\n",
    "                # Detect leaves and save each leaf as a separate image\n",
    "                start_file_time = time.time()  # Record start time for the current file\n",
    "                bounding_boxes = detect_leaves(img)\n",
    "                file_name_without_extension, extension = os.path.splitext(filename)\n",
    "                for j, box in enumerate(bounding_boxes):\n",
    "                    x1, y1, x2, y2 = box\n",
    "                    part = img[y1:y2, x1:x2]\n",
    "                    \n",
    "                    # Construct the new file name with leaf index and reattach the extension\n",
    "                    new_file_name = f\"{file_name_without_extension}_leaf{j + 1}{extension}\"\n",
    "                    cv2.imwrite(os.path.join(file_path, new_file_name), part)\n",
    "                \n",
    "                # Update progress bar\n",
    "                progress_bar.step(1)\n",
    "                window.update()  # Force update of the GUI\n",
    "\n",
    "                # Calculate elapsed time for the current file\n",
    "                file_elapsed_time = time.time() - start_file_time\n",
    "                total_time += file_elapsed_time\n",
    "\n",
    "                # Calculate average time per file until now\n",
    "                average_time_per_file = total_time / count_files\n",
    "\n",
    "                # Estimate remaining time\n",
    "                remaining_time = (num_files - count_files) * average_time_per_file\n",
    "\n",
    "                # Update status label with estimated time remaining\n",
    "                label_status.config(text=f\"Processing file {count_files}/{num_files} - Est. time remaining: {format_time(remaining_time)}\")\n",
    "                label_status.update()  # Force update of the label\n",
    "\n",
    "    print(f\"Usable Files: {count_files - count_unusable_files}, Unusable Files: {count_unusable_files}\")\n",
    "\n",
    "# Example usage:\n",
    "def start_processing():\n",
    "    entry_path = \"/Users/titouanlegourrierec/Desktop/all_scan_data/all_090523\"\n",
    "    exit_path = \"/Users/titouanlegourrierec/Desktop\"\n",
    "    image_processing(entry_path, exit_path, progress_bar, label_status)\n",
    "\n",
    "# Create tkinter window\n",
    "window = tk.Tk()\n",
    "window.title(\"Image Processing\")\n",
    "window.geometry(\"400x150\")\n",
    "\n",
    "# Create progress bar\n",
    "progress_bar = ttk.Progressbar(window, orient=tk.HORIZONTAL, length=300, mode='determinate')\n",
    "progress_bar.pack(pady=10)\n",
    "\n",
    "# Create label for status messages\n",
    "label_status = tk.Label(window, text=\"\")\n",
    "label_status.pack()\n",
    "\n",
    "# Button to start processing\n",
    "start_button = tk.Button(window, text=\"Start Processing\", command=start_processing)\n",
    "start_button.pack()\n",
    "\n",
    "window.mainloop()\n"
   ]
  },
  {
   "cell_type": "code",
   "execution_count": 4,
   "metadata": {},
   "outputs": [
    {
     "name": "stderr",
     "output_type": "stream",
     "text": [
      "Corrupt JPEG data: 3769 extraneous bytes before marker 0xd2\n",
      "Corrupt JPEG data: 4579 extraneous bytes before marker 0xd3\n",
      "Corrupt JPEG data: 4645 extraneous bytes before marker 0xd7\n",
      "Corrupt JPEG data: 5038 extraneous bytes before marker 0xd0\n",
      "Corrupt JPEG data: 4960 extraneous bytes before marker 0xd3\n",
      "Corrupt JPEG data: 4602 extraneous bytes before marker 0xd7\n",
      "Corrupt JPEG data: 4357 extraneous bytes before marker 0xd3\n",
      "Corrupt JPEG data: 4514 extraneous bytes before marker 0xd7\n",
      "Corrupt JPEG data: 4794 extraneous bytes before marker 0xd1\n",
      "Corrupt JPEG data: 4823 extraneous bytes before marker 0xd7\n",
      "Corrupt JPEG data: 5064 extraneous bytes before marker 0xd6\n",
      "Corrupt JPEG data: 4476 extraneous bytes before marker 0xd3\n",
      "Corrupt JPEG data: 4743 extraneous bytes before marker 0xd1\n",
      "Corrupt JPEG data: 4499 extraneous bytes before marker 0xd1\n",
      "Corrupt JPEG data: 4769 extraneous bytes before marker 0xd4\n",
      "Corrupt JPEG data: 4573 extraneous bytes before marker 0xd2\n",
      "Corrupt JPEG data: 4519 extraneous bytes before marker 0xd5\n",
      "Corrupt JPEG data: 4642 extraneous bytes before marker 0xd1\n",
      "Exception in Tkinter callback\n",
      "Traceback (most recent call last):\n",
      "  File \"/Users/titouanlegourrierec/anaconda3/lib/python3.11/tkinter/__init__.py\", line 1967, in __call__\n",
      "    return self.func(*args)\n",
      "           ^^^^^^^^^^^^^^^^\n",
      "  File \"/var/folders/bm/bfchd71s5dj_my2slhz34b340000gn/T/ipykernel_8175/1174043917.py\", line 149, in <lambda>\n",
      "    start_button = tk.Button(window, text=\"Start Processing\", command=lambda: image_processing(entry_path_var.get(), exit_path_var.get(), progress_bar, label_status))\n",
      "                                                                              ^^^^^^^^^^^^^^^^^^^^^^^^^^^^^^^^^^^^^^^^^^^^^^^^^^^^^^^^^^^^^^^^^^^^^^^^^^^^^^^^^^^^^^^\n",
      "  File \"/var/folders/bm/bfchd71s5dj_my2slhz34b340000gn/T/ipykernel_8175/1174043917.py\", line 106, in image_processing\n",
      "    label_status.config(text=f\"Processing file {count_files}/{num_files} - Est. time remaining: {format_time(remaining_time)}\")\n",
      "  File \"/Users/titouanlegourrierec/anaconda3/lib/python3.11/tkinter/__init__.py\", line 1721, in configure\n",
      "    return self._configure('configure', cnf, kw)\n",
      "           ^^^^^^^^^^^^^^^^^^^^^^^^^^^^^^^^^^^^^\n",
      "  File \"/Users/titouanlegourrierec/anaconda3/lib/python3.11/tkinter/__init__.py\", line 1711, in _configure\n",
      "    self.tk.call(_flatten((self._w, cmd)) + self._options(cnf))\n",
      "_tkinter.TclError: invalid command name \".!label3\"\n"
     ]
    }
   ],
   "source": [
    "import os\n",
    "import cv2\n",
    "import tkinter as tk\n",
    "from tkinter import ttk, filedialog\n",
    "import time\n",
    "\n",
    "def format_time(seconds):\n",
    "    \"\"\"\n",
    "    Format the time in seconds into a string of minutes and seconds.\n",
    "    \n",
    "    Args:\n",
    "    seconds (float): Time in seconds.\n",
    "    \n",
    "    Returns:\n",
    "    str: Formatted time string in the format \"X min Y s\".\n",
    "    \"\"\"\n",
    "    minutes = int(seconds // 60)\n",
    "    seconds %= 60\n",
    "    return f\"{minutes} min {seconds:.0f} s\"\n",
    "\n",
    "def image_processing(entry_path, exit_path, progress_bar, label_status):\n",
    "    \"\"\"\n",
    "    Process images in the specified directory.\n",
    "    \n",
    "    Args:\n",
    "    entry_path (str): Path to the directory containing input images.\n",
    "    exit_path (str): Path to the directory where processed images will be saved.\n",
    "    progress_bar (ttk.Progressbar): Progress bar widget.\n",
    "    label_status (tk.Label): Label widget to display status messages.\n",
    "    \"\"\"\n",
    "    # Initialize counters\n",
    "    num_files = 0\n",
    "    count_files = 0\n",
    "    count_unusable_files = 0\n",
    "    total_time = 0\n",
    "    \n",
    "    # Count the number of JPEG files in the entry directory\n",
    "    for filename in os.listdir(entry_path):\n",
    "        if filename.lower().endswith('.jpg'):\n",
    "            num_files += 1\n",
    "\n",
    "    # Create the output directory 'new_results'\n",
    "    new_results_path = os.path.join(exit_path, \"new_results\")\n",
    "    exit_path = new_results_path\n",
    "    os.makedirs(new_results_path, exist_ok=True)  # This line creates the directory if it doesn't exist\n",
    "    \n",
    "    # Create subdirectories 'File' and 'Unusable_File' inside 'new_results'\n",
    "    file_path = os.path.join(new_results_path, \"File\")\n",
    "    unusable_file_path = os.path.join(new_results_path, \"Unusable_File\")\n",
    "    os.makedirs(file_path, exist_ok=True)\n",
    "    os.makedirs(unusable_file_path, exist_ok=True)\n",
    "\n",
    "    # Set up the progress bar\n",
    "    progress_bar['maximum'] = num_files\n",
    "\n",
    "    start_time = time.time()  # Record start time\n",
    "\n",
    "    # Process each JPEG file in the entry directory\n",
    "    for index, filename in enumerate(os.listdir(entry_path)):\n",
    "        full_path = os.path.join(entry_path, filename)\n",
    "        \n",
    "        # Check if the file is a JPEG image\n",
    "        if filename.lower().endswith('.jpg'):\n",
    "            # Read the image\n",
    "            img = cv2.imread(full_path)\n",
    "            count_files += 1\n",
    "\n",
    "            # Update status label\n",
    "            label_status.config(text=f\"Processing file {count_files}/{num_files}\")\n",
    "\n",
    "            # Check if the image is unusable\n",
    "            if is_image_unusable(img):\n",
    "                count_unusable_files += 1\n",
    "                cv2.imwrite(os.path.join(unusable_file_path, f\"Unusable_File_{filename}\"), img)\n",
    "                progress_bar.step(1)\n",
    "                window.update()  # Force update of the GUI\n",
    "                continue\n",
    "            else:\n",
    "                # Detect leaves and save each leaf as a separate image\n",
    "                start_file_time = time.time()  # Record start time for the current file\n",
    "                bounding_boxes = detect_leaves(img)\n",
    "                file_name_without_extension, extension = os.path.splitext(filename)\n",
    "                for j, box in enumerate(bounding_boxes):\n",
    "                    x1, y1, x2, y2 = box\n",
    "                    part = img[y1:y2, x1:x2]\n",
    "                    \n",
    "                    # Construct the new file name with leaf index and reattach the extension\n",
    "                    new_file_name = f\"{file_name_without_extension}_leaf{j + 1}{extension}\"\n",
    "                    cv2.imwrite(os.path.join(file_path, new_file_name), part)\n",
    "                \n",
    "                # Update progress bar\n",
    "                progress_bar.step(1)\n",
    "                window.update()  # Force update of the GUI\n",
    "\n",
    "                # Calculate elapsed time for the current file\n",
    "                file_elapsed_time = time.time() - start_file_time\n",
    "                total_time += file_elapsed_time\n",
    "\n",
    "                # Calculate average time per file until now\n",
    "                average_time_per_file = total_time / count_files\n",
    "\n",
    "                # Estimate remaining time\n",
    "                remaining_time = (num_files - count_files) * average_time_per_file\n",
    "\n",
    "                # Update status label with estimated time remaining\n",
    "                label_status.config(text=f\"Processing file {count_files}/{num_files} - Est. time remaining: {format_time(remaining_time)}\")\n",
    "                label_status.update()  # Force update of the label\n",
    "\n",
    "    print(f\"Usable Files: {count_files - count_unusable_files}, Unusable Files: {count_unusable_files}\")\n",
    "\n",
    "def select_entry_path():\n",
    "    entry_path = filedialog.askdirectory()\n",
    "    entry_path_var.set(entry_path)\n",
    "\n",
    "def select_exit_path():\n",
    "    exit_path = filedialog.askdirectory()\n",
    "    exit_path_var.set(exit_path)\n",
    "\n",
    "# Create tkinter window\n",
    "window = tk.Tk()\n",
    "window.title(\"Image Processing\")\n",
    "window.geometry(\"400x200\")\n",
    "\n",
    "# Create entry and exit path variables\n",
    "entry_path_var = tk.StringVar()\n",
    "exit_path_var = tk.StringVar()\n",
    "\n",
    "# Create entry path selection button and label\n",
    "entry_path_button = tk.Button(window, text=\"Select Entry Path\", command=select_entry_path)\n",
    "entry_path_button.pack(pady=5)\n",
    "entry_path_label = tk.Label(window, textvariable=entry_path_var)\n",
    "entry_path_label.pack(pady=5)\n",
    "\n",
    "# Create exit path selection button and label\n",
    "exit_path_button = tk.Button(window, text=\"Select Exit Path\", command=select_exit_path)\n",
    "exit_path_button.pack(pady=5)\n",
    "exit_path_label = tk.Label(window, textvariable=exit_path_var)\n",
    "exit_path_label.pack(pady=5)\n",
    "\n",
    "# Create progress bar\n",
    "progress_bar = ttk.Progressbar(window, orient=tk.HORIZONTAL, length=300, mode='determinate')\n",
    "progress_bar.pack(pady=10)\n",
    "\n",
    "# Create label for status messages\n",
    "label_status = tk.Label(window, text=\"\")\n",
    "label_status.pack()\n",
    "\n",
    "# Button to start processing\n",
    "start_button = tk.Button(window, text=\"Start Processing\", command=lambda: image_processing(entry_path_var.get(), exit_path_var.get(), progress_bar, label_status))\n",
    "start_button.pack()\n",
    "\n",
    "window.mainloop()\n"
   ]
  }
 ],
 "metadata": {
  "kernelspec": {
   "display_name": "base",
   "language": "python",
   "name": "python3"
  },
  "language_info": {
   "codemirror_mode": {
    "name": "ipython",
    "version": 3
   },
   "file_extension": ".py",
   "mimetype": "text/x-python",
   "name": "python",
   "nbconvert_exporter": "python",
   "pygments_lexer": "ipython3",
   "version": "3.11.8"
  }
 },
 "nbformat": 4,
 "nbformat_minor": 2
}
