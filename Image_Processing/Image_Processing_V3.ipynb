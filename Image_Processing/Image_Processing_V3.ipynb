{
 "cells": [
  {
   "cell_type": "code",
   "execution_count": 1,
   "metadata": {},
   "outputs": [],
   "source": [
    "# Import libraries\n",
    "import PIL\n",
    "import matplotlib.pyplot as plt\n",
    "import numpy as np\n",
    "import cv2\n",
    "import time\n",
    "\n",
    "# Increase the maximum number of pixels PIL will process in an image\n",
    "PIL.Image.MAX_IMAGE_PIXELS = None #Increase image size limit"
   ]
  },
  {
   "cell_type": "markdown",
   "metadata": {},
   "source": [
    "---\n",
    "### `detect_leaves` function\n",
    "The `detect_leaves` function in the code identifies areas in an image that are likely to be leaves based on their size and shape. It applies image processing techniques like blurring, binarization, and contour detection, and returns the locations of these areas as bounding boxes."
   ]
  },
  {
   "cell_type": "code",
   "execution_count": 2,
   "metadata": {},
   "outputs": [],
   "source": [
    "# Constants\n",
    "BLUR_KERNEL_SIZE = (80, 80)\n",
    "THRESHOLD_AREA = 600000\n",
    "BINARY_THRESHOLD = 128\n",
    "MAX_BINARY_VALUE = 255\n",
    "BINARY_INV_THRESHOLD = 245\n",
    "MIN_WIDTH = 400\n",
    "MIN_HEIGHT = 5000\n",
    "\n",
    "def blur_image(input_image, kernel_size):\n",
    "    \"\"\"\n",
    "    Apply a blur to the input image.\n",
    "\n",
    "    Blurring is used as a preprocessing step in our image processing pipeline. \n",
    "    It helps to reduce noise and detail in the image. By doing so, it simplifies \n",
    "    the image and makes subsequent processing steps like binarization and contour \n",
    "    detection more effective. The level of blurring is controlled by the kernel size: \n",
    "    a larger kernel will produce a more blurred image.\n",
    "\n",
    "    Args:\n",
    "    input_image (numpy.ndarray): The input image to be blurred.\n",
    "    kernel_size (tuple): The size of the kernel to be used for blurring. \n",
    "                         The kernel is a rectangle of size kernel_size that \n",
    "                         moves over the image to average the pixel values.\n",
    "\n",
    "    Returns:\n",
    "    numpy.ndarray: The blurred version of the input image.\n",
    "    \"\"\"\n",
    "    return cv2.blur(input_image, kernel_size)\n",
    "\n",
    "\n",
    "\n",
    "def binarize_and_invert_image(image, bin_threshold, max_value, inv_threshold):\n",
    "    \"\"\"\n",
    "    Binarize and invert the image using specific thresholds.\n",
    "\n",
    "    This function is a key part of the image processing pipeline for leaf detection. \n",
    "    It first binarizes the image, converting it to a binary image where pixels are \n",
    "    either black or white based on the provided threshold. This simplifies the image \n",
    "    and makes it easier to detect the leaves.\n",
    "\n",
    "    After binarization, the function converts the image to grayscale. This is done \n",
    "    because the inversion function works on single channel images, and the binarization \n",
    "    process may leave the image in a multi-channel state.\n",
    "\n",
    "    Finally, the function inverts the binary image. In the context of leaf detection, \n",
    "    this step helps to highlight the leaves (which are now white) against the background \n",
    "    (which is now black).\n",
    "\n",
    "    Args:\n",
    "    image (numpy.ndarray): The input image to be processed.\n",
    "    bin_threshold (int): The threshold for binarization. Pixels with a value greater \n",
    "                         than this threshold will be set to the max_value.\n",
    "    max_value (int): The value to be given to pixels that exceed the bin_threshold.\n",
    "    inv_threshold (int): The threshold for inversion. Pixels with a value greater than \n",
    "                         this threshold will be set to 0 (black), and those with a \n",
    "                         value less than or equal to this threshold will be set to \n",
    "                         max_value (white).\n",
    "\n",
    "    Returns:\n",
    "    numpy.ndarray: The processed image, which is a grayscale, binary, inverted version \n",
    "                   of the input image.\n",
    "    \"\"\"\n",
    "    _, binarized_image = cv2.threshold(image, bin_threshold, max_value, cv2.THRESH_BINARY)\n",
    "    grayscale_image = cv2.cvtColor(binarized_image, cv2.COLOR_BGR2GRAY)\n",
    "    _, inverted_image = cv2.threshold(grayscale_image, inv_threshold, max_value, cv2.THRESH_BINARY_INV)\n",
    "    \n",
    "    return inverted_image\n",
    "\n",
    "\n",
    "\n",
    "def find_and_filter_contours(image, threshold_area, min_width, min_height):\n",
    "    \"\"\"\n",
    "    Find contours in the image and filter them based on area, width, and height.\n",
    "\n",
    "    Args:\n",
    "    image (numpy.ndarray): The input image, which should be a binary image where the \n",
    "                           leaves are white and the background is black.\n",
    "    threshold_area (int): The minimum area for a contour to be considered. Contours \n",
    "                          with an area less than this will be ignored.\n",
    "    min_width (int): The minimum width for a contour to be considered. Contours with \n",
    "                     a width less than this will be ignored.\n",
    "    min_height (int): The minimum height for a contour to be considered. Contours with \n",
    "                      a height less than this will be ignored.\n",
    "\n",
    "    Returns:\n",
    "    numpy.ndarray: An array of bounding boxes for the filtered contours, sorted from \n",
    "                   left to right. Each bounding box is represented as a list of four \n",
    "                   coordinates [x, y, x+w, y+h].\n",
    "    \"\"\"\n",
    "    contours, _ = cv2.findContours(image, cv2.RETR_EXTERNAL, cv2.CHAIN_APPROX_NONE)\n",
    "    \n",
    "    bounding_boxes = []\n",
    "    for c in contours:\n",
    "        area = cv2.contourArea(c)\n",
    "        if area > threshold_area:\n",
    "            x, y, w, h = cv2.boundingRect(c)\n",
    "            if w > min_width and h > min_height:\n",
    "                bounding_boxes.append([x, y, x+w, y+h])\n",
    "    \n",
    "    # Sort the bounding boxes from left to right\n",
    "    bounding_boxes = sorted(bounding_boxes, key=lambda b: b[0])\n",
    "    \n",
    "    return np.array(bounding_boxes)\n",
    "\n",
    "\n",
    "\n",
    "def detect_leaves(input_image):\n",
    "    \"\"\"\n",
    "    Detects and returns bounding boxes around specific areas (leaves) in the input image.\n",
    "    \n",
    "    Args:\n",
    "    input_image (numpy.ndarray): Input image to detect leaves from.\n",
    "    \n",
    "    Returns:\n",
    "    numpy.ndarray: Array containing bounding boxes around leaves.\n",
    "    \"\"\"\n",
    "    blurred_image = blur_image(input_image, BLUR_KERNEL_SIZE)\n",
    "    processed_image = binarize_and_invert_image(blurred_image, BINARY_THRESHOLD, MAX_BINARY_VALUE, BINARY_INV_THRESHOLD)\n",
    "    bounding_boxes = find_and_filter_contours(processed_image, THRESHOLD_AREA, MIN_WIDTH, MIN_HEIGHT)\n",
    "    return bounding_boxes"
   ]
  },
  {
   "cell_type": "markdown",
   "metadata": {},
   "source": [
    "---\n",
    "### Example of leaves detection :"
   ]
  },
  {
   "cell_type": "code",
   "execution_count": 3,
   "metadata": {},
   "outputs": [
    {
     "name": "stderr",
     "output_type": "stream",
     "text": [
      "Corrupt JPEG data: 4110 extraneous bytes before marker 0xd5\n"
     ]
    },
    {
     "data": {
      "image/png": "[encoded data removed]",
      "text/plain": [
       "<Figure size 1000x500 with 3 Axes>"
      ]
     },
     "metadata": {},
     "output_type": "display_data"
    },
    {
     "name": "stdout",
     "output_type": "stream",
     "text": [
      "leaves coordinates : \n",
      "[[  689  3839  1756 17226]\n",
      " [ 2774  4087  3663 14651]\n",
      " [ 4749  4420  5784 14320]\n",
      " [ 6730  4286  7570 12985]\n",
      " [ 8782  4155  9528 12790]]\n",
      "Time taken to process leaves detection : 1.072 seconds\n"
     ]
    }
   ],
   "source": [
    "start_time = time.time()\n",
    "input_image = cv2.imread('/Users/titouanlegourrierec/Desktop/all_scan_data/all_090523/1.jpg')\n",
    "blurred_image = blur_image(input_image, BLUR_KERNEL_SIZE)\n",
    "processed_image = binarize_and_invert_image(blurred_image, BINARY_THRESHOLD, MAX_BINARY_VALUE, BINARY_INV_THRESHOLD)\n",
    "bounding_boxes = find_and_filter_contours(processed_image, THRESHOLD_AREA, MIN_WIDTH, MIN_HEIGHT)\n",
    "end_time = time.time()\n",
    "\n",
    "plt.figure(figsize=(10, 5))  # Optional: Set the figure size\n",
    "\n",
    "plt.subplot(1, 3, 1)\n",
    "plt.imshow(cv2.cvtColor(input_image, cv2.COLOR_BGR2RGB))\n",
    "plt.title('Original Image')\n",
    "plt.axis('off')\n",
    "\n",
    "plt.subplot(1, 3, 2)\n",
    "plt.imshow(blurred_image, cmap='gray')\n",
    "plt.title('Blurred Image')\n",
    "plt.axis('off')\n",
    "\n",
    "plt.subplot(1, 3, 3)\n",
    "plt.imshow(processed_image, cmap='gray')\n",
    "plt.title('Processed Image')\n",
    "plt.axis('off')\n",
    "\n",
    "plt.tight_layout()  # Optional: Improve the spacing between subplots\n",
    "plt.show()\n",
    "\n",
    "print(f\"leaves coordinates : \\n{bounding_boxes}\")\n",
    "print(f\"Time taken to process leaves detection : {end_time - start_time:.3f} seconds\")"
   ]
  },
  {
   "cell_type": "markdown",
   "metadata": {},
   "source": [
    "---\n",
    "### `is_image_usable` function\n",
    "The `is_image_usable` function's goal is to determine whether an image is usable or not based on its dimensions. We have experimentally found that issues during leaf scanning are associated with images that are either too small or too large in dimensions."
   ]
  },
  {
   "cell_type": "code",
   "execution_count": 4,
   "metadata": {},
   "outputs": [],
   "source": [
    "# Define the threshold values for image dimensions as constants\n",
    "MIN_HEIGHT_FILE = 11000 # Minimum acceptable image height in pixels\n",
    "MAX_HEIGHT_FILE = 22500 # Maximum acceptable image height in pixels\n",
    "\n",
    "def is_image_usable(image):\n",
    "    \"\"\"\n",
    "    Checks if the image is usable based on its dimensions.\n",
    "    \n",
    "    Args:\n",
    "    image (numpy.ndarray): Input image to check for usability.\n",
    "    \n",
    "    Returns:\n",
    "    bool: True if the image is usable, False otherwise.\n",
    "    \"\"\"\n",
    "    # Get the height of the image\n",
    "    height = image.shape[0]\n",
    "    \n",
    "    # Check if the height is within the acceptable range\n",
    "    return MIN_HEIGHT_FILE <= height <= MAX_HEIGHT_FILE"
   ]
  },
  {
   "cell_type": "markdown",
   "metadata": {},
   "source": [
    "---"
   ]
  },
  {
   "cell_type": "code",
   "execution_count": 5,
   "metadata": {},
   "outputs": [],
   "source": [
    "import os\n",
    "import cv2\n",
    "\n",
    "# Define constants\n",
    "IMAGE_EXTENSIONS = ['.jpg', '.png']\n",
    "NEW_RESULTS_DIR = 'new_results'\n",
    "FILE_DIR = 'File'\n",
    "UNUSABLE_FILE_DIR = 'Unusable_File'\n",
    "\n",
    "\n",
    "\n",
    "def count_files_in_directory(directory, extensions):\n",
    "    \"\"\"\n",
    "    Count the number of files in a directory that have a certain extension.\n",
    "\n",
    "    Args:\n",
    "    directory (str): The path to the directory to search.\n",
    "    extensions (list): A list of file extensions to count.\n",
    "\n",
    "    Returns:\n",
    "    int: The number of files in the directory that have one of the specified extensions.\n",
    "    \"\"\"\n",
    "    # os.path.splitext(filename)[1] gets the file extension of filename\n",
    "    # .lower() converts the extension to lowercase for case-insensitive comparison\n",
    "    return sum(os.path.splitext(filename)[1].lower() in extensions for filename in os.listdir(directory))\n",
    "\n",
    "\n",
    "\n",
    "def create_directory(path):\n",
    "    \"\"\"\n",
    "    Creates a new directory.\n",
    "\n",
    "    This function uses the os.makedirs() function to create a new directory at the specified path.\n",
    "    The exist_ok parameter is set to True, which means the function will not raise an error if the directory already exists.\n",
    "\n",
    "    Args:\n",
    "    path (str): The path where the new directory should be created.\n",
    "    \"\"\"\n",
    "    os.makedirs(path, exist_ok=True)\n",
    "\n",
    "\n",
    "def image_processing(entry_path, exit_path):\n",
    "    \"\"\"\n",
    "    Process all image files in a directory: count them, create necessary directories, process each image, and print the results.\n",
    "\n",
    "    Args:\n",
    "    entry_path (str): The path to the directory containing the image files to process.\n",
    "    exit_path (str): The path to the directory where the processed images will be saved.\n",
    "    \"\"\"\n",
    "\n",
    "    # Count the number of image files in the directory\n",
    "    num_files = count_files_in_directory(entry_path, IMAGE_EXTENSIONS)\n",
    "\n",
    "    # Create a new directory for the results\n",
    "    new_results_path = os.path.join(exit_path, NEW_RESULTS_DIR)\n",
    "    create_directory(new_results_path)\n",
    "\n",
    "    # Create subdirectories for the processed and unusable images\n",
    "    file_path = os.path.join(new_results_path, FILE_DIR)\n",
    "    unusable_file_path = os.path.join(new_results_path, UNUSABLE_FILE_DIR)\n",
    "    create_directory(file_path)\n",
    "    create_directory(unusable_file_path)\n",
    "\n",
    "    # Initialize counters for the total number of files and the number of unusable files\n",
    "    count_files = 0\n",
    "    count_unusable_files = 0\n",
    "\n",
    "    # Process each file in the directory\n",
    "    for filename in os.listdir(entry_path):\n",
    "        # Check if the file is an image file\n",
    "        if os.path.splitext(filename)[1].lower() in IMAGE_EXTENSIONS:\n",
    "\n",
    "            # Create the full path to the image file\n",
    "            full_path = os.path.join(entry_path, filename)\n",
    "\n",
    "            # Read the image file\n",
    "            img = cv2.imread(full_path)\n",
    "\n",
    "            # Check if the image is usable\n",
    "            if not is_image_usable(img):\n",
    "                count_unusable_files += 1\n",
    "\n",
    "                # Save the unusable file to the unusable_file_path directory\n",
    "                cv2.imwrite(os.path.join(unusable_file_path, f\"Unusable_File_{filename}\"), img)\n",
    "            else:\n",
    "                # Detect leaves in the image\n",
    "                bounding_boxes = detect_leaves(img)\n",
    "                file_name_without_extension, extension = os.path.splitext(os.path.basename(full_path))\n",
    "\n",
    "                # Save the processed image to the file_path directory\n",
    "                for j, box in enumerate(bounding_boxes):\n",
    "                    x1, y1, x2, y2 = box\n",
    "                    part = img[y1:y2, x1:x2]\n",
    "                    new_file_name = f\"{file_name_without_extension}_leaf{j + 1}{extension}\"\n",
    "                    cv2.imwrite(os.path.join(file_path, new_file_name), part)\n",
    "\n",
    "            count_files += 1"
   ]
  },
  {
   "cell_type": "code",
   "execution_count": 6,
   "metadata": {},
   "outputs": [
    {
     "name": "stderr",
     "output_type": "stream",
     "text": [
      "Corrupt JPEG data: 4196 extraneous bytes before marker 0xd5\n"
     ]
    },
    {
     "name": "stdout",
     "output_type": "stream",
     "text": [
      "Usable Files: 1, Unusable Files: 0\n"
     ]
    },
    {
     "name": "stderr",
     "output_type": "stream",
     "text": [
      "Corrupt JPEG data: 4314 extraneous bytes before marker 0xd6\n"
     ]
    },
    {
     "name": "stdout",
     "output_type": "stream",
     "text": [
      "Usable Files: 2, Unusable Files: 0\n"
     ]
    },
    {
     "name": "stderr",
     "output_type": "stream",
     "text": [
      "Corrupt JPEG data: 4424 extraneous bytes before marker 0xd1\n"
     ]
    },
    {
     "name": "stdout",
     "output_type": "stream",
     "text": [
      "Usable Files: 3, Unusable Files: 0\n"
     ]
    },
    {
     "name": "stderr",
     "output_type": "stream",
     "text": [
      "Corrupt JPEG data: 6277 extraneous bytes before marker 0xd6\n"
     ]
    },
    {
     "name": "stdout",
     "output_type": "stream",
     "text": [
      "Usable Files: 4, Unusable Files: 0\n"
     ]
    },
    {
     "name": "stderr",
     "output_type": "stream",
     "text": [
      "Corrupt JPEG data: 4849 extraneous bytes before marker 0xd1\n"
     ]
    },
    {
     "name": "stdout",
     "output_type": "stream",
     "text": [
      "Usable Files: 5, Unusable Files: 0\n"
     ]
    },
    {
     "name": "stderr",
     "output_type": "stream",
     "text": [
      "Corrupt JPEG data: 4520 extraneous bytes before marker 0xd2\n"
     ]
    },
    {
     "name": "stdout",
     "output_type": "stream",
     "text": [
      "Usable Files: 6, Unusable Files: 0\n"
     ]
    },
    {
     "name": "stderr",
     "output_type": "stream",
     "text": [
      "Corrupt JPEG data: 3975 extraneous bytes before marker 0xd3\n"
     ]
    },
    {
     "name": "stdout",
     "output_type": "stream",
     "text": [
      "Usable Files: 7, Unusable Files: 0\n"
     ]
    },
    {
     "name": "stderr",
     "output_type": "stream",
     "text": [
      "Corrupt JPEG data: 4487 extraneous bytes before marker 0xd1\n"
     ]
    },
    {
     "name": "stdout",
     "output_type": "stream",
     "text": [
      "Usable Files: 8, Unusable Files: 0\n"
     ]
    },
    {
     "name": "stderr",
     "output_type": "stream",
     "text": [
      "Corrupt JPEG data: 5048 extraneous bytes before marker 0xd0\n"
     ]
    },
    {
     "name": "stdout",
     "output_type": "stream",
     "text": [
      "Usable Files: 9, Unusable Files: 0\n",
      "Usable Files: 10, Unusable Files: 0\n"
     ]
    },
    {
     "name": "stderr",
     "output_type": "stream",
     "text": [
      "Corrupt JPEG data: 6322 extraneous bytes before marker 0xd3\n"
     ]
    },
    {
     "name": "stdout",
     "output_type": "stream",
     "text": [
      "Usable Files: 10, Unusable Files: 1\n"
     ]
    },
    {
     "name": "stderr",
     "output_type": "stream",
     "text": [
      "Corrupt JPEG data: 6159 extraneous bytes before marker 0xd2\n"
     ]
    },
    {
     "name": "stdout",
     "output_type": "stream",
     "text": [
      "Usable Files: 11, Unusable Files: 1\n"
     ]
    },
    {
     "name": "stderr",
     "output_type": "stream",
     "text": [
      "Corrupt JPEG data: 4830 extraneous bytes before marker 0xd2\n"
     ]
    },
    {
     "name": "stdout",
     "output_type": "stream",
     "text": [
      "Usable Files: 12, Unusable Files: 1\n"
     ]
    },
    {
     "name": "stderr",
     "output_type": "stream",
     "text": [
      "Corrupt JPEG data: 4879 extraneous bytes before marker 0xd6\n"
     ]
    },
    {
     "name": "stdout",
     "output_type": "stream",
     "text": [
      "Usable Files: 13, Unusable Files: 1\n"
     ]
    },
    {
     "name": "stderr",
     "output_type": "stream",
     "text": [
      "Corrupt JPEG data: 4412 extraneous bytes before marker 0xd2\n"
     ]
    },
    {
     "name": "stdout",
     "output_type": "stream",
     "text": [
      "Usable Files: 14, Unusable Files: 1\n"
     ]
    },
    {
     "name": "stderr",
     "output_type": "stream",
     "text": [
      "Corrupt JPEG data: 4866 extraneous bytes before marker 0xd4\n"
     ]
    },
    {
     "name": "stdout",
     "output_type": "stream",
     "text": [
      "Usable Files: 15, Unusable Files: 1\n"
     ]
    },
    {
     "name": "stderr",
     "output_type": "stream",
     "text": [
      "Corrupt JPEG data: 4112 extraneous bytes before marker 0xd3\n"
     ]
    },
    {
     "name": "stdout",
     "output_type": "stream",
     "text": [
      "Usable Files: 16, Unusable Files: 1\n",
      "Usable Files: 16, Unusable Files: 2\n"
     ]
    },
    {
     "name": "stderr",
     "output_type": "stream",
     "text": [
      "Corrupt JPEG data: 4326 extraneous bytes before marker 0xd4\n"
     ]
    },
    {
     "name": "stdout",
     "output_type": "stream",
     "text": [
      "Usable Files: 17, Unusable Files: 2\n"
     ]
    },
    {
     "name": "stderr",
     "output_type": "stream",
     "text": [
      "Corrupt JPEG data: 4816 extraneous bytes before marker 0xd6\n"
     ]
    },
    {
     "name": "stdout",
     "output_type": "stream",
     "text": [
      "Usable Files: 18, Unusable Files: 2\n"
     ]
    },
    {
     "name": "stderr",
     "output_type": "stream",
     "text": [
      "Corrupt JPEG data: 5062 extraneous bytes before marker 0xd3\n"
     ]
    },
    {
     "name": "stdout",
     "output_type": "stream",
     "text": [
      "Usable Files: 19, Unusable Files: 2\n"
     ]
    },
    {
     "name": "stderr",
     "output_type": "stream",
     "text": [
      "Corrupt JPEG data: 4126 extraneous bytes before marker 0xd1\n"
     ]
    },
    {
     "name": "stdout",
     "output_type": "stream",
     "text": [
      "Usable Files: 20, Unusable Files: 2\n"
     ]
    },
    {
     "name": "stderr",
     "output_type": "stream",
     "text": [
      "Corrupt JPEG data: 4691 extraneous bytes before marker 0xd0\n"
     ]
    },
    {
     "name": "stdout",
     "output_type": "stream",
     "text": [
      "Usable Files: 21, Unusable Files: 2\n"
     ]
    },
    {
     "name": "stderr",
     "output_type": "stream",
     "text": [
      "Corrupt JPEG data: 3775 extraneous bytes before marker 0xd7\n"
     ]
    },
    {
     "name": "stdout",
     "output_type": "stream",
     "text": [
      "Usable Files: 22, Unusable Files: 2\n"
     ]
    },
    {
     "name": "stderr",
     "output_type": "stream",
     "text": [
      "Corrupt JPEG data: 4307 extraneous bytes before marker 0xd6\n"
     ]
    },
    {
     "name": "stdout",
     "output_type": "stream",
     "text": [
      "Usable Files: 23, Unusable Files: 2\n"
     ]
    },
    {
     "name": "stderr",
     "output_type": "stream",
     "text": [
      "Corrupt JPEG data: 5436 extraneous bytes before marker 0xd0\n"
     ]
    },
    {
     "name": "stdout",
     "output_type": "stream",
     "text": [
      "Usable Files: 24, Unusable Files: 2\n",
      "Usable Files: 24, Unusable Files: 3\n"
     ]
    },
    {
     "name": "stderr",
     "output_type": "stream",
     "text": [
      "Corrupt JPEG data: 5028 extraneous bytes before marker 0xd2\n"
     ]
    },
    {
     "name": "stdout",
     "output_type": "stream",
     "text": [
      "Usable Files: 25, Unusable Files: 3\n"
     ]
    },
    {
     "name": "stderr",
     "output_type": "stream",
     "text": [
      "Corrupt JPEG data: 5709 extraneous bytes before marker 0xd3\n"
     ]
    },
    {
     "name": "stdout",
     "output_type": "stream",
     "text": [
      "Usable Files: 26, Unusable Files: 3\n"
     ]
    },
    {
     "name": "stderr",
     "output_type": "stream",
     "text": [
      "Corrupt JPEG data: 3902 extraneous bytes before marker 0xd4\n"
     ]
    },
    {
     "name": "stdout",
     "output_type": "stream",
     "text": [
      "Usable Files: 27, Unusable Files: 3\n"
     ]
    },
    {
     "name": "stderr",
     "output_type": "stream",
     "text": [
      "Corrupt JPEG data: 4457 extraneous bytes before marker 0xd3\n"
     ]
    },
    {
     "name": "stdout",
     "output_type": "stream",
     "text": [
      "Usable Files: 28, Unusable Files: 3\n"
     ]
    },
    {
     "name": "stderr",
     "output_type": "stream",
     "text": [
      "Corrupt JPEG data: 5507 extraneous bytes before marker 0xd7\n"
     ]
    },
    {
     "name": "stdout",
     "output_type": "stream",
     "text": [
      "Usable Files: 29, Unusable Files: 3\n"
     ]
    },
    {
     "name": "stderr",
     "output_type": "stream",
     "text": [
      "Corrupt JPEG data: 5169 extraneous bytes before marker 0xd7\n"
     ]
    },
    {
     "name": "stdout",
     "output_type": "stream",
     "text": [
      "Usable Files: 30, Unusable Files: 3\n"
     ]
    },
    {
     "name": "stderr",
     "output_type": "stream",
     "text": [
      "Corrupt JPEG data: 5738 extraneous bytes before marker 0xd0\n"
     ]
    },
    {
     "name": "stdout",
     "output_type": "stream",
     "text": [
      "Usable Files: 30, Unusable Files: 4\n",
      "Usable Files: 31, Unusable Files: 4\n"
     ]
    },
    {
     "name": "stderr",
     "output_type": "stream",
     "text": [
      "Corrupt JPEG data: 4066 extraneous bytes before marker 0xd7\n"
     ]
    },
    {
     "name": "stdout",
     "output_type": "stream",
     "text": [
      "Usable Files: 32, Unusable Files: 4\n"
     ]
    },
    {
     "name": "stderr",
     "output_type": "stream",
     "text": [
      "Corrupt JPEG data: 4910 extraneous bytes before marker 0xd3\n"
     ]
    },
    {
     "name": "stdout",
     "output_type": "stream",
     "text": [
      "Usable Files: 33, Unusable Files: 4\n"
     ]
    },
    {
     "name": "stderr",
     "output_type": "stream",
     "text": [
      "Corrupt JPEG data: 4561 extraneous bytes before marker 0xd3\n"
     ]
    },
    {
     "name": "stdout",
     "output_type": "stream",
     "text": [
      "Usable Files: 34, Unusable Files: 4\n"
     ]
    },
    {
     "name": "stderr",
     "output_type": "stream",
     "text": [
      "Corrupt JPEG data: 5201 extraneous bytes before marker 0xd4\n"
     ]
    },
    {
     "name": "stdout",
     "output_type": "stream",
     "text": [
      "Usable Files: 35, Unusable Files: 4\n"
     ]
    },
    {
     "name": "stderr",
     "output_type": "stream",
     "text": [
      "Corrupt JPEG data: 4187 extraneous bytes before marker 0xd6\n"
     ]
    },
    {
     "name": "stdout",
     "output_type": "stream",
     "text": [
      "Usable Files: 36, Unusable Files: 4\n"
     ]
    },
    {
     "name": "stderr",
     "output_type": "stream",
     "text": [
      "Corrupt JPEG data: 4715 extraneous bytes before marker 0xd5\n"
     ]
    },
    {
     "name": "stdout",
     "output_type": "stream",
     "text": [
      "Usable Files: 37, Unusable Files: 4\n"
     ]
    },
    {
     "name": "stderr",
     "output_type": "stream",
     "text": [
      "Corrupt JPEG data: 4389 extraneous bytes before marker 0xd1\n"
     ]
    },
    {
     "name": "stdout",
     "output_type": "stream",
     "text": [
      "Usable Files: 38, Unusable Files: 4\n"
     ]
    },
    {
     "name": "stderr",
     "output_type": "stream",
     "text": [
      "Corrupt JPEG data: 4549 extraneous bytes before marker 0xd1\n"
     ]
    },
    {
     "name": "stdout",
     "output_type": "stream",
     "text": [
      "Usable Files: 39, Unusable Files: 4\n"
     ]
    },
    {
     "name": "stderr",
     "output_type": "stream",
     "text": [
      "Corrupt JPEG data: 4548 extraneous bytes before marker 0xd3\n"
     ]
    },
    {
     "name": "stdout",
     "output_type": "stream",
     "text": [
      "Usable Files: 40, Unusable Files: 4\n"
     ]
    },
    {
     "name": "stderr",
     "output_type": "stream",
     "text": [
      "Corrupt JPEG data: 4394 extraneous bytes before marker 0xd1\n"
     ]
    },
    {
     "name": "stdout",
     "output_type": "stream",
     "text": [
      "Usable Files: 41, Unusable Files: 4\n"
     ]
    },
    {
     "name": "stderr",
     "output_type": "stream",
     "text": [
      "Corrupt JPEG data: 4658 extraneous bytes before marker 0xd3\n"
     ]
    },
    {
     "name": "stdout",
     "output_type": "stream",
     "text": [
      "Usable Files: 42, Unusable Files: 4\n"
     ]
    },
    {
     "name": "stderr",
     "output_type": "stream",
     "text": [
      "Corrupt JPEG data: 4586 extraneous bytes before marker 0xd4\n"
     ]
    },
    {
     "name": "stdout",
     "output_type": "stream",
     "text": [
      "Usable Files: 43, Unusable Files: 4\n"
     ]
    },
    {
     "name": "stderr",
     "output_type": "stream",
     "text": [
      "Corrupt JPEG data: 4641 extraneous bytes before marker 0xd0\n"
     ]
    },
    {
     "name": "stdout",
     "output_type": "stream",
     "text": [
      "Usable Files: 44, Unusable Files: 4\n"
     ]
    },
    {
     "name": "stderr",
     "output_type": "stream",
     "text": [
      "Corrupt JPEG data: 4582 extraneous bytes before marker 0xd7\n"
     ]
    },
    {
     "name": "stdout",
     "output_type": "stream",
     "text": [
      "Usable Files: 45, Unusable Files: 4\n"
     ]
    },
    {
     "name": "stderr",
     "output_type": "stream",
     "text": [
      "Corrupt JPEG data: 4179 extraneous bytes before marker 0xd2\n"
     ]
    },
    {
     "name": "stdout",
     "output_type": "stream",
     "text": [
      "Usable Files: 46, Unusable Files: 4\n"
     ]
    },
    {
     "name": "stderr",
     "output_type": "stream",
     "text": [
      "Corrupt JPEG data: 4216 extraneous bytes before marker 0xd3\n"
     ]
    },
    {
     "name": "stdout",
     "output_type": "stream",
     "text": [
      "Usable Files: 47, Unusable Files: 4\n"
     ]
    },
    {
     "name": "stderr",
     "output_type": "stream",
     "text": [
      "Corrupt JPEG data: 5600 extraneous bytes before marker 0xd0\n"
     ]
    },
    {
     "name": "stdout",
     "output_type": "stream",
     "text": [
      "Usable Files: 48, Unusable Files: 4\n"
     ]
    },
    {
     "name": "stderr",
     "output_type": "stream",
     "text": [
      "Corrupt JPEG data: 7015 extraneous bytes before marker 0xd7\n"
     ]
    },
    {
     "name": "stdout",
     "output_type": "stream",
     "text": [
      "Usable Files: 48, Unusable Files: 5\n"
     ]
    },
    {
     "name": "stderr",
     "output_type": "stream",
     "text": [
      "Corrupt JPEG data: 4012 extraneous bytes before marker 0xd2\n"
     ]
    },
    {
     "name": "stdout",
     "output_type": "stream",
     "text": [
      "Usable Files: 49, Unusable Files: 5\n"
     ]
    },
    {
     "name": "stderr",
     "output_type": "stream",
     "text": [
      "Corrupt JPEG data: 4111 extraneous bytes before marker 0xd5\n"
     ]
    },
    {
     "name": "stdout",
     "output_type": "stream",
     "text": [
      "Usable Files: 50, Unusable Files: 5\n"
     ]
    },
    {
     "name": "stderr",
     "output_type": "stream",
     "text": [
      "Corrupt JPEG data: 4620 extraneous bytes before marker 0xd3\n"
     ]
    },
    {
     "name": "stdout",
     "output_type": "stream",
     "text": [
      "Usable Files: 51, Unusable Files: 5\n"
     ]
    },
    {
     "name": "stderr",
     "output_type": "stream",
     "text": [
      "Corrupt JPEG data: 5008 extraneous bytes before marker 0xd3\n"
     ]
    },
    {
     "name": "stdout",
     "output_type": "stream",
     "text": [
      "Usable Files: 52, Unusable Files: 5\n"
     ]
    },
    {
     "name": "stderr",
     "output_type": "stream",
     "text": [
      "Corrupt JPEG data: 4955 extraneous bytes before marker 0xd0\n"
     ]
    },
    {
     "name": "stdout",
     "output_type": "stream",
     "text": [
      "Usable Files: 53, Unusable Files: 5\n"
     ]
    },
    {
     "name": "stderr",
     "output_type": "stream",
     "text": [
      "Corrupt JPEG data: 5773 extraneous bytes before marker 0xd4\n"
     ]
    },
    {
     "name": "stdout",
     "output_type": "stream",
     "text": [
      "Usable Files: 54, Unusable Files: 5\n"
     ]
    },
    {
     "name": "stderr",
     "output_type": "stream",
     "text": [
      "Corrupt JPEG data: 6252 extraneous bytes before marker 0xd7\n"
     ]
    },
    {
     "name": "stdout",
     "output_type": "stream",
     "text": [
      "Usable Files: 55, Unusable Files: 5\n"
     ]
    },
    {
     "name": "stderr",
     "output_type": "stream",
     "text": [
      "Corrupt JPEG data: 4773 extraneous bytes before marker 0xd1\n"
     ]
    },
    {
     "name": "stdout",
     "output_type": "stream",
     "text": [
      "Usable Files: 56, Unusable Files: 5\n"
     ]
    },
    {
     "name": "stderr",
     "output_type": "stream",
     "text": [
      "Corrupt JPEG data: 4714 extraneous bytes before marker 0xd2\n"
     ]
    },
    {
     "name": "stdout",
     "output_type": "stream",
     "text": [
      "Usable Files: 57, Unusable Files: 5\n"
     ]
    },
    {
     "name": "stderr",
     "output_type": "stream",
     "text": [
      "Corrupt JPEG data: 4215 extraneous bytes before marker 0xd3\n"
     ]
    },
    {
     "name": "stdout",
     "output_type": "stream",
     "text": [
      "Usable Files: 58, Unusable Files: 5\n"
     ]
    },
    {
     "name": "stderr",
     "output_type": "stream",
     "text": [
      "Corrupt JPEG data: 5395 extraneous bytes before marker 0xd1\n"
     ]
    },
    {
     "name": "stdout",
     "output_type": "stream",
     "text": [
      "Usable Files: 59, Unusable Files: 5\n"
     ]
    },
    {
     "name": "stderr",
     "output_type": "stream",
     "text": [
      "Corrupt JPEG data: 3942 extraneous bytes before marker 0xd6\n"
     ]
    },
    {
     "name": "stdout",
     "output_type": "stream",
     "text": [
      "Usable Files: 60, Unusable Files: 5\n"
     ]
    },
    {
     "name": "stderr",
     "output_type": "stream",
     "text": [
      "Corrupt JPEG data: 4011 extraneous bytes before marker 0xd5\n"
     ]
    },
    {
     "name": "stdout",
     "output_type": "stream",
     "text": [
      "Usable Files: 61, Unusable Files: 5\n"
     ]
    },
    {
     "name": "stderr",
     "output_type": "stream",
     "text": [
      "Corrupt JPEG data: 5386 extraneous bytes before marker 0xd2\n"
     ]
    },
    {
     "name": "stdout",
     "output_type": "stream",
     "text": [
      "Usable Files: 62, Unusable Files: 5\n"
     ]
    },
    {
     "name": "stderr",
     "output_type": "stream",
     "text": [
      "Corrupt JPEG data: 4105 extraneous bytes before marker 0xd5\n"
     ]
    },
    {
     "name": "stdout",
     "output_type": "stream",
     "text": [
      "Usable Files: 63, Unusable Files: 5\n"
     ]
    },
    {
     "name": "stderr",
     "output_type": "stream",
     "text": [
      "Corrupt JPEG data: 5110 extraneous bytes before marker 0xd1\n"
     ]
    },
    {
     "name": "stdout",
     "output_type": "stream",
     "text": [
      "Usable Files: 64, Unusable Files: 5\n"
     ]
    },
    {
     "name": "stderr",
     "output_type": "stream",
     "text": [
      "Corrupt JPEG data: 6182 extraneous bytes before marker 0xd4\n"
     ]
    },
    {
     "name": "stdout",
     "output_type": "stream",
     "text": [
      "Usable Files: 65, Unusable Files: 5\n"
     ]
    },
    {
     "name": "stderr",
     "output_type": "stream",
     "text": [
      "Corrupt JPEG data: 4005 extraneous bytes before marker 0xd5\n"
     ]
    },
    {
     "name": "stdout",
     "output_type": "stream",
     "text": [
      "Usable Files: 66, Unusable Files: 5\n"
     ]
    },
    {
     "name": "stderr",
     "output_type": "stream",
     "text": [
      "Corrupt JPEG data: 4759 extraneous bytes before marker 0xd5\n"
     ]
    },
    {
     "name": "stdout",
     "output_type": "stream",
     "text": [
      "Usable Files: 67, Unusable Files: 5\n"
     ]
    },
    {
     "name": "stderr",
     "output_type": "stream",
     "text": [
      "Corrupt JPEG data: 4379 extraneous bytes before marker 0xd5\n"
     ]
    },
    {
     "name": "stdout",
     "output_type": "stream",
     "text": [
      "Usable Files: 68, Unusable Files: 5\n",
      "Usable Files: 68, Unusable Files: 6\n"
     ]
    },
    {
     "name": "stderr",
     "output_type": "stream",
     "text": [
      "Corrupt JPEG data: 4349 extraneous bytes before marker 0xd7\n"
     ]
    },
    {
     "name": "stdout",
     "output_type": "stream",
     "text": [
      "Usable Files: 69, Unusable Files: 6\n"
     ]
    },
    {
     "name": "stderr",
     "output_type": "stream",
     "text": [
      "Corrupt JPEG data: 4040 extraneous bytes before marker 0xd0\n"
     ]
    },
    {
     "name": "stdout",
     "output_type": "stream",
     "text": [
      "Usable Files: 70, Unusable Files: 6\n"
     ]
    },
    {
     "name": "stderr",
     "output_type": "stream",
     "text": [
      "Corrupt JPEG data: 4815 extraneous bytes before marker 0xd4\n"
     ]
    },
    {
     "name": "stdout",
     "output_type": "stream",
     "text": [
      "Usable Files: 71, Unusable Files: 6\n"
     ]
    },
    {
     "name": "stderr",
     "output_type": "stream",
     "text": [
      "Corrupt JPEG data: 5328 extraneous bytes before marker 0xd7\n"
     ]
    },
    {
     "name": "stdout",
     "output_type": "stream",
     "text": [
      "Usable Files: 72, Unusable Files: 6\n"
     ]
    },
    {
     "name": "stderr",
     "output_type": "stream",
     "text": [
      "Corrupt JPEG data: 4113 extraneous bytes before marker 0xd1\n"
     ]
    },
    {
     "name": "stdout",
     "output_type": "stream",
     "text": [
      "Usable Files: 73, Unusable Files: 6\n"
     ]
    },
    {
     "name": "stderr",
     "output_type": "stream",
     "text": [
      "Corrupt JPEG data: 3925 extraneous bytes before marker 0xd0\n"
     ]
    },
    {
     "name": "stdout",
     "output_type": "stream",
     "text": [
      "Usable Files: 74, Unusable Files: 6\n"
     ]
    },
    {
     "name": "stderr",
     "output_type": "stream",
     "text": [
      "Corrupt JPEG data: 4149 extraneous bytes before marker 0xd3\n"
     ]
    },
    {
     "name": "stdout",
     "output_type": "stream",
     "text": [
      "Usable Files: 75, Unusable Files: 6\n"
     ]
    },
    {
     "name": "stderr",
     "output_type": "stream",
     "text": [
      "Corrupt JPEG data: 4198 extraneous bytes before marker 0xd0\n"
     ]
    },
    {
     "name": "stdout",
     "output_type": "stream",
     "text": [
      "Usable Files: 76, Unusable Files: 6\n"
     ]
    },
    {
     "name": "stderr",
     "output_type": "stream",
     "text": [
      "Corrupt JPEG data: 4425 extraneous bytes before marker 0xd2\n"
     ]
    },
    {
     "name": "stdout",
     "output_type": "stream",
     "text": [
      "Usable Files: 77, Unusable Files: 6\n"
     ]
    },
    {
     "name": "stderr",
     "output_type": "stream",
     "text": [
      "Corrupt JPEG data: 4234 extraneous bytes before marker 0xd2\n"
     ]
    },
    {
     "name": "stdout",
     "output_type": "stream",
     "text": [
      "Usable Files: 78, Unusable Files: 6\n"
     ]
    },
    {
     "name": "stderr",
     "output_type": "stream",
     "text": [
      "Corrupt JPEG data: 4560 extraneous bytes before marker 0xd3\n"
     ]
    },
    {
     "name": "stdout",
     "output_type": "stream",
     "text": [
      "Usable Files: 79, Unusable Files: 6\n"
     ]
    },
    {
     "name": "stderr",
     "output_type": "stream",
     "text": [
      "Corrupt JPEG data: 4174 extraneous bytes before marker 0xd1\n"
     ]
    },
    {
     "name": "stdout",
     "output_type": "stream",
     "text": [
      "Usable Files: 80, Unusable Files: 6\n"
     ]
    },
    {
     "name": "stderr",
     "output_type": "stream",
     "text": [
      "Corrupt JPEG data: 4028 extraneous bytes before marker 0xd2\n"
     ]
    },
    {
     "name": "stdout",
     "output_type": "stream",
     "text": [
      "Usable Files: 81, Unusable Files: 6\n"
     ]
    },
    {
     "name": "stderr",
     "output_type": "stream",
     "text": [
      "Corrupt JPEG data: 5208 extraneous bytes before marker 0xd1\n"
     ]
    },
    {
     "name": "stdout",
     "output_type": "stream",
     "text": [
      "Usable Files: 82, Unusable Files: 6\n"
     ]
    },
    {
     "name": "stderr",
     "output_type": "stream",
     "text": [
      "Corrupt JPEG data: 5427 extraneous bytes before marker 0xd7\n"
     ]
    },
    {
     "name": "stdout",
     "output_type": "stream",
     "text": [
      "Usable Files: 83, Unusable Files: 6\n"
     ]
    },
    {
     "name": "stderr",
     "output_type": "stream",
     "text": [
      "Corrupt JPEG data: 4268 extraneous bytes before marker 0xd4\n"
     ]
    },
    {
     "name": "stdout",
     "output_type": "stream",
     "text": [
      "Usable Files: 84, Unusable Files: 6\n"
     ]
    },
    {
     "name": "stderr",
     "output_type": "stream",
     "text": [
      "Corrupt JPEG data: 4078 extraneous bytes before marker 0xd1\n"
     ]
    },
    {
     "name": "stdout",
     "output_type": "stream",
     "text": [
      "Usable Files: 85, Unusable Files: 6\n",
      "Usable Files: 85, Unusable Files: 7\n"
     ]
    },
    {
     "name": "stderr",
     "output_type": "stream",
     "text": [
      "Corrupt JPEG data: 4934 extraneous bytes before marker 0xd2\n"
     ]
    },
    {
     "name": "stdout",
     "output_type": "stream",
     "text": [
      "Usable Files: 86, Unusable Files: 7\n"
     ]
    },
    {
     "name": "stderr",
     "output_type": "stream",
     "text": [
      "Corrupt JPEG data: 4088 extraneous bytes before marker 0xd6\n"
     ]
    },
    {
     "name": "stdout",
     "output_type": "stream",
     "text": [
      "Usable Files: 87, Unusable Files: 7\n"
     ]
    },
    {
     "name": "stderr",
     "output_type": "stream",
     "text": [
      "Corrupt JPEG data: 4499 extraneous bytes before marker 0xd0\n"
     ]
    },
    {
     "name": "stdout",
     "output_type": "stream",
     "text": [
      "Usable Files: 88, Unusable Files: 7\n"
     ]
    },
    {
     "name": "stderr",
     "output_type": "stream",
     "text": [
      "Corrupt JPEG data: 6054 extraneous bytes before marker 0xd7\n"
     ]
    },
    {
     "name": "stdout",
     "output_type": "stream",
     "text": [
      "Usable Files: 89, Unusable Files: 7\n"
     ]
    },
    {
     "name": "stderr",
     "output_type": "stream",
     "text": [
      "Corrupt JPEG data: 5048 extraneous bytes before marker 0xd3\n"
     ]
    },
    {
     "name": "stdout",
     "output_type": "stream",
     "text": [
      "Usable Files: 90, Unusable Files: 7\n"
     ]
    },
    {
     "name": "stderr",
     "output_type": "stream",
     "text": [
      "Corrupt JPEG data: 4389 extraneous bytes before marker 0xd1\n"
     ]
    },
    {
     "name": "stdout",
     "output_type": "stream",
     "text": [
      "Usable Files: 91, Unusable Files: 7\n"
     ]
    },
    {
     "name": "stderr",
     "output_type": "stream",
     "text": [
      "Corrupt JPEG data: 4494 extraneous bytes before marker 0xd7\n"
     ]
    },
    {
     "name": "stdout",
     "output_type": "stream",
     "text": [
      "Usable Files: 92, Unusable Files: 7\n"
     ]
    },
    {
     "name": "stderr",
     "output_type": "stream",
     "text": [
      "Corrupt JPEG data: 4315 extraneous bytes before marker 0xd2\n"
     ]
    },
    {
     "name": "stdout",
     "output_type": "stream",
     "text": [
      "Usable Files: 93, Unusable Files: 7\n"
     ]
    },
    {
     "name": "stderr",
     "output_type": "stream",
     "text": [
      "Corrupt JPEG data: 4169 extraneous bytes before marker 0xd6\n"
     ]
    },
    {
     "name": "stdout",
     "output_type": "stream",
     "text": [
      "Usable Files: 94, Unusable Files: 7\n"
     ]
    },
    {
     "name": "stderr",
     "output_type": "stream",
     "text": [
      "Corrupt JPEG data: 4889 extraneous bytes before marker 0xd3\n"
     ]
    },
    {
     "name": "stdout",
     "output_type": "stream",
     "text": [
      "Usable Files: 95, Unusable Files: 7\n",
      "Usable Files: 95, Unusable Files: 8\n"
     ]
    },
    {
     "name": "stderr",
     "output_type": "stream",
     "text": [
      "Corrupt JPEG data: 4998 extraneous bytes before marker 0xd7\n"
     ]
    },
    {
     "name": "stdout",
     "output_type": "stream",
     "text": [
      "Usable Files: 96, Unusable Files: 8\n"
     ]
    },
    {
     "name": "stderr",
     "output_type": "stream",
     "text": [
      "Corrupt JPEG data: 4143 extraneous bytes before marker 0xd1\n"
     ]
    },
    {
     "name": "stdout",
     "output_type": "stream",
     "text": [
      "Usable Files: 97, Unusable Files: 8\n",
      "Usable Files: 98, Unusable Files: 8\n"
     ]
    },
    {
     "name": "stderr",
     "output_type": "stream",
     "text": [
      "Corrupt JPEG data: 4136 extraneous bytes before marker 0xd5\n"
     ]
    },
    {
     "name": "stdout",
     "output_type": "stream",
     "text": [
      "Usable Files: 99, Unusable Files: 8\n"
     ]
    },
    {
     "name": "stderr",
     "output_type": "stream",
     "text": [
      "Corrupt JPEG data: 5450 extraneous bytes before marker 0xd2\n"
     ]
    },
    {
     "name": "stdout",
     "output_type": "stream",
     "text": [
      "Usable Files: 100, Unusable Files: 8\n"
     ]
    },
    {
     "name": "stderr",
     "output_type": "stream",
     "text": [
      "Corrupt JPEG data: 4791 extraneous bytes before marker 0xd2\n"
     ]
    },
    {
     "name": "stdout",
     "output_type": "stream",
     "text": [
      "Usable Files: 101, Unusable Files: 8\n"
     ]
    },
    {
     "name": "stderr",
     "output_type": "stream",
     "text": [
      "Corrupt JPEG data: 4094 extraneous bytes before marker 0xd4\n"
     ]
    },
    {
     "name": "stdout",
     "output_type": "stream",
     "text": [
      "Usable Files: 102, Unusable Files: 8\n"
     ]
    },
    {
     "name": "stderr",
     "output_type": "stream",
     "text": [
      "Corrupt JPEG data: 3724 extraneous bytes before marker 0xd1\n"
     ]
    },
    {
     "name": "stdout",
     "output_type": "stream",
     "text": [
      "Usable Files: 103, Unusable Files: 8\n"
     ]
    },
    {
     "name": "stderr",
     "output_type": "stream",
     "text": [
      "Corrupt JPEG data: 4790 extraneous bytes before marker 0xd2\n"
     ]
    },
    {
     "name": "stdout",
     "output_type": "stream",
     "text": [
      "Usable Files: 104, Unusable Files: 8\n"
     ]
    },
    {
     "name": "stderr",
     "output_type": "stream",
     "text": [
      "Corrupt JPEG data: 4829 extraneous bytes before marker 0xd0\n"
     ]
    },
    {
     "name": "stdout",
     "output_type": "stream",
     "text": [
      "Usable Files: 105, Unusable Files: 8\n"
     ]
    },
    {
     "name": "stderr",
     "output_type": "stream",
     "text": [
      "Corrupt JPEG data: 3593 extraneous bytes before marker 0xd5\n"
     ]
    },
    {
     "name": "stdout",
     "output_type": "stream",
     "text": [
      "Usable Files: 106, Unusable Files: 8\n"
     ]
    },
    {
     "name": "stderr",
     "output_type": "stream",
     "text": [
      "Corrupt JPEG data: 3835 extraneous bytes before marker 0xd7\n"
     ]
    },
    {
     "name": "stdout",
     "output_type": "stream",
     "text": [
      "Usable Files: 107, Unusable Files: 8\n"
     ]
    },
    {
     "name": "stderr",
     "output_type": "stream",
     "text": [
      "Corrupt JPEG data: 4877 extraneous bytes before marker 0xd6\n"
     ]
    },
    {
     "name": "stdout",
     "output_type": "stream",
     "text": [
      "Usable Files: 107, Unusable Files: 9\n",
      "Usable Files: 107, Unusable Files: 10\n"
     ]
    },
    {
     "name": "stderr",
     "output_type": "stream",
     "text": [
      "Corrupt JPEG data: 3882 extraneous bytes before marker 0xd1\n"
     ]
    },
    {
     "name": "stdout",
     "output_type": "stream",
     "text": [
      "Usable Files: 108, Unusable Files: 10\n"
     ]
    },
    {
     "name": "stderr",
     "output_type": "stream",
     "text": [
      "Corrupt JPEG data: 4800 extraneous bytes before marker 0xd1\n"
     ]
    },
    {
     "name": "stdout",
     "output_type": "stream",
     "text": [
      "Usable Files: 109, Unusable Files: 10\n"
     ]
    },
    {
     "name": "stderr",
     "output_type": "stream",
     "text": [
      "Corrupt JPEG data: 4241 extraneous bytes before marker 0xd0\n"
     ]
    },
    {
     "name": "stdout",
     "output_type": "stream",
     "text": [
      "Usable Files: 110, Unusable Files: 10\n"
     ]
    },
    {
     "name": "stderr",
     "output_type": "stream",
     "text": [
      "Corrupt JPEG data: 3880 extraneous bytes before marker 0xd0\n"
     ]
    },
    {
     "name": "stdout",
     "output_type": "stream",
     "text": [
      "Usable Files: 111, Unusable Files: 10\n",
      "Usable Files: 111, Unusable Files: 11\n"
     ]
    },
    {
     "name": "stderr",
     "output_type": "stream",
     "text": [
      "Corrupt JPEG data: 4605 extraneous bytes before marker 0xd1\n",
      "Corrupt JPEG data: 4232 extraneous bytes before marker 0xd3\n"
     ]
    },
    {
     "name": "stdout",
     "output_type": "stream",
     "text": [
      "Usable Files: 112, Unusable Files: 11\n"
     ]
    },
    {
     "name": "stderr",
     "output_type": "stream",
     "text": [
      "Corrupt JPEG data: 4498 extraneous bytes before marker 0xd4\n"
     ]
    },
    {
     "name": "stdout",
     "output_type": "stream",
     "text": [
      "Usable Files: 113, Unusable Files: 11\n"
     ]
    },
    {
     "name": "stderr",
     "output_type": "stream",
     "text": [
      "Corrupt JPEG data: 4362 extraneous bytes before marker 0xd5\n"
     ]
    },
    {
     "name": "stdout",
     "output_type": "stream",
     "text": [
      "Usable Files: 114, Unusable Files: 11\n"
     ]
    },
    {
     "name": "stderr",
     "output_type": "stream",
     "text": [
      "Corrupt JPEG data: 4218 extraneous bytes before marker 0xd4\n"
     ]
    },
    {
     "name": "stdout",
     "output_type": "stream",
     "text": [
      "Usable Files: 115, Unusable Files: 11\n"
     ]
    },
    {
     "name": "stderr",
     "output_type": "stream",
     "text": [
      "Corrupt JPEG data: 4294 extraneous bytes before marker 0xd6\n"
     ]
    },
    {
     "name": "stdout",
     "output_type": "stream",
     "text": [
      "Usable Files: 116, Unusable Files: 11\n"
     ]
    },
    {
     "name": "stderr",
     "output_type": "stream",
     "text": [
      "Corrupt JPEG data: 4274 extraneous bytes before marker 0xd1\n"
     ]
    },
    {
     "name": "stdout",
     "output_type": "stream",
     "text": [
      "Usable Files: 117, Unusable Files: 11\n"
     ]
    },
    {
     "name": "stderr",
     "output_type": "stream",
     "text": [
      "Corrupt JPEG data: 5297 extraneous bytes before marker 0xd3\n"
     ]
    },
    {
     "name": "stdout",
     "output_type": "stream",
     "text": [
      "Usable Files: 118, Unusable Files: 11\n"
     ]
    },
    {
     "name": "stderr",
     "output_type": "stream",
     "text": [
      "Corrupt JPEG data: 3918 extraneous bytes before marker 0xd0\n"
     ]
    },
    {
     "name": "stdout",
     "output_type": "stream",
     "text": [
      "Usable Files: 119, Unusable Files: 11\n"
     ]
    },
    {
     "name": "stderr",
     "output_type": "stream",
     "text": [
      "Corrupt JPEG data: 4685 extraneous bytes before marker 0xd0\n"
     ]
    },
    {
     "name": "stdout",
     "output_type": "stream",
     "text": [
      "Usable Files: 120, Unusable Files: 11\n"
     ]
    },
    {
     "name": "stderr",
     "output_type": "stream",
     "text": [
      "Corrupt JPEG data: 4497 extraneous bytes before marker 0xd0\n"
     ]
    },
    {
     "name": "stdout",
     "output_type": "stream",
     "text": [
      "Usable Files: 121, Unusable Files: 11\n"
     ]
    },
    {
     "name": "stderr",
     "output_type": "stream",
     "text": [
      "Corrupt JPEG data: 5369 extraneous bytes before marker 0xd4\n"
     ]
    },
    {
     "name": "stdout",
     "output_type": "stream",
     "text": [
      "Usable Files: 122, Unusable Files: 11\n"
     ]
    },
    {
     "name": "stderr",
     "output_type": "stream",
     "text": [
      "Corrupt JPEG data: 5742 extraneous bytes before marker 0xd2\n"
     ]
    },
    {
     "name": "stdout",
     "output_type": "stream",
     "text": [
      "Usable Files: 123, Unusable Files: 11\n"
     ]
    },
    {
     "name": "stderr",
     "output_type": "stream",
     "text": [
      "Corrupt JPEG data: 4996 extraneous bytes before marker 0xd0\n"
     ]
    },
    {
     "name": "stdout",
     "output_type": "stream",
     "text": [
      "Usable Files: 124, Unusable Files: 11\n"
     ]
    },
    {
     "name": "stderr",
     "output_type": "stream",
     "text": [
      "Corrupt JPEG data: 4311 extraneous bytes before marker 0xd4\n"
     ]
    },
    {
     "name": "stdout",
     "output_type": "stream",
     "text": [
      "Usable Files: 125, Unusable Files: 11\n"
     ]
    },
    {
     "name": "stderr",
     "output_type": "stream",
     "text": [
      "Corrupt JPEG data: 5765 extraneous bytes before marker 0xd7\n"
     ]
    },
    {
     "name": "stdout",
     "output_type": "stream",
     "text": [
      "Usable Files: 126, Unusable Files: 11\n"
     ]
    },
    {
     "name": "stderr",
     "output_type": "stream",
     "text": [
      "Corrupt JPEG data: 4148 extraneous bytes before marker 0xd2\n"
     ]
    },
    {
     "name": "stdout",
     "output_type": "stream",
     "text": [
      "Usable Files: 127, Unusable Files: 11\n"
     ]
    },
    {
     "name": "stderr",
     "output_type": "stream",
     "text": [
      "Corrupt JPEG data: 4667 extraneous bytes before marker 0xd5\n"
     ]
    },
    {
     "name": "stdout",
     "output_type": "stream",
     "text": [
      "Usable Files: 128, Unusable Files: 11\n"
     ]
    },
    {
     "name": "stderr",
     "output_type": "stream",
     "text": [
      "Corrupt JPEG data: 6157 extraneous bytes before marker 0xd5\n"
     ]
    },
    {
     "name": "stdout",
     "output_type": "stream",
     "text": [
      "Usable Files: 129, Unusable Files: 11\n"
     ]
    },
    {
     "name": "stderr",
     "output_type": "stream",
     "text": [
      "Corrupt JPEG data: 5349 extraneous bytes before marker 0xd6\n"
     ]
    },
    {
     "name": "stdout",
     "output_type": "stream",
     "text": [
      "Usable Files: 130, Unusable Files: 11\n"
     ]
    },
    {
     "name": "stderr",
     "output_type": "stream",
     "text": [
      "Corrupt JPEG data: 5254 extraneous bytes before marker 0xd2\n"
     ]
    },
    {
     "name": "stdout",
     "output_type": "stream",
     "text": [
      "Usable Files: 131, Unusable Files: 11\n"
     ]
    },
    {
     "name": "stderr",
     "output_type": "stream",
     "text": [
      "Corrupt JPEG data: 3920 extraneous bytes before marker 0xd2\n"
     ]
    },
    {
     "name": "stdout",
     "output_type": "stream",
     "text": [
      "Usable Files: 132, Unusable Files: 11\n"
     ]
    },
    {
     "name": "stderr",
     "output_type": "stream",
     "text": [
      "Corrupt JPEG data: 4155 extraneous bytes before marker 0xd2\n"
     ]
    },
    {
     "name": "stdout",
     "output_type": "stream",
     "text": [
      "Usable Files: 133, Unusable Files: 11\n"
     ]
    },
    {
     "name": "stderr",
     "output_type": "stream",
     "text": [
      "Corrupt JPEG data: 4775 extraneous bytes before marker 0xd2\n"
     ]
    },
    {
     "name": "stdout",
     "output_type": "stream",
     "text": [
      "Usable Files: 134, Unusable Files: 11\n",
      "Usable Files: 134, Unusable Files: 12\n",
      "Usable Files: 134, Unusable Files: 13\n"
     ]
    },
    {
     "name": "stderr",
     "output_type": "stream",
     "text": [
      "Corrupt JPEG data: 5690 extraneous bytes before marker 0xd0\n",
      "Corrupt JPEG data: 14418 extraneous bytes before marker 0xd0\n"
     ]
    },
    {
     "name": "stdout",
     "output_type": "stream",
     "text": [
      "Usable Files: 134, Unusable Files: 14\n"
     ]
    },
    {
     "name": "stderr",
     "output_type": "stream",
     "text": [
      "Corrupt JPEG data: 4348 extraneous bytes before marker 0xd6\n"
     ]
    },
    {
     "name": "stdout",
     "output_type": "stream",
     "text": [
      "Usable Files: 135, Unusable Files: 14\n"
     ]
    },
    {
     "name": "stderr",
     "output_type": "stream",
     "text": [
      "Corrupt JPEG data: 5057 extraneous bytes before marker 0xd3\n"
     ]
    },
    {
     "name": "stdout",
     "output_type": "stream",
     "text": [
      "Usable Files: 136, Unusable Files: 14\n"
     ]
    },
    {
     "name": "stderr",
     "output_type": "stream",
     "text": [
      "Corrupt JPEG data: 5628 extraneous bytes before marker 0xd4\n"
     ]
    },
    {
     "name": "stdout",
     "output_type": "stream",
     "text": [
      "Usable Files: 137, Unusable Files: 14\n"
     ]
    },
    {
     "name": "stderr",
     "output_type": "stream",
     "text": [
      "Corrupt JPEG data: 3965 extraneous bytes before marker 0xd0\n"
     ]
    },
    {
     "name": "stdout",
     "output_type": "stream",
     "text": [
      "Usable Files: 138, Unusable Files: 14\n"
     ]
    },
    {
     "name": "stderr",
     "output_type": "stream",
     "text": [
      "Corrupt JPEG data: 4545 extraneous bytes before marker 0xd6\n"
     ]
    },
    {
     "name": "stdout",
     "output_type": "stream",
     "text": [
      "Usable Files: 139, Unusable Files: 14\n",
      "Usable Files: 140, Unusable Files: 14\n"
     ]
    },
    {
     "name": "stderr",
     "output_type": "stream",
     "text": [
      "Corrupt JPEG data: 5991 extraneous bytes before marker 0xd0\n"
     ]
    },
    {
     "name": "stdout",
     "output_type": "stream",
     "text": [
      "Usable Files: 140, Unusable Files: 15\n"
     ]
    },
    {
     "name": "stderr",
     "output_type": "stream",
     "text": [
      "Corrupt JPEG data: 4072 extraneous bytes before marker 0xd7\n"
     ]
    },
    {
     "name": "stdout",
     "output_type": "stream",
     "text": [
      "Usable Files: 141, Unusable Files: 15\n"
     ]
    },
    {
     "name": "stderr",
     "output_type": "stream",
     "text": [
      "Corrupt JPEG data: 4369 extraneous bytes before marker 0xd1\n"
     ]
    },
    {
     "name": "stdout",
     "output_type": "stream",
     "text": [
      "Usable Files: 142, Unusable Files: 15\n"
     ]
    },
    {
     "name": "stderr",
     "output_type": "stream",
     "text": [
      "Corrupt JPEG data: 5877 extraneous bytes before marker 0xd4\n"
     ]
    },
    {
     "name": "stdout",
     "output_type": "stream",
     "text": [
      "Usable Files: 142, Unusable Files: 16\n"
     ]
    },
    {
     "name": "stderr",
     "output_type": "stream",
     "text": [
      "Corrupt JPEG data: 6000 extraneous bytes before marker 0xd2\n"
     ]
    },
    {
     "name": "stdout",
     "output_type": "stream",
     "text": [
      "Usable Files: 143, Unusable Files: 16\n"
     ]
    },
    {
     "name": "stderr",
     "output_type": "stream",
     "text": [
      "Corrupt JPEG data: 4587 extraneous bytes before marker 0xd5\n"
     ]
    },
    {
     "name": "stdout",
     "output_type": "stream",
     "text": [
      "Usable Files: 144, Unusable Files: 16\n"
     ]
    },
    {
     "name": "stderr",
     "output_type": "stream",
     "text": [
      "Corrupt JPEG data: 4318 extraneous bytes before marker 0xd4\n"
     ]
    },
    {
     "name": "stdout",
     "output_type": "stream",
     "text": [
      "Usable Files: 145, Unusable Files: 16\n"
     ]
    },
    {
     "name": "stderr",
     "output_type": "stream",
     "text": [
      "Corrupt JPEG data: 4244 extraneous bytes before marker 0xd0\n"
     ]
    },
    {
     "name": "stdout",
     "output_type": "stream",
     "text": [
      "Usable Files: 146, Unusable Files: 16\n"
     ]
    },
    {
     "name": "stderr",
     "output_type": "stream",
     "text": [
      "Corrupt JPEG data: 3921 extraneous bytes before marker 0xd5\n"
     ]
    },
    {
     "name": "stdout",
     "output_type": "stream",
     "text": [
      "Usable Files: 147, Unusable Files: 16\n"
     ]
    },
    {
     "name": "stderr",
     "output_type": "stream",
     "text": [
      "Corrupt JPEG data: 4939 extraneous bytes before marker 0xd4\n"
     ]
    },
    {
     "name": "stdout",
     "output_type": "stream",
     "text": [
      "Usable Files: 148, Unusable Files: 16\n"
     ]
    },
    {
     "name": "stderr",
     "output_type": "stream",
     "text": [
      "Corrupt JPEG data: 8113 extraneous bytes before marker 0xd0\n"
     ]
    },
    {
     "name": "stdout",
     "output_type": "stream",
     "text": [
      "Usable Files: 149, Unusable Files: 16\n"
     ]
    },
    {
     "name": "stderr",
     "output_type": "stream",
     "text": [
      "Corrupt JPEG data: 4367 extraneous bytes before marker 0xd2\n"
     ]
    },
    {
     "name": "stdout",
     "output_type": "stream",
     "text": [
      "Usable Files: 150, Unusable Files: 16\n"
     ]
    },
    {
     "name": "stderr",
     "output_type": "stream",
     "text": [
      "Corrupt JPEG data: 4537 extraneous bytes before marker 0xd2\n"
     ]
    },
    {
     "name": "stdout",
     "output_type": "stream",
     "text": [
      "Usable Files: 151, Unusable Files: 16\n"
     ]
    },
    {
     "name": "stderr",
     "output_type": "stream",
     "text": [
      "Corrupt JPEG data: 4401 extraneous bytes before marker 0xd0\n"
     ]
    },
    {
     "name": "stdout",
     "output_type": "stream",
     "text": [
      "Usable Files: 152, Unusable Files: 16\n"
     ]
    },
    {
     "name": "stderr",
     "output_type": "stream",
     "text": [
      "Corrupt JPEG data: 4311 extraneous bytes before marker 0xd4\n"
     ]
    },
    {
     "name": "stdout",
     "output_type": "stream",
     "text": [
      "Usable Files: 153, Unusable Files: 16\n"
     ]
    },
    {
     "name": "stderr",
     "output_type": "stream",
     "text": [
      "Corrupt JPEG data: 4808 extraneous bytes before marker 0xd5\n"
     ]
    },
    {
     "name": "stdout",
     "output_type": "stream",
     "text": [
      "Usable Files: 154, Unusable Files: 16\n"
     ]
    },
    {
     "name": "stderr",
     "output_type": "stream",
     "text": [
      "Corrupt JPEG data: 4375 extraneous bytes before marker 0xd7\n"
     ]
    },
    {
     "name": "stdout",
     "output_type": "stream",
     "text": [
      "Usable Files: 155, Unusable Files: 16\n",
      "Usable Files: 155, Unusable Files: 17\n"
     ]
    },
    {
     "name": "stderr",
     "output_type": "stream",
     "text": [
      "Corrupt JPEG data: 3859 extraneous bytes before marker 0xd3\n",
      "Corrupt JPEG data: 4194 extraneous bytes before marker 0xd7\n"
     ]
    },
    {
     "name": "stdout",
     "output_type": "stream",
     "text": [
      "Usable Files: 156, Unusable Files: 17\n",
      "Usable Files: 156, Unusable Files: 18\n"
     ]
    },
    {
     "name": "stderr",
     "output_type": "stream",
     "text": [
      "Corrupt JPEG data: 5510 extraneous bytes before marker 0xd2\n"
     ]
    },
    {
     "name": "stdout",
     "output_type": "stream",
     "text": [
      "Usable Files: 157, Unusable Files: 18\n"
     ]
    },
    {
     "name": "stderr",
     "output_type": "stream",
     "text": [
      "Corrupt JPEG data: 4837 extraneous bytes before marker 0xd3\n"
     ]
    },
    {
     "name": "stdout",
     "output_type": "stream",
     "text": [
      "Usable Files: 158, Unusable Files: 18\n"
     ]
    },
    {
     "name": "stderr",
     "output_type": "stream",
     "text": [
      "Corrupt JPEG data: 4504 extraneous bytes before marker 0xd7\n"
     ]
    },
    {
     "name": "stdout",
     "output_type": "stream",
     "text": [
      "Usable Files: 159, Unusable Files: 18\n"
     ]
    },
    {
     "name": "stderr",
     "output_type": "stream",
     "text": [
      "Corrupt JPEG data: 4348 extraneous bytes before marker 0xd4\n"
     ]
    },
    {
     "name": "stdout",
     "output_type": "stream",
     "text": [
      "Usable Files: 160, Unusable Files: 18\n"
     ]
    },
    {
     "name": "stderr",
     "output_type": "stream",
     "text": [
      "Corrupt JPEG data: 5228 extraneous bytes before marker 0xd0\n"
     ]
    },
    {
     "name": "stdout",
     "output_type": "stream",
     "text": [
      "Usable Files: 161, Unusable Files: 18\n"
     ]
    },
    {
     "name": "stderr",
     "output_type": "stream",
     "text": [
      "Corrupt JPEG data: 4916 extraneous bytes before marker 0xd6\n"
     ]
    },
    {
     "name": "stdout",
     "output_type": "stream",
     "text": [
      "Usable Files: 162, Unusable Files: 18\n"
     ]
    },
    {
     "name": "stderr",
     "output_type": "stream",
     "text": [
      "Corrupt JPEG data: 5504 extraneous bytes before marker 0xd6\n"
     ]
    },
    {
     "name": "stdout",
     "output_type": "stream",
     "text": [
      "Usable Files: 163, Unusable Files: 18\n"
     ]
    },
    {
     "name": "stderr",
     "output_type": "stream",
     "text": [
      "Corrupt JPEG data: 5572 extraneous bytes before marker 0xd0\n"
     ]
    },
    {
     "name": "stdout",
     "output_type": "stream",
     "text": [
      "Usable Files: 164, Unusable Files: 18\n"
     ]
    },
    {
     "name": "stderr",
     "output_type": "stream",
     "text": [
      "Corrupt JPEG data: 5213 extraneous bytes before marker 0xd7\n"
     ]
    },
    {
     "name": "stdout",
     "output_type": "stream",
     "text": [
      "Usable Files: 165, Unusable Files: 18\n"
     ]
    },
    {
     "name": "stderr",
     "output_type": "stream",
     "text": [
      "Corrupt JPEG data: 5873 extraneous bytes before marker 0xd7\n"
     ]
    },
    {
     "name": "stdout",
     "output_type": "stream",
     "text": [
      "Usable Files: 166, Unusable Files: 18\n"
     ]
    },
    {
     "name": "stderr",
     "output_type": "stream",
     "text": [
      "Corrupt JPEG data: 5085 extraneous bytes before marker 0xd5\n"
     ]
    },
    {
     "name": "stdout",
     "output_type": "stream",
     "text": [
      "Usable Files: 167, Unusable Files: 18\n"
     ]
    },
    {
     "name": "stderr",
     "output_type": "stream",
     "text": [
      "Corrupt JPEG data: 4821 extraneous bytes before marker 0xd6\n"
     ]
    },
    {
     "name": "stdout",
     "output_type": "stream",
     "text": [
      "Usable Files: 168, Unusable Files: 18\n"
     ]
    },
    {
     "name": "stderr",
     "output_type": "stream",
     "text": [
      "Corrupt JPEG data: 4911 extraneous bytes before marker 0xd7\n"
     ]
    },
    {
     "name": "stdout",
     "output_type": "stream",
     "text": [
      "Usable Files: 169, Unusable Files: 18\n"
     ]
    },
    {
     "name": "stderr",
     "output_type": "stream",
     "text": [
      "Corrupt JPEG data: 4260 extraneous bytes before marker 0xd6\n"
     ]
    },
    {
     "name": "stdout",
     "output_type": "stream",
     "text": [
      "Usable Files: 170, Unusable Files: 18\n"
     ]
    },
    {
     "name": "stderr",
     "output_type": "stream",
     "text": [
      "Corrupt JPEG data: 5649 extraneous bytes before marker 0xd5\n"
     ]
    },
    {
     "name": "stdout",
     "output_type": "stream",
     "text": [
      "Usable Files: 171, Unusable Files: 18\n",
      "Usable Files: 171, Unusable Files: 19\n",
      "Usable Files: 172, Unusable Files: 19\n"
     ]
    },
    {
     "name": "stderr",
     "output_type": "stream",
     "text": [
      "Corrupt JPEG data: 4227 extraneous bytes before marker 0xd0\n"
     ]
    },
    {
     "name": "stdout",
     "output_type": "stream",
     "text": [
      "Usable Files: 172, Unusable Files: 20\n"
     ]
    },
    {
     "name": "stderr",
     "output_type": "stream",
     "text": [
      "Corrupt JPEG data: 5485 extraneous bytes before marker 0xd4\n"
     ]
    },
    {
     "name": "stdout",
     "output_type": "stream",
     "text": [
      "Usable Files: 173, Unusable Files: 20\n"
     ]
    },
    {
     "name": "stderr",
     "output_type": "stream",
     "text": [
      "Corrupt JPEG data: 5155 extraneous bytes before marker 0xd7\n"
     ]
    },
    {
     "name": "stdout",
     "output_type": "stream",
     "text": [
      "Usable Files: 174, Unusable Files: 20\n"
     ]
    },
    {
     "name": "stderr",
     "output_type": "stream",
     "text": [
      "Corrupt JPEG data: 4331 extraneous bytes before marker 0xd1\n"
     ]
    },
    {
     "name": "stdout",
     "output_type": "stream",
     "text": [
      "Usable Files: 175, Unusable Files: 20\n"
     ]
    },
    {
     "name": "stderr",
     "output_type": "stream",
     "text": [
      "Corrupt JPEG data: 5305 extraneous bytes before marker 0xd7\n"
     ]
    },
    {
     "name": "stdout",
     "output_type": "stream",
     "text": [
      "Usable Files: 176, Unusable Files: 20\n"
     ]
    },
    {
     "name": "stderr",
     "output_type": "stream",
     "text": [
      "Corrupt JPEG data: 5520 extraneous bytes before marker 0xd5\n"
     ]
    },
    {
     "name": "stdout",
     "output_type": "stream",
     "text": [
      "Usable Files: 177, Unusable Files: 20\n"
     ]
    },
    {
     "name": "stderr",
     "output_type": "stream",
     "text": [
      "Corrupt JPEG data: 5964 extraneous bytes before marker 0xd3\n"
     ]
    },
    {
     "name": "stdout",
     "output_type": "stream",
     "text": [
      "Usable Files: 178, Unusable Files: 20\n"
     ]
    },
    {
     "name": "stderr",
     "output_type": "stream",
     "text": [
      "Corrupt JPEG data: 4289 extraneous bytes before marker 0xd2\n"
     ]
    },
    {
     "name": "stdout",
     "output_type": "stream",
     "text": [
      "Usable Files: 179, Unusable Files: 20\n"
     ]
    },
    {
     "name": "stderr",
     "output_type": "stream",
     "text": [
      "Corrupt JPEG data: 4866 extraneous bytes before marker 0xd6\n"
     ]
    },
    {
     "ename": "KeyboardInterrupt",
     "evalue": "",
     "output_type": "error",
     "traceback": [
      "\u001b[0;31m---------------------------------------------------------------------------\u001b[0m",
      "\u001b[0;31mKeyboardInterrupt\u001b[0m                         Traceback (most recent call last)",
      "Cell \u001b[0;32mIn[6], line 1\u001b[0m\n\u001b[0;32m----> 1\u001b[0m image_processing(\u001b[38;5;124m\"\u001b[39m\u001b[38;5;124m/Users/titouanlegourrierec/Desktop/all_scan_data/all_090523\u001b[39m\u001b[38;5;124m\"\u001b[39m, \u001b[38;5;124m\"\u001b[39m\u001b[38;5;124m/Users/titouanlegourrierec/Desktop\u001b[39m\u001b[38;5;124m\"\u001b[39m)\n",
      "Cell \u001b[0;32mIn[5], line 73\u001b[0m, in \u001b[0;36mimage_processing\u001b[0;34m(entry_path, exit_path)\u001b[0m\n\u001b[1;32m     71\u001b[0m     cv2\u001b[38;5;241m.\u001b[39mimwrite(os\u001b[38;5;241m.\u001b[39mpath\u001b[38;5;241m.\u001b[39mjoin(unusable_file_path, \u001b[38;5;124mf\u001b[39m\u001b[38;5;124m\"\u001b[39m\u001b[38;5;124mUnusable_File_\u001b[39m\u001b[38;5;132;01m{\u001b[39;00mfilename\u001b[38;5;132;01m}\u001b[39;00m\u001b[38;5;124m\"\u001b[39m), img)\n\u001b[1;32m     72\u001b[0m \u001b[38;5;28;01melse\u001b[39;00m:\n\u001b[0;32m---> 73\u001b[0m     bounding_boxes \u001b[38;5;241m=\u001b[39m detect_leaves(img)\n\u001b[1;32m     74\u001b[0m     file_name_without_extension, extension \u001b[38;5;241m=\u001b[39m os\u001b[38;5;241m.\u001b[39mpath\u001b[38;5;241m.\u001b[39msplitext(os\u001b[38;5;241m.\u001b[39mpath\u001b[38;5;241m.\u001b[39mbasename(full_path))\n\u001b[1;32m     76\u001b[0m     \u001b[38;5;28;01mfor\u001b[39;00m j, box \u001b[38;5;129;01min\u001b[39;00m \u001b[38;5;28menumerate\u001b[39m(bounding_boxes):\n",
      "Cell \u001b[0;32mIn[2], line 119\u001b[0m, in \u001b[0;36mdetect_leaves\u001b[0;34m(input_image)\u001b[0m\n\u001b[1;32m    109\u001b[0m \u001b[38;5;250m\u001b[39m\u001b[38;5;124;03m\"\"\"\u001b[39;00m\n\u001b[1;32m    110\u001b[0m \u001b[38;5;124;03mDetects and returns bounding boxes around specific areas (leaves) in the input image.\u001b[39;00m\n\u001b[1;32m    111\u001b[0m \u001b[38;5;124;03m\u001b[39;00m\n\u001b[0;32m   (...)\u001b[0m\n\u001b[1;32m    116\u001b[0m \u001b[38;5;124;03mnumpy.ndarray: Array containing bounding boxes around leaves.\u001b[39;00m\n\u001b[1;32m    117\u001b[0m \u001b[38;5;124;03m\"\"\"\u001b[39;00m\n\u001b[1;32m    118\u001b[0m blurred_image \u001b[38;5;241m=\u001b[39m blur_image(input_image, BLUR_KERNEL_SIZE)\n\u001b[0;32m--> 119\u001b[0m processed_image \u001b[38;5;241m=\u001b[39m binarize_and_invert_image(blurred_image, BINARY_THRESHOLD, MAX_BINARY_VALUE, BINARY_INV_THRESHOLD)\n\u001b[1;32m    120\u001b[0m bounding_boxes \u001b[38;5;241m=\u001b[39m find_and_filter_contours(processed_image, THRESHOLD_AREA, MIN_WIDTH, MIN_HEIGHT)\n\u001b[1;32m    121\u001b[0m \u001b[38;5;28;01mreturn\u001b[39;00m bounding_boxes\n",
      "Cell \u001b[0;32mIn[2], line 65\u001b[0m, in \u001b[0;36mbinarize_and_invert_image\u001b[0;34m(image, bin_threshold, max_value, inv_threshold)\u001b[0m\n\u001b[1;32m     34\u001b[0m \u001b[38;5;250m\u001b[39m\u001b[38;5;124;03m\"\"\"\u001b[39;00m\n\u001b[1;32m     35\u001b[0m \u001b[38;5;124;03mBinarize and invert the image using specific thresholds.\u001b[39;00m\n\u001b[1;32m     36\u001b[0m \n\u001b[0;32m   (...)\u001b[0m\n\u001b[1;32m     62\u001b[0m \u001b[38;5;124;03m               of the input image.\u001b[39;00m\n\u001b[1;32m     63\u001b[0m \u001b[38;5;124;03m\"\"\"\u001b[39;00m\n\u001b[1;32m     64\u001b[0m _, binarized_image \u001b[38;5;241m=\u001b[39m cv2\u001b[38;5;241m.\u001b[39mthreshold(image, bin_threshold, max_value, cv2\u001b[38;5;241m.\u001b[39mTHRESH_BINARY)\n\u001b[0;32m---> 65\u001b[0m grayscale_image \u001b[38;5;241m=\u001b[39m cv2\u001b[38;5;241m.\u001b[39mcvtColor(binarized_image, cv2\u001b[38;5;241m.\u001b[39mCOLOR_BGR2GRAY)\n\u001b[1;32m     66\u001b[0m _, inverted_image \u001b[38;5;241m=\u001b[39m cv2\u001b[38;5;241m.\u001b[39mthreshold(grayscale_image, inv_threshold, max_value, cv2\u001b[38;5;241m.\u001b[39mTHRESH_BINARY_INV)\n\u001b[1;32m     68\u001b[0m \u001b[38;5;28;01mreturn\u001b[39;00m inverted_image\n",
      "\u001b[0;31mKeyboardInterrupt\u001b[0m: "
     ]
    }
   ],
   "source": [
    "image_processing(\"/Users/titouanlegourrierec/Desktop/all_scan_data/all_090523\", \"/Users/titouanlegourrierec/Desktop\")"
   ]
  }
 ],
 "metadata": {
  "kernelspec": {
   "display_name": "base",
   "language": "python",
   "name": "python3"
  },
  "language_info": {
   "codemirror_mode": {
    "name": "ipython",
    "version": 3
   },
   "file_extension": ".py",
   "mimetype": "text/x-python",
   "name": "python",
   "nbconvert_exporter": "python",
   "pygments_lexer": "ipython3",
   "version": "3.11.8"
  }
 },
 "nbformat": 4,
 "nbformat_minor": 2
}
